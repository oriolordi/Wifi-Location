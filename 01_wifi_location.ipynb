{
 "cells": [
  {
   "cell_type": "markdown",
   "metadata": {},
   "source": [
    "# Wifi location"
   ]
  },
  {
   "cell_type": "markdown",
   "metadata": {},
   "source": [
    "###### Oriol Ordi, February 2020"
   ]
  },
  {
   "cell_type": "markdown",
   "metadata": {},
   "source": [
    "# Table Of Content:\n",
    "\n",
    "* [1. Summary and Dataset Loading](#Summary)   \n",
    "* [2. Preprocessing](#Preprocessing)    \n",
    "* [3. Modelling](#Modelling) \n",
    "    * [3.1. Building](#Building)\n",
    "    * [3.2. Floor](#Floor)\n",
    "    * [3.1. Latitude](#Latitude)\n",
    "    * [3.1. Longitude](#Longitude)\n",
    "* [4. Results](#Results)"
   ]
  },
  {
   "cell_type": "markdown",
   "metadata": {},
   "source": [
    "## <a class=\"anchor\" id=\"Summary\"> 1. Summary and Dataset Loading </a>"
   ]
  },
  {
   "cell_type": "markdown",
   "metadata": {},
   "source": [
    "The goal of this project is to investigate the feasibility of using \"Wifi fingerprinting\" to determine a person's location in indoor spaces, where systems like GPS generally don't work, making the use of a different technology a necessity.  \n",
    "\n",
    "Wifi fingerprinting uses the signals from multiple wifi hotspots within a space to determine location, analogously to how GPS uses satellite signals.  \n",
    "\n",
    "Using a large database of Wifi fingerprints on a multi-building industrial campus with a location (building, floor, and location ID) associated with each fingerprint, the project will focus on evaluating multiple machine learning models (together with several pre-processing techniques) to see which produces the best result to be incorporated into a smartphone app for indoor locationing."
   ]
  },
  {
   "cell_type": "markdown",
   "metadata": {},
   "source": [
    "### Function to hide cell code (ignore this please)"
   ]
  },
  {
   "cell_type": "code",
   "execution_count": 1,
   "metadata": {
    "ExecuteTime": {
     "end_time": "2020-03-25T18:01:41.461603Z",
     "start_time": "2020-03-25T18:01:41.440617Z"
    }
   },
   "outputs": [
    {
     "data": {
      "text/html": [
       "\n",
       "        <script>\n",
       "            function code_toggle_6673499798757814993() {\n",
       "                $('div.cell.code_cell.rendered.selected').find('div.input').toggle();\n",
       "            }\n",
       "\n",
       "            \n",
       "        </script>\n",
       "\n",
       "        <a href=\"javascript:code_toggle_6673499798757814993()\">Toggle show/hide upper code</a>\n",
       "    "
      ],
      "text/plain": [
       "<IPython.core.display.HTML object>"
      ]
     },
     "execution_count": 1,
     "metadata": {},
     "output_type": "execute_result"
    }
   ],
   "source": [
    "# ---- FUNCTION TO HIDE CELL CODE ----#\n",
    "\n",
    "from IPython.display import HTML\n",
    "import random\n",
    "\n",
    "def hide_toggle(for_next=False):\n",
    "    this_cell = \"\"\"$('div.cell.code_cell.rendered.selected')\"\"\"\n",
    "    next_cell = this_cell + '.next()'\n",
    "\n",
    "    toggle_text = 'Toggle show/hide upper code'  # text shown on toggle link\n",
    "    target_cell = this_cell  # target cell to control with toggle\n",
    "    js_hide_current = ''  # bit of JS to permanently hide code in current cell (only when toggling next cell)\n",
    "\n",
    "    if for_next:\n",
    "        target_cell = next_cell\n",
    "        toggle_text += ' next cell'\n",
    "        js_hide_current = this_cell + '.find(\"div.input\").hide();'\n",
    "\n",
    "    js_f_name = 'code_toggle_{}'.format(str(random.randint(1,2**64)))\n",
    "\n",
    "    html = \"\"\"\n",
    "        <script>\n",
    "            function {f_name}() {{\n",
    "                {cell_selector}.find('div.input').toggle();\n",
    "            }}\n",
    "\n",
    "            {js_hide_current}\n",
    "        </script>\n",
    "\n",
    "        <a href=\"javascript:{f_name}()\">{toggle_text}</a>\n",
    "    \"\"\".format(\n",
    "        f_name=js_f_name,\n",
    "        cell_selector=target_cell,\n",
    "        js_hide_current=js_hide_current, \n",
    "        toggle_text=toggle_text\n",
    "    )\n",
    "\n",
    "    return HTML(html)\n",
    "hide_toggle()"
   ]
  },
  {
   "cell_type": "markdown",
   "metadata": {},
   "source": [
    "### Load the necessary libraries"
   ]
  },
  {
   "cell_type": "code",
   "execution_count": 2,
   "metadata": {
    "ExecuteTime": {
     "end_time": "2020-03-25T18:01:45.781099Z",
     "start_time": "2020-03-25T18:01:42.395501Z"
    }
   },
   "outputs": [
    {
     "data": {
      "text/html": [
       "\n",
       "        <script>\n",
       "            function code_toggle_15953055861517133962() {\n",
       "                $('div.cell.code_cell.rendered.selected').find('div.input').toggle();\n",
       "            }\n",
       "\n",
       "            \n",
       "        </script>\n",
       "\n",
       "        <a href=\"javascript:code_toggle_15953055861517133962()\">Toggle show/hide upper code</a>\n",
       "    "
      ],
      "text/plain": [
       "<IPython.core.display.HTML object>"
      ]
     },
     "execution_count": 2,
     "metadata": {},
     "output_type": "execute_result"
    }
   ],
   "source": [
    "# Load libraries\n",
    "import pandas as pd\n",
    "import numpy as np\n",
    "import matplotlib.pyplot as plt\n",
    "from sklearn.model_selection import train_test_split\n",
    "from sklearn.model_selection import cross_val_score\n",
    "from sklearn.model_selection import StratifiedKFold\n",
    "from sklearn.model_selection import KFold\n",
    "#from sklearn.metrics import classification_report\n",
    "#from sklearn.metrics import confusion_matrix\n",
    "#from sklearn.metrics import accuracy_score\n",
    "from sklearn import metrics\n",
    "from sklearn.linear_model import LogisticRegression\n",
    "from sklearn.tree import DecisionTreeClassifier\n",
    "from sklearn.neighbors import KNeighborsClassifier\n",
    "from sklearn.discriminant_analysis import LinearDiscriminantAnalysis\n",
    "from sklearn.naive_bayes import GaussianNB\n",
    "from sklearn.svm import SVC\n",
    "from sklearn.ensemble import RandomForestClassifier\n",
    "from sklearn.tree import DecisionTreeRegressor\n",
    "from sklearn.neighbors import KNeighborsRegressor\n",
    "from sklearn.ensemble import RandomForestRegressor\n",
    "from sklearn.ensemble import GradientBoostingRegressor\n",
    "from sklearn.ensemble import GradientBoostingClassifier\n",
    "from sklearn.model_selection import GridSearchCV\n",
    "from sklearn.model_selection import RandomizedSearchCV\n",
    "import time\n",
    "from math import sqrt\n",
    "from math import pi\n",
    "import seaborn as sns\n",
    "from sklearn.preprocessing import MinMaxScaler\n",
    "from sklearn.feature_selection import VarianceThreshold\n",
    "from sklearn.decomposition import PCA\n",
    "\n",
    "hide_toggle()"
   ]
  },
  {
   "cell_type": "markdown",
   "metadata": {},
   "source": [
    "### Reminder of how to access rows and columns of a dataframe (ignore this please)"
   ]
  },
  {
   "cell_type": "code",
   "execution_count": 3,
   "metadata": {
    "ExecuteTime": {
     "end_time": "2020-03-25T18:01:45.804065Z",
     "start_time": "2020-03-25T18:01:45.796070Z"
    }
   },
   "outputs": [
    {
     "data": {
      "text/html": [
       "\n",
       "        <script>\n",
       "            function code_toggle_14146679027387866057() {\n",
       "                $('div.cell.code_cell.rendered.selected').find('div.input').toggle();\n",
       "            }\n",
       "\n",
       "            \n",
       "        </script>\n",
       "\n",
       "        <a href=\"javascript:code_toggle_14146679027387866057()\">Toggle show/hide upper code</a>\n",
       "    "
      ],
      "text/plain": [
       "<IPython.core.display.HTML object>"
      ]
     },
     "execution_count": 3,
     "metadata": {},
     "output_type": "execute_result"
    }
   ],
   "source": [
    "# Reminder of how to access the rows and the columns of a dataframe (as well as their length)\n",
    "\n",
    "# Access the rows\n",
    "#####df.index\n",
    "# Access the columns\n",
    "#####df.columns\n",
    "# Access the number of rows\n",
    "#####len(df.index)\n",
    "# Access the number of columns\n",
    "######len(df.columns)\n",
    "\n",
    "hide_toggle()"
   ]
  },
  {
   "cell_type": "markdown",
   "metadata": {},
   "source": [
    "### Load the datasets and make a copy of them to work with"
   ]
  },
  {
   "cell_type": "code",
   "execution_count": 4,
   "metadata": {
    "ExecuteTime": {
     "end_time": "2020-03-25T18:01:47.605055Z",
     "start_time": "2020-03-25T18:01:45.818057Z"
    }
   },
   "outputs": [
    {
     "data": {
      "text/html": [
       "\n",
       "        <script>\n",
       "            function code_toggle_4363599655871643259() {\n",
       "                $('div.cell.code_cell.rendered.selected').find('div.input').toggle();\n",
       "            }\n",
       "\n",
       "            \n",
       "        </script>\n",
       "\n",
       "        <a href=\"javascript:code_toggle_4363599655871643259()\">Toggle show/hide upper code</a>\n",
       "    "
      ],
      "text/plain": [
       "<IPython.core.display.HTML object>"
      ]
     },
     "execution_count": 4,
     "metadata": {},
     "output_type": "execute_result"
    }
   ],
   "source": [
    "# Load the datasets\n",
    "path_training = 'datasets/trainingData.csv'\n",
    "path_validation = 'datasets/validationData.csv'\n",
    "dataset_training = pd.read_csv(path_training)\n",
    "dataset_validation = pd.read_csv(path_validation)\n",
    "\n",
    "hide_toggle()"
   ]
  },
  {
   "cell_type": "code",
   "execution_count": 5,
   "metadata": {
    "ExecuteTime": {
     "end_time": "2020-03-25T18:01:47.786932Z",
     "start_time": "2020-03-25T18:01:47.738958Z"
    }
   },
   "outputs": [
    {
     "data": {
      "text/html": [
       "\n",
       "        <script>\n",
       "            function code_toggle_17810333201199299837() {\n",
       "                $('div.cell.code_cell.rendered.selected').find('div.input').toggle();\n",
       "            }\n",
       "\n",
       "            \n",
       "        </script>\n",
       "\n",
       "        <a href=\"javascript:code_toggle_17810333201199299837()\">Toggle show/hide upper code</a>\n",
       "    "
      ],
      "text/plain": [
       "<IPython.core.display.HTML object>"
      ]
     },
     "execution_count": 5,
     "metadata": {},
     "output_type": "execute_result"
    }
   ],
   "source": [
    "# Make a copy of the training dataset to work with\n",
    "df = dataset_training.copy()\n",
    "df_val = dataset_validation.copy()\n",
    "\n",
    "hide_toggle()"
   ]
  },
  {
   "cell_type": "markdown",
   "metadata": {},
   "source": [
    "## <a class=\"anchor\" id=\"Preprocessing\"> 2. Preprocessing </a>"
   ]
  },
  {
   "cell_type": "markdown",
   "metadata": {},
   "source": [
    "### Remove unusable columns"
   ]
  },
  {
   "cell_type": "markdown",
   "metadata": {},
   "source": [
    "The SPACEID and the RELATIVEPOSITION are missing in the validation set. Thus, both columns are removed from both datasets since they will not be able to be used in the prediction."
   ]
  },
  {
   "cell_type": "code",
   "execution_count": 6,
   "metadata": {},
   "outputs": [
    {
     "data": {
      "text/html": [
       "\n",
       "        <script>\n",
       "            function code_toggle_10119584453496804843() {\n",
       "                $('div.cell.code_cell.rendered.selected').find('div.input').toggle();\n",
       "            }\n",
       "\n",
       "            \n",
       "        </script>\n",
       "\n",
       "        <a href=\"javascript:code_toggle_10119584453496804843()\">Toggle show/hide upper code</a>\n",
       "    "
      ],
      "text/plain": [
       "<IPython.core.display.HTML object>"
      ]
     },
     "execution_count": 6,
     "metadata": {},
     "output_type": "execute_result"
    }
   ],
   "source": [
    "# Drop the SPACEID and RELATIVEPOSITION columns\n",
    "df = df.drop(['SPACEID','RELATIVEPOSITION'], axis=1)\n",
    "df_val = df_val.drop(['SPACEID','RELATIVEPOSITION'], axis=1)\n",
    "\n",
    "hide_toggle()"
   ]
  },
  {
   "cell_type": "markdown",
   "metadata": {},
   "source": [
    "### Check the data types and change the necessary ones"
   ]
  },
  {
   "cell_type": "code",
   "execution_count": 7,
   "metadata": {},
   "outputs": [
    {
     "data": {
      "text/html": [
       "<div>\n",
       "<style scoped>\n",
       "    .dataframe tbody tr th:only-of-type {\n",
       "        vertical-align: middle;\n",
       "    }\n",
       "\n",
       "    .dataframe tbody tr th {\n",
       "        vertical-align: top;\n",
       "    }\n",
       "\n",
       "    .dataframe thead th {\n",
       "        text-align: right;\n",
       "    }\n",
       "</style>\n",
       "<table border=\"1\" class=\"dataframe\">\n",
       "  <thead>\n",
       "    <tr style=\"text-align: right;\">\n",
       "      <th></th>\n",
       "      <th>WAP001</th>\n",
       "      <th>WAP002</th>\n",
       "      <th>WAP003</th>\n",
       "      <th>WAP004</th>\n",
       "      <th>WAP005</th>\n",
       "      <th>WAP006</th>\n",
       "      <th>WAP007</th>\n",
       "      <th>WAP008</th>\n",
       "      <th>WAP009</th>\n",
       "      <th>WAP010</th>\n",
       "      <th>WAP011</th>\n",
       "      <th>WAP012</th>\n",
       "      <th>WAP013</th>\n",
       "      <th>WAP014</th>\n",
       "      <th>WAP015</th>\n",
       "      <th>WAP016</th>\n",
       "      <th>WAP017</th>\n",
       "      <th>WAP018</th>\n",
       "      <th>WAP019</th>\n",
       "      <th>WAP020</th>\n",
       "      <th>WAP021</th>\n",
       "      <th>WAP022</th>\n",
       "      <th>WAP023</th>\n",
       "      <th>WAP024</th>\n",
       "      <th>WAP025</th>\n",
       "      <th>WAP026</th>\n",
       "      <th>WAP027</th>\n",
       "      <th>WAP028</th>\n",
       "      <th>WAP029</th>\n",
       "      <th>WAP030</th>\n",
       "      <th>WAP031</th>\n",
       "      <th>WAP032</th>\n",
       "      <th>WAP033</th>\n",
       "      <th>WAP034</th>\n",
       "      <th>WAP035</th>\n",
       "      <th>WAP036</th>\n",
       "      <th>WAP037</th>\n",
       "      <th>WAP038</th>\n",
       "      <th>WAP039</th>\n",
       "      <th>WAP040</th>\n",
       "      <th>WAP041</th>\n",
       "      <th>WAP042</th>\n",
       "      <th>WAP043</th>\n",
       "      <th>WAP044</th>\n",
       "      <th>WAP045</th>\n",
       "      <th>WAP046</th>\n",
       "      <th>WAP047</th>\n",
       "      <th>WAP048</th>\n",
       "      <th>WAP049</th>\n",
       "      <th>WAP050</th>\n",
       "      <th>WAP051</th>\n",
       "      <th>WAP052</th>\n",
       "      <th>WAP053</th>\n",
       "      <th>WAP054</th>\n",
       "      <th>WAP055</th>\n",
       "      <th>WAP056</th>\n",
       "      <th>WAP057</th>\n",
       "      <th>WAP058</th>\n",
       "      <th>WAP059</th>\n",
       "      <th>WAP060</th>\n",
       "      <th>WAP061</th>\n",
       "      <th>WAP062</th>\n",
       "      <th>WAP063</th>\n",
       "      <th>WAP064</th>\n",
       "      <th>WAP065</th>\n",
       "      <th>WAP066</th>\n",
       "      <th>WAP067</th>\n",
       "      <th>WAP068</th>\n",
       "      <th>WAP069</th>\n",
       "      <th>WAP070</th>\n",
       "      <th>WAP071</th>\n",
       "      <th>WAP072</th>\n",
       "      <th>WAP073</th>\n",
       "      <th>WAP074</th>\n",
       "      <th>WAP075</th>\n",
       "      <th>WAP076</th>\n",
       "      <th>WAP077</th>\n",
       "      <th>WAP078</th>\n",
       "      <th>WAP079</th>\n",
       "      <th>WAP080</th>\n",
       "      <th>WAP081</th>\n",
       "      <th>WAP082</th>\n",
       "      <th>WAP083</th>\n",
       "      <th>WAP084</th>\n",
       "      <th>WAP085</th>\n",
       "      <th>WAP086</th>\n",
       "      <th>WAP087</th>\n",
       "      <th>WAP088</th>\n",
       "      <th>WAP089</th>\n",
       "      <th>WAP090</th>\n",
       "      <th>WAP091</th>\n",
       "      <th>WAP092</th>\n",
       "      <th>WAP093</th>\n",
       "      <th>WAP094</th>\n",
       "      <th>WAP095</th>\n",
       "      <th>WAP096</th>\n",
       "      <th>WAP097</th>\n",
       "      <th>WAP098</th>\n",
       "      <th>WAP099</th>\n",
       "      <th>WAP100</th>\n",
       "      <th>WAP101</th>\n",
       "      <th>WAP102</th>\n",
       "      <th>WAP103</th>\n",
       "      <th>WAP104</th>\n",
       "      <th>WAP105</th>\n",
       "      <th>WAP106</th>\n",
       "      <th>WAP107</th>\n",
       "      <th>WAP108</th>\n",
       "      <th>WAP109</th>\n",
       "      <th>WAP110</th>\n",
       "      <th>WAP111</th>\n",
       "      <th>WAP112</th>\n",
       "      <th>WAP113</th>\n",
       "      <th>WAP114</th>\n",
       "      <th>WAP115</th>\n",
       "      <th>WAP116</th>\n",
       "      <th>WAP117</th>\n",
       "      <th>WAP118</th>\n",
       "      <th>WAP119</th>\n",
       "      <th>WAP120</th>\n",
       "      <th>WAP121</th>\n",
       "      <th>WAP122</th>\n",
       "      <th>WAP123</th>\n",
       "      <th>WAP124</th>\n",
       "      <th>WAP125</th>\n",
       "      <th>WAP126</th>\n",
       "      <th>WAP127</th>\n",
       "      <th>WAP128</th>\n",
       "      <th>WAP129</th>\n",
       "      <th>WAP130</th>\n",
       "      <th>WAP131</th>\n",
       "      <th>WAP132</th>\n",
       "      <th>WAP133</th>\n",
       "      <th>WAP134</th>\n",
       "      <th>WAP135</th>\n",
       "      <th>WAP136</th>\n",
       "      <th>WAP137</th>\n",
       "      <th>WAP138</th>\n",
       "      <th>WAP139</th>\n",
       "      <th>WAP140</th>\n",
       "      <th>WAP141</th>\n",
       "      <th>WAP142</th>\n",
       "      <th>WAP143</th>\n",
       "      <th>WAP144</th>\n",
       "      <th>WAP145</th>\n",
       "      <th>WAP146</th>\n",
       "      <th>WAP147</th>\n",
       "      <th>WAP148</th>\n",
       "      <th>WAP149</th>\n",
       "      <th>WAP150</th>\n",
       "      <th>WAP151</th>\n",
       "      <th>WAP152</th>\n",
       "      <th>WAP153</th>\n",
       "      <th>WAP154</th>\n",
       "      <th>WAP155</th>\n",
       "      <th>WAP156</th>\n",
       "      <th>WAP157</th>\n",
       "      <th>WAP158</th>\n",
       "      <th>WAP159</th>\n",
       "      <th>WAP160</th>\n",
       "      <th>WAP161</th>\n",
       "      <th>WAP162</th>\n",
       "      <th>WAP163</th>\n",
       "      <th>WAP164</th>\n",
       "      <th>WAP165</th>\n",
       "      <th>WAP166</th>\n",
       "      <th>WAP167</th>\n",
       "      <th>WAP168</th>\n",
       "      <th>WAP169</th>\n",
       "      <th>WAP170</th>\n",
       "      <th>WAP171</th>\n",
       "      <th>WAP172</th>\n",
       "      <th>WAP173</th>\n",
       "      <th>WAP174</th>\n",
       "      <th>WAP175</th>\n",
       "      <th>WAP176</th>\n",
       "      <th>WAP177</th>\n",
       "      <th>WAP178</th>\n",
       "      <th>WAP179</th>\n",
       "      <th>WAP180</th>\n",
       "      <th>WAP181</th>\n",
       "      <th>WAP182</th>\n",
       "      <th>WAP183</th>\n",
       "      <th>WAP184</th>\n",
       "      <th>WAP185</th>\n",
       "      <th>WAP186</th>\n",
       "      <th>WAP187</th>\n",
       "      <th>WAP188</th>\n",
       "      <th>WAP189</th>\n",
       "      <th>WAP190</th>\n",
       "      <th>WAP191</th>\n",
       "      <th>WAP192</th>\n",
       "      <th>WAP193</th>\n",
       "      <th>WAP194</th>\n",
       "      <th>WAP195</th>\n",
       "      <th>WAP196</th>\n",
       "      <th>WAP197</th>\n",
       "      <th>WAP198</th>\n",
       "      <th>WAP199</th>\n",
       "      <th>WAP200</th>\n",
       "      <th>WAP201</th>\n",
       "      <th>WAP202</th>\n",
       "      <th>WAP203</th>\n",
       "      <th>WAP204</th>\n",
       "      <th>WAP205</th>\n",
       "      <th>WAP206</th>\n",
       "      <th>WAP207</th>\n",
       "      <th>WAP208</th>\n",
       "      <th>WAP209</th>\n",
       "      <th>WAP210</th>\n",
       "      <th>WAP211</th>\n",
       "      <th>WAP212</th>\n",
       "      <th>WAP213</th>\n",
       "      <th>WAP214</th>\n",
       "      <th>WAP215</th>\n",
       "      <th>WAP216</th>\n",
       "      <th>WAP217</th>\n",
       "      <th>WAP218</th>\n",
       "      <th>WAP219</th>\n",
       "      <th>WAP220</th>\n",
       "      <th>WAP221</th>\n",
       "      <th>WAP222</th>\n",
       "      <th>WAP223</th>\n",
       "      <th>WAP224</th>\n",
       "      <th>WAP225</th>\n",
       "      <th>WAP226</th>\n",
       "      <th>WAP227</th>\n",
       "      <th>WAP228</th>\n",
       "      <th>WAP229</th>\n",
       "      <th>WAP230</th>\n",
       "      <th>WAP231</th>\n",
       "      <th>WAP232</th>\n",
       "      <th>WAP233</th>\n",
       "      <th>WAP234</th>\n",
       "      <th>WAP235</th>\n",
       "      <th>WAP236</th>\n",
       "      <th>WAP237</th>\n",
       "      <th>WAP238</th>\n",
       "      <th>WAP239</th>\n",
       "      <th>WAP240</th>\n",
       "      <th>WAP241</th>\n",
       "      <th>WAP242</th>\n",
       "      <th>WAP243</th>\n",
       "      <th>WAP244</th>\n",
       "      <th>WAP245</th>\n",
       "      <th>WAP246</th>\n",
       "      <th>WAP247</th>\n",
       "      <th>WAP248</th>\n",
       "      <th>WAP249</th>\n",
       "      <th>WAP250</th>\n",
       "      <th>WAP251</th>\n",
       "      <th>WAP252</th>\n",
       "      <th>WAP253</th>\n",
       "      <th>WAP254</th>\n",
       "      <th>WAP255</th>\n",
       "      <th>WAP256</th>\n",
       "      <th>WAP257</th>\n",
       "      <th>WAP258</th>\n",
       "      <th>WAP259</th>\n",
       "      <th>WAP260</th>\n",
       "      <th>WAP261</th>\n",
       "      <th>WAP262</th>\n",
       "      <th>WAP263</th>\n",
       "      <th>WAP264</th>\n",
       "      <th>WAP265</th>\n",
       "      <th>WAP266</th>\n",
       "      <th>WAP267</th>\n",
       "      <th>WAP268</th>\n",
       "      <th>WAP269</th>\n",
       "      <th>WAP270</th>\n",
       "      <th>WAP271</th>\n",
       "      <th>WAP272</th>\n",
       "      <th>WAP273</th>\n",
       "      <th>WAP274</th>\n",
       "      <th>WAP275</th>\n",
       "      <th>WAP276</th>\n",
       "      <th>WAP277</th>\n",
       "      <th>WAP278</th>\n",
       "      <th>WAP279</th>\n",
       "      <th>WAP280</th>\n",
       "      <th>WAP281</th>\n",
       "      <th>WAP282</th>\n",
       "      <th>WAP283</th>\n",
       "      <th>WAP284</th>\n",
       "      <th>WAP285</th>\n",
       "      <th>WAP286</th>\n",
       "      <th>WAP287</th>\n",
       "      <th>WAP288</th>\n",
       "      <th>WAP289</th>\n",
       "      <th>WAP290</th>\n",
       "      <th>WAP291</th>\n",
       "      <th>WAP292</th>\n",
       "      <th>WAP293</th>\n",
       "      <th>WAP294</th>\n",
       "      <th>WAP295</th>\n",
       "      <th>WAP296</th>\n",
       "      <th>WAP297</th>\n",
       "      <th>WAP298</th>\n",
       "      <th>WAP299</th>\n",
       "      <th>WAP300</th>\n",
       "      <th>WAP301</th>\n",
       "      <th>WAP302</th>\n",
       "      <th>WAP303</th>\n",
       "      <th>WAP304</th>\n",
       "      <th>WAP305</th>\n",
       "      <th>WAP306</th>\n",
       "      <th>WAP307</th>\n",
       "      <th>WAP308</th>\n",
       "      <th>WAP309</th>\n",
       "      <th>WAP310</th>\n",
       "      <th>WAP311</th>\n",
       "      <th>WAP312</th>\n",
       "      <th>WAP313</th>\n",
       "      <th>WAP314</th>\n",
       "      <th>WAP315</th>\n",
       "      <th>WAP316</th>\n",
       "      <th>WAP317</th>\n",
       "      <th>WAP318</th>\n",
       "      <th>WAP319</th>\n",
       "      <th>WAP320</th>\n",
       "      <th>WAP321</th>\n",
       "      <th>WAP322</th>\n",
       "      <th>WAP323</th>\n",
       "      <th>WAP324</th>\n",
       "      <th>WAP325</th>\n",
       "      <th>WAP326</th>\n",
       "      <th>WAP327</th>\n",
       "      <th>WAP328</th>\n",
       "      <th>WAP329</th>\n",
       "      <th>WAP330</th>\n",
       "      <th>WAP331</th>\n",
       "      <th>WAP332</th>\n",
       "      <th>WAP333</th>\n",
       "      <th>WAP334</th>\n",
       "      <th>WAP335</th>\n",
       "      <th>WAP336</th>\n",
       "      <th>WAP337</th>\n",
       "      <th>WAP338</th>\n",
       "      <th>WAP339</th>\n",
       "      <th>WAP340</th>\n",
       "      <th>WAP341</th>\n",
       "      <th>WAP342</th>\n",
       "      <th>WAP343</th>\n",
       "      <th>WAP344</th>\n",
       "      <th>WAP345</th>\n",
       "      <th>WAP346</th>\n",
       "      <th>WAP347</th>\n",
       "      <th>WAP348</th>\n",
       "      <th>WAP349</th>\n",
       "      <th>WAP350</th>\n",
       "      <th>WAP351</th>\n",
       "      <th>WAP352</th>\n",
       "      <th>WAP353</th>\n",
       "      <th>WAP354</th>\n",
       "      <th>WAP355</th>\n",
       "      <th>WAP356</th>\n",
       "      <th>WAP357</th>\n",
       "      <th>WAP358</th>\n",
       "      <th>WAP359</th>\n",
       "      <th>WAP360</th>\n",
       "      <th>WAP361</th>\n",
       "      <th>WAP362</th>\n",
       "      <th>WAP363</th>\n",
       "      <th>WAP364</th>\n",
       "      <th>WAP365</th>\n",
       "      <th>WAP366</th>\n",
       "      <th>WAP367</th>\n",
       "      <th>WAP368</th>\n",
       "      <th>WAP369</th>\n",
       "      <th>WAP370</th>\n",
       "      <th>WAP371</th>\n",
       "      <th>WAP372</th>\n",
       "      <th>WAP373</th>\n",
       "      <th>WAP374</th>\n",
       "      <th>WAP375</th>\n",
       "      <th>WAP376</th>\n",
       "      <th>WAP377</th>\n",
       "      <th>WAP378</th>\n",
       "      <th>WAP379</th>\n",
       "      <th>WAP380</th>\n",
       "      <th>WAP381</th>\n",
       "      <th>WAP382</th>\n",
       "      <th>WAP383</th>\n",
       "      <th>WAP384</th>\n",
       "      <th>WAP385</th>\n",
       "      <th>WAP386</th>\n",
       "      <th>WAP387</th>\n",
       "      <th>WAP388</th>\n",
       "      <th>WAP389</th>\n",
       "      <th>WAP390</th>\n",
       "      <th>WAP391</th>\n",
       "      <th>WAP392</th>\n",
       "      <th>WAP393</th>\n",
       "      <th>WAP394</th>\n",
       "      <th>WAP395</th>\n",
       "      <th>WAP396</th>\n",
       "      <th>WAP397</th>\n",
       "      <th>WAP398</th>\n",
       "      <th>WAP399</th>\n",
       "      <th>WAP400</th>\n",
       "      <th>WAP401</th>\n",
       "      <th>WAP402</th>\n",
       "      <th>WAP403</th>\n",
       "      <th>WAP404</th>\n",
       "      <th>WAP405</th>\n",
       "      <th>WAP406</th>\n",
       "      <th>WAP407</th>\n",
       "      <th>WAP408</th>\n",
       "      <th>WAP409</th>\n",
       "      <th>WAP410</th>\n",
       "      <th>WAP411</th>\n",
       "      <th>WAP412</th>\n",
       "      <th>WAP413</th>\n",
       "      <th>WAP414</th>\n",
       "      <th>WAP415</th>\n",
       "      <th>WAP416</th>\n",
       "      <th>WAP417</th>\n",
       "      <th>WAP418</th>\n",
       "      <th>WAP419</th>\n",
       "      <th>WAP420</th>\n",
       "      <th>WAP421</th>\n",
       "      <th>WAP422</th>\n",
       "      <th>WAP423</th>\n",
       "      <th>WAP424</th>\n",
       "      <th>WAP425</th>\n",
       "      <th>WAP426</th>\n",
       "      <th>WAP427</th>\n",
       "      <th>WAP428</th>\n",
       "      <th>WAP429</th>\n",
       "      <th>WAP430</th>\n",
       "      <th>WAP431</th>\n",
       "      <th>WAP432</th>\n",
       "      <th>WAP433</th>\n",
       "      <th>WAP434</th>\n",
       "      <th>WAP435</th>\n",
       "      <th>WAP436</th>\n",
       "      <th>WAP437</th>\n",
       "      <th>WAP438</th>\n",
       "      <th>WAP439</th>\n",
       "      <th>WAP440</th>\n",
       "      <th>WAP441</th>\n",
       "      <th>WAP442</th>\n",
       "      <th>WAP443</th>\n",
       "      <th>WAP444</th>\n",
       "      <th>WAP445</th>\n",
       "      <th>WAP446</th>\n",
       "      <th>WAP447</th>\n",
       "      <th>WAP448</th>\n",
       "      <th>WAP449</th>\n",
       "      <th>WAP450</th>\n",
       "      <th>WAP451</th>\n",
       "      <th>WAP452</th>\n",
       "      <th>WAP453</th>\n",
       "      <th>WAP454</th>\n",
       "      <th>WAP455</th>\n",
       "      <th>WAP456</th>\n",
       "      <th>WAP457</th>\n",
       "      <th>WAP458</th>\n",
       "      <th>WAP459</th>\n",
       "      <th>WAP460</th>\n",
       "      <th>WAP461</th>\n",
       "      <th>WAP462</th>\n",
       "      <th>WAP463</th>\n",
       "      <th>WAP464</th>\n",
       "      <th>WAP465</th>\n",
       "      <th>WAP466</th>\n",
       "      <th>WAP467</th>\n",
       "      <th>WAP468</th>\n",
       "      <th>WAP469</th>\n",
       "      <th>WAP470</th>\n",
       "      <th>WAP471</th>\n",
       "      <th>WAP472</th>\n",
       "      <th>WAP473</th>\n",
       "      <th>WAP474</th>\n",
       "      <th>WAP475</th>\n",
       "      <th>WAP476</th>\n",
       "      <th>WAP477</th>\n",
       "      <th>WAP478</th>\n",
       "      <th>WAP479</th>\n",
       "      <th>WAP480</th>\n",
       "      <th>WAP481</th>\n",
       "      <th>WAP482</th>\n",
       "      <th>WAP483</th>\n",
       "      <th>WAP484</th>\n",
       "      <th>WAP485</th>\n",
       "      <th>WAP486</th>\n",
       "      <th>WAP487</th>\n",
       "      <th>WAP488</th>\n",
       "      <th>WAP489</th>\n",
       "      <th>WAP490</th>\n",
       "      <th>WAP491</th>\n",
       "      <th>WAP492</th>\n",
       "      <th>WAP493</th>\n",
       "      <th>WAP494</th>\n",
       "      <th>WAP495</th>\n",
       "      <th>WAP496</th>\n",
       "      <th>WAP497</th>\n",
       "      <th>WAP498</th>\n",
       "      <th>WAP499</th>\n",
       "      <th>WAP500</th>\n",
       "      <th>WAP501</th>\n",
       "      <th>WAP502</th>\n",
       "      <th>WAP503</th>\n",
       "      <th>WAP504</th>\n",
       "      <th>WAP505</th>\n",
       "      <th>WAP506</th>\n",
       "      <th>WAP507</th>\n",
       "      <th>WAP508</th>\n",
       "      <th>WAP509</th>\n",
       "      <th>WAP510</th>\n",
       "      <th>WAP511</th>\n",
       "      <th>WAP512</th>\n",
       "      <th>WAP513</th>\n",
       "      <th>WAP514</th>\n",
       "      <th>WAP515</th>\n",
       "      <th>WAP516</th>\n",
       "      <th>WAP517</th>\n",
       "      <th>WAP518</th>\n",
       "      <th>WAP519</th>\n",
       "      <th>WAP520</th>\n",
       "      <th>LONGITUDE</th>\n",
       "      <th>LATITUDE</th>\n",
       "      <th>FLOOR</th>\n",
       "      <th>BUILDINGID</th>\n",
       "      <th>USERID</th>\n",
       "      <th>PHONEID</th>\n",
       "      <th>TIMESTAMP</th>\n",
       "    </tr>\n",
       "  </thead>\n",
       "  <tbody>\n",
       "    <tr>\n",
       "      <td>0</td>\n",
       "      <td>int64</td>\n",
       "      <td>int64</td>\n",
       "      <td>int64</td>\n",
       "      <td>int64</td>\n",
       "      <td>int64</td>\n",
       "      <td>int64</td>\n",
       "      <td>int64</td>\n",
       "      <td>int64</td>\n",
       "      <td>int64</td>\n",
       "      <td>int64</td>\n",
       "      <td>int64</td>\n",
       "      <td>int64</td>\n",
       "      <td>int64</td>\n",
       "      <td>int64</td>\n",
       "      <td>int64</td>\n",
       "      <td>int64</td>\n",
       "      <td>int64</td>\n",
       "      <td>int64</td>\n",
       "      <td>int64</td>\n",
       "      <td>int64</td>\n",
       "      <td>int64</td>\n",
       "      <td>int64</td>\n",
       "      <td>int64</td>\n",
       "      <td>int64</td>\n",
       "      <td>int64</td>\n",
       "      <td>int64</td>\n",
       "      <td>int64</td>\n",
       "      <td>int64</td>\n",
       "      <td>int64</td>\n",
       "      <td>int64</td>\n",
       "      <td>int64</td>\n",
       "      <td>int64</td>\n",
       "      <td>int64</td>\n",
       "      <td>int64</td>\n",
       "      <td>int64</td>\n",
       "      <td>int64</td>\n",
       "      <td>int64</td>\n",
       "      <td>int64</td>\n",
       "      <td>int64</td>\n",
       "      <td>int64</td>\n",
       "      <td>int64</td>\n",
       "      <td>int64</td>\n",
       "      <td>int64</td>\n",
       "      <td>int64</td>\n",
       "      <td>int64</td>\n",
       "      <td>int64</td>\n",
       "      <td>int64</td>\n",
       "      <td>int64</td>\n",
       "      <td>int64</td>\n",
       "      <td>int64</td>\n",
       "      <td>int64</td>\n",
       "      <td>int64</td>\n",
       "      <td>int64</td>\n",
       "      <td>int64</td>\n",
       "      <td>int64</td>\n",
       "      <td>int64</td>\n",
       "      <td>int64</td>\n",
       "      <td>int64</td>\n",
       "      <td>int64</td>\n",
       "      <td>int64</td>\n",
       "      <td>int64</td>\n",
       "      <td>int64</td>\n",
       "      <td>int64</td>\n",
       "      <td>int64</td>\n",
       "      <td>int64</td>\n",
       "      <td>int64</td>\n",
       "      <td>int64</td>\n",
       "      <td>int64</td>\n",
       "      <td>int64</td>\n",
       "      <td>int64</td>\n",
       "      <td>int64</td>\n",
       "      <td>int64</td>\n",
       "      <td>int64</td>\n",
       "      <td>int64</td>\n",
       "      <td>int64</td>\n",
       "      <td>int64</td>\n",
       "      <td>int64</td>\n",
       "      <td>int64</td>\n",
       "      <td>int64</td>\n",
       "      <td>int64</td>\n",
       "      <td>int64</td>\n",
       "      <td>int64</td>\n",
       "      <td>int64</td>\n",
       "      <td>int64</td>\n",
       "      <td>int64</td>\n",
       "      <td>int64</td>\n",
       "      <td>int64</td>\n",
       "      <td>int64</td>\n",
       "      <td>int64</td>\n",
       "      <td>int64</td>\n",
       "      <td>int64</td>\n",
       "      <td>int64</td>\n",
       "      <td>int64</td>\n",
       "      <td>int64</td>\n",
       "      <td>int64</td>\n",
       "      <td>int64</td>\n",
       "      <td>int64</td>\n",
       "      <td>int64</td>\n",
       "      <td>int64</td>\n",
       "      <td>int64</td>\n",
       "      <td>int64</td>\n",
       "      <td>int64</td>\n",
       "      <td>int64</td>\n",
       "      <td>int64</td>\n",
       "      <td>int64</td>\n",
       "      <td>int64</td>\n",
       "      <td>int64</td>\n",
       "      <td>int64</td>\n",
       "      <td>int64</td>\n",
       "      <td>int64</td>\n",
       "      <td>int64</td>\n",
       "      <td>int64</td>\n",
       "      <td>int64</td>\n",
       "      <td>int64</td>\n",
       "      <td>int64</td>\n",
       "      <td>int64</td>\n",
       "      <td>int64</td>\n",
       "      <td>int64</td>\n",
       "      <td>int64</td>\n",
       "      <td>int64</td>\n",
       "      <td>int64</td>\n",
       "      <td>int64</td>\n",
       "      <td>int64</td>\n",
       "      <td>int64</td>\n",
       "      <td>int64</td>\n",
       "      <td>int64</td>\n",
       "      <td>int64</td>\n",
       "      <td>int64</td>\n",
       "      <td>int64</td>\n",
       "      <td>int64</td>\n",
       "      <td>int64</td>\n",
       "      <td>int64</td>\n",
       "      <td>int64</td>\n",
       "      <td>int64</td>\n",
       "      <td>int64</td>\n",
       "      <td>int64</td>\n",
       "      <td>int64</td>\n",
       "      <td>int64</td>\n",
       "      <td>int64</td>\n",
       "      <td>int64</td>\n",
       "      <td>int64</td>\n",
       "      <td>int64</td>\n",
       "      <td>int64</td>\n",
       "      <td>int64</td>\n",
       "      <td>int64</td>\n",
       "      <td>int64</td>\n",
       "      <td>int64</td>\n",
       "      <td>int64</td>\n",
       "      <td>int64</td>\n",
       "      <td>int64</td>\n",
       "      <td>int64</td>\n",
       "      <td>int64</td>\n",
       "      <td>int64</td>\n",
       "      <td>int64</td>\n",
       "      <td>int64</td>\n",
       "      <td>int64</td>\n",
       "      <td>int64</td>\n",
       "      <td>int64</td>\n",
       "      <td>int64</td>\n",
       "      <td>int64</td>\n",
       "      <td>int64</td>\n",
       "      <td>int64</td>\n",
       "      <td>int64</td>\n",
       "      <td>int64</td>\n",
       "      <td>int64</td>\n",
       "      <td>int64</td>\n",
       "      <td>int64</td>\n",
       "      <td>int64</td>\n",
       "      <td>int64</td>\n",
       "      <td>int64</td>\n",
       "      <td>int64</td>\n",
       "      <td>int64</td>\n",
       "      <td>int64</td>\n",
       "      <td>int64</td>\n",
       "      <td>int64</td>\n",
       "      <td>int64</td>\n",
       "      <td>int64</td>\n",
       "      <td>int64</td>\n",
       "      <td>int64</td>\n",
       "      <td>int64</td>\n",
       "      <td>int64</td>\n",
       "      <td>int64</td>\n",
       "      <td>int64</td>\n",
       "      <td>int64</td>\n",
       "      <td>int64</td>\n",
       "      <td>int64</td>\n",
       "      <td>int64</td>\n",
       "      <td>int64</td>\n",
       "      <td>int64</td>\n",
       "      <td>int64</td>\n",
       "      <td>int64</td>\n",
       "      <td>int64</td>\n",
       "      <td>int64</td>\n",
       "      <td>int64</td>\n",
       "      <td>int64</td>\n",
       "      <td>int64</td>\n",
       "      <td>int64</td>\n",
       "      <td>int64</td>\n",
       "      <td>int64</td>\n",
       "      <td>int64</td>\n",
       "      <td>int64</td>\n",
       "      <td>int64</td>\n",
       "      <td>int64</td>\n",
       "      <td>int64</td>\n",
       "      <td>int64</td>\n",
       "      <td>int64</td>\n",
       "      <td>int64</td>\n",
       "      <td>int64</td>\n",
       "      <td>int64</td>\n",
       "      <td>int64</td>\n",
       "      <td>int64</td>\n",
       "      <td>int64</td>\n",
       "      <td>int64</td>\n",
       "      <td>int64</td>\n",
       "      <td>int64</td>\n",
       "      <td>int64</td>\n",
       "      <td>int64</td>\n",
       "      <td>int64</td>\n",
       "      <td>int64</td>\n",
       "      <td>int64</td>\n",
       "      <td>int64</td>\n",
       "      <td>int64</td>\n",
       "      <td>int64</td>\n",
       "      <td>int64</td>\n",
       "      <td>int64</td>\n",
       "      <td>int64</td>\n",
       "      <td>int64</td>\n",
       "      <td>int64</td>\n",
       "      <td>int64</td>\n",
       "      <td>int64</td>\n",
       "      <td>int64</td>\n",
       "      <td>int64</td>\n",
       "      <td>int64</td>\n",
       "      <td>int64</td>\n",
       "      <td>int64</td>\n",
       "      <td>int64</td>\n",
       "      <td>int64</td>\n",
       "      <td>int64</td>\n",
       "      <td>int64</td>\n",
       "      <td>int64</td>\n",
       "      <td>int64</td>\n",
       "      <td>int64</td>\n",
       "      <td>int64</td>\n",
       "      <td>int64</td>\n",
       "      <td>int64</td>\n",
       "      <td>int64</td>\n",
       "      <td>int64</td>\n",
       "      <td>int64</td>\n",
       "      <td>int64</td>\n",
       "      <td>int64</td>\n",
       "      <td>int64</td>\n",
       "      <td>int64</td>\n",
       "      <td>int64</td>\n",
       "      <td>int64</td>\n",
       "      <td>int64</td>\n",
       "      <td>int64</td>\n",
       "      <td>int64</td>\n",
       "      <td>int64</td>\n",
       "      <td>int64</td>\n",
       "      <td>int64</td>\n",
       "      <td>int64</td>\n",
       "      <td>int64</td>\n",
       "      <td>int64</td>\n",
       "      <td>int64</td>\n",
       "      <td>int64</td>\n",
       "      <td>int64</td>\n",
       "      <td>int64</td>\n",
       "      <td>int64</td>\n",
       "      <td>int64</td>\n",
       "      <td>int64</td>\n",
       "      <td>int64</td>\n",
       "      <td>int64</td>\n",
       "      <td>int64</td>\n",
       "      <td>int64</td>\n",
       "      <td>int64</td>\n",
       "      <td>int64</td>\n",
       "      <td>int64</td>\n",
       "      <td>int64</td>\n",
       "      <td>int64</td>\n",
       "      <td>int64</td>\n",
       "      <td>int64</td>\n",
       "      <td>int64</td>\n",
       "      <td>int64</td>\n",
       "      <td>int64</td>\n",
       "      <td>int64</td>\n",
       "      <td>int64</td>\n",
       "      <td>int64</td>\n",
       "      <td>int64</td>\n",
       "      <td>int64</td>\n",
       "      <td>int64</td>\n",
       "      <td>int64</td>\n",
       "      <td>int64</td>\n",
       "      <td>int64</td>\n",
       "      <td>int64</td>\n",
       "      <td>int64</td>\n",
       "      <td>int64</td>\n",
       "      <td>int64</td>\n",
       "      <td>int64</td>\n",
       "      <td>int64</td>\n",
       "      <td>int64</td>\n",
       "      <td>int64</td>\n",
       "      <td>int64</td>\n",
       "      <td>int64</td>\n",
       "      <td>int64</td>\n",
       "      <td>int64</td>\n",
       "      <td>int64</td>\n",
       "      <td>int64</td>\n",
       "      <td>int64</td>\n",
       "      <td>int64</td>\n",
       "      <td>int64</td>\n",
       "      <td>int64</td>\n",
       "      <td>int64</td>\n",
       "      <td>int64</td>\n",
       "      <td>int64</td>\n",
       "      <td>int64</td>\n",
       "      <td>int64</td>\n",
       "      <td>int64</td>\n",
       "      <td>int64</td>\n",
       "      <td>int64</td>\n",
       "      <td>int64</td>\n",
       "      <td>int64</td>\n",
       "      <td>int64</td>\n",
       "      <td>int64</td>\n",
       "      <td>int64</td>\n",
       "      <td>int64</td>\n",
       "      <td>int64</td>\n",
       "      <td>int64</td>\n",
       "      <td>int64</td>\n",
       "      <td>int64</td>\n",
       "      <td>int64</td>\n",
       "      <td>int64</td>\n",
       "      <td>int64</td>\n",
       "      <td>int64</td>\n",
       "      <td>int64</td>\n",
       "      <td>int64</td>\n",
       "      <td>int64</td>\n",
       "      <td>int64</td>\n",
       "      <td>int64</td>\n",
       "      <td>int64</td>\n",
       "      <td>int64</td>\n",
       "      <td>int64</td>\n",
       "      <td>int64</td>\n",
       "      <td>int64</td>\n",
       "      <td>int64</td>\n",
       "      <td>int64</td>\n",
       "      <td>int64</td>\n",
       "      <td>int64</td>\n",
       "      <td>int64</td>\n",
       "      <td>int64</td>\n",
       "      <td>int64</td>\n",
       "      <td>int64</td>\n",
       "      <td>int64</td>\n",
       "      <td>int64</td>\n",
       "      <td>int64</td>\n",
       "      <td>int64</td>\n",
       "      <td>int64</td>\n",
       "      <td>int64</td>\n",
       "      <td>int64</td>\n",
       "      <td>int64</td>\n",
       "      <td>int64</td>\n",
       "      <td>int64</td>\n",
       "      <td>int64</td>\n",
       "      <td>int64</td>\n",
       "      <td>int64</td>\n",
       "      <td>int64</td>\n",
       "      <td>int64</td>\n",
       "      <td>int64</td>\n",
       "      <td>int64</td>\n",
       "      <td>int64</td>\n",
       "      <td>int64</td>\n",
       "      <td>int64</td>\n",
       "      <td>int64</td>\n",
       "      <td>int64</td>\n",
       "      <td>int64</td>\n",
       "      <td>int64</td>\n",
       "      <td>int64</td>\n",
       "      <td>int64</td>\n",
       "      <td>int64</td>\n",
       "      <td>int64</td>\n",
       "      <td>int64</td>\n",
       "      <td>int64</td>\n",
       "      <td>int64</td>\n",
       "      <td>int64</td>\n",
       "      <td>int64</td>\n",
       "      <td>int64</td>\n",
       "      <td>int64</td>\n",
       "      <td>int64</td>\n",
       "      <td>int64</td>\n",
       "      <td>int64</td>\n",
       "      <td>int64</td>\n",
       "      <td>int64</td>\n",
       "      <td>int64</td>\n",
       "      <td>int64</td>\n",
       "      <td>int64</td>\n",
       "      <td>int64</td>\n",
       "      <td>int64</td>\n",
       "      <td>int64</td>\n",
       "      <td>int64</td>\n",
       "      <td>int64</td>\n",
       "      <td>int64</td>\n",
       "      <td>int64</td>\n",
       "      <td>int64</td>\n",
       "      <td>int64</td>\n",
       "      <td>int64</td>\n",
       "      <td>int64</td>\n",
       "      <td>int64</td>\n",
       "      <td>int64</td>\n",
       "      <td>int64</td>\n",
       "      <td>int64</td>\n",
       "      <td>int64</td>\n",
       "      <td>int64</td>\n",
       "      <td>int64</td>\n",
       "      <td>int64</td>\n",
       "      <td>int64</td>\n",
       "      <td>int64</td>\n",
       "      <td>int64</td>\n",
       "      <td>int64</td>\n",
       "      <td>int64</td>\n",
       "      <td>int64</td>\n",
       "      <td>int64</td>\n",
       "      <td>int64</td>\n",
       "      <td>int64</td>\n",
       "      <td>int64</td>\n",
       "      <td>int64</td>\n",
       "      <td>int64</td>\n",
       "      <td>int64</td>\n",
       "      <td>int64</td>\n",
       "      <td>int64</td>\n",
       "      <td>int64</td>\n",
       "      <td>int64</td>\n",
       "      <td>int64</td>\n",
       "      <td>int64</td>\n",
       "      <td>int64</td>\n",
       "      <td>int64</td>\n",
       "      <td>int64</td>\n",
       "      <td>int64</td>\n",
       "      <td>int64</td>\n",
       "      <td>int64</td>\n",
       "      <td>int64</td>\n",
       "      <td>int64</td>\n",
       "      <td>int64</td>\n",
       "      <td>int64</td>\n",
       "      <td>int64</td>\n",
       "      <td>int64</td>\n",
       "      <td>int64</td>\n",
       "      <td>int64</td>\n",
       "      <td>int64</td>\n",
       "      <td>int64</td>\n",
       "      <td>int64</td>\n",
       "      <td>int64</td>\n",
       "      <td>int64</td>\n",
       "      <td>int64</td>\n",
       "      <td>int64</td>\n",
       "      <td>int64</td>\n",
       "      <td>int64</td>\n",
       "      <td>int64</td>\n",
       "      <td>int64</td>\n",
       "      <td>int64</td>\n",
       "      <td>int64</td>\n",
       "      <td>int64</td>\n",
       "      <td>int64</td>\n",
       "      <td>int64</td>\n",
       "      <td>int64</td>\n",
       "      <td>int64</td>\n",
       "      <td>int64</td>\n",
       "      <td>int64</td>\n",
       "      <td>int64</td>\n",
       "      <td>int64</td>\n",
       "      <td>int64</td>\n",
       "      <td>int64</td>\n",
       "      <td>int64</td>\n",
       "      <td>int64</td>\n",
       "      <td>int64</td>\n",
       "      <td>int64</td>\n",
       "      <td>int64</td>\n",
       "      <td>int64</td>\n",
       "      <td>int64</td>\n",
       "      <td>int64</td>\n",
       "      <td>int64</td>\n",
       "      <td>int64</td>\n",
       "      <td>int64</td>\n",
       "      <td>int64</td>\n",
       "      <td>int64</td>\n",
       "      <td>int64</td>\n",
       "      <td>int64</td>\n",
       "      <td>int64</td>\n",
       "      <td>int64</td>\n",
       "      <td>int64</td>\n",
       "      <td>int64</td>\n",
       "      <td>int64</td>\n",
       "      <td>int64</td>\n",
       "      <td>int64</td>\n",
       "      <td>int64</td>\n",
       "      <td>int64</td>\n",
       "      <td>int64</td>\n",
       "      <td>int64</td>\n",
       "      <td>int64</td>\n",
       "      <td>int64</td>\n",
       "      <td>int64</td>\n",
       "      <td>int64</td>\n",
       "      <td>int64</td>\n",
       "      <td>int64</td>\n",
       "      <td>int64</td>\n",
       "      <td>int64</td>\n",
       "      <td>int64</td>\n",
       "      <td>int64</td>\n",
       "      <td>int64</td>\n",
       "      <td>int64</td>\n",
       "      <td>int64</td>\n",
       "      <td>int64</td>\n",
       "      <td>int64</td>\n",
       "      <td>int64</td>\n",
       "      <td>int64</td>\n",
       "      <td>int64</td>\n",
       "      <td>int64</td>\n",
       "      <td>int64</td>\n",
       "      <td>int64</td>\n",
       "      <td>int64</td>\n",
       "      <td>int64</td>\n",
       "      <td>int64</td>\n",
       "      <td>float64</td>\n",
       "      <td>float64</td>\n",
       "      <td>int64</td>\n",
       "      <td>int64</td>\n",
       "      <td>int64</td>\n",
       "      <td>int64</td>\n",
       "      <td>int64</td>\n",
       "    </tr>\n",
       "  </tbody>\n",
       "</table>\n",
       "</div>"
      ],
      "text/plain": [
       "  WAP001 WAP002 WAP003 WAP004 WAP005 WAP006 WAP007 WAP008 WAP009 WAP010  \\\n",
       "0  int64  int64  int64  int64  int64  int64  int64  int64  int64  int64   \n",
       "\n",
       "  WAP011 WAP012 WAP013 WAP014 WAP015 WAP016 WAP017 WAP018 WAP019 WAP020  \\\n",
       "0  int64  int64  int64  int64  int64  int64  int64  int64  int64  int64   \n",
       "\n",
       "  WAP021 WAP022 WAP023 WAP024 WAP025 WAP026 WAP027 WAP028 WAP029 WAP030  \\\n",
       "0  int64  int64  int64  int64  int64  int64  int64  int64  int64  int64   \n",
       "\n",
       "  WAP031 WAP032 WAP033 WAP034 WAP035 WAP036 WAP037 WAP038 WAP039 WAP040  \\\n",
       "0  int64  int64  int64  int64  int64  int64  int64  int64  int64  int64   \n",
       "\n",
       "  WAP041 WAP042 WAP043 WAP044 WAP045 WAP046 WAP047 WAP048 WAP049 WAP050  \\\n",
       "0  int64  int64  int64  int64  int64  int64  int64  int64  int64  int64   \n",
       "\n",
       "  WAP051 WAP052 WAP053 WAP054 WAP055 WAP056 WAP057 WAP058 WAP059 WAP060  \\\n",
       "0  int64  int64  int64  int64  int64  int64  int64  int64  int64  int64   \n",
       "\n",
       "  WAP061 WAP062 WAP063 WAP064 WAP065 WAP066 WAP067 WAP068 WAP069 WAP070  \\\n",
       "0  int64  int64  int64  int64  int64  int64  int64  int64  int64  int64   \n",
       "\n",
       "  WAP071 WAP072 WAP073 WAP074 WAP075 WAP076 WAP077 WAP078 WAP079 WAP080  \\\n",
       "0  int64  int64  int64  int64  int64  int64  int64  int64  int64  int64   \n",
       "\n",
       "  WAP081 WAP082 WAP083 WAP084 WAP085 WAP086 WAP087 WAP088 WAP089 WAP090  \\\n",
       "0  int64  int64  int64  int64  int64  int64  int64  int64  int64  int64   \n",
       "\n",
       "  WAP091 WAP092 WAP093 WAP094 WAP095 WAP096 WAP097 WAP098 WAP099 WAP100  \\\n",
       "0  int64  int64  int64  int64  int64  int64  int64  int64  int64  int64   \n",
       "\n",
       "  WAP101 WAP102 WAP103 WAP104 WAP105 WAP106 WAP107 WAP108 WAP109 WAP110  \\\n",
       "0  int64  int64  int64  int64  int64  int64  int64  int64  int64  int64   \n",
       "\n",
       "  WAP111 WAP112 WAP113 WAP114 WAP115 WAP116 WAP117 WAP118 WAP119 WAP120  \\\n",
       "0  int64  int64  int64  int64  int64  int64  int64  int64  int64  int64   \n",
       "\n",
       "  WAP121 WAP122 WAP123 WAP124 WAP125 WAP126 WAP127 WAP128 WAP129 WAP130  \\\n",
       "0  int64  int64  int64  int64  int64  int64  int64  int64  int64  int64   \n",
       "\n",
       "  WAP131 WAP132 WAP133 WAP134 WAP135 WAP136 WAP137 WAP138 WAP139 WAP140  \\\n",
       "0  int64  int64  int64  int64  int64  int64  int64  int64  int64  int64   \n",
       "\n",
       "  WAP141 WAP142 WAP143 WAP144 WAP145 WAP146 WAP147 WAP148 WAP149 WAP150  \\\n",
       "0  int64  int64  int64  int64  int64  int64  int64  int64  int64  int64   \n",
       "\n",
       "  WAP151 WAP152 WAP153 WAP154 WAP155 WAP156 WAP157 WAP158 WAP159 WAP160  \\\n",
       "0  int64  int64  int64  int64  int64  int64  int64  int64  int64  int64   \n",
       "\n",
       "  WAP161 WAP162 WAP163 WAP164 WAP165 WAP166 WAP167 WAP168 WAP169 WAP170  \\\n",
       "0  int64  int64  int64  int64  int64  int64  int64  int64  int64  int64   \n",
       "\n",
       "  WAP171 WAP172 WAP173 WAP174 WAP175 WAP176 WAP177 WAP178 WAP179 WAP180  \\\n",
       "0  int64  int64  int64  int64  int64  int64  int64  int64  int64  int64   \n",
       "\n",
       "  WAP181 WAP182 WAP183 WAP184 WAP185 WAP186 WAP187 WAP188 WAP189 WAP190  \\\n",
       "0  int64  int64  int64  int64  int64  int64  int64  int64  int64  int64   \n",
       "\n",
       "  WAP191 WAP192 WAP193 WAP194 WAP195 WAP196 WAP197 WAP198 WAP199 WAP200  \\\n",
       "0  int64  int64  int64  int64  int64  int64  int64  int64  int64  int64   \n",
       "\n",
       "  WAP201 WAP202 WAP203 WAP204 WAP205 WAP206 WAP207 WAP208 WAP209 WAP210  \\\n",
       "0  int64  int64  int64  int64  int64  int64  int64  int64  int64  int64   \n",
       "\n",
       "  WAP211 WAP212 WAP213 WAP214 WAP215 WAP216 WAP217 WAP218 WAP219 WAP220  \\\n",
       "0  int64  int64  int64  int64  int64  int64  int64  int64  int64  int64   \n",
       "\n",
       "  WAP221 WAP222 WAP223 WAP224 WAP225 WAP226 WAP227 WAP228 WAP229 WAP230  \\\n",
       "0  int64  int64  int64  int64  int64  int64  int64  int64  int64  int64   \n",
       "\n",
       "  WAP231 WAP232 WAP233 WAP234 WAP235 WAP236 WAP237 WAP238 WAP239 WAP240  \\\n",
       "0  int64  int64  int64  int64  int64  int64  int64  int64  int64  int64   \n",
       "\n",
       "  WAP241 WAP242 WAP243 WAP244 WAP245 WAP246 WAP247 WAP248 WAP249 WAP250  \\\n",
       "0  int64  int64  int64  int64  int64  int64  int64  int64  int64  int64   \n",
       "\n",
       "  WAP251 WAP252 WAP253 WAP254 WAP255 WAP256 WAP257 WAP258 WAP259 WAP260  \\\n",
       "0  int64  int64  int64  int64  int64  int64  int64  int64  int64  int64   \n",
       "\n",
       "  WAP261 WAP262 WAP263 WAP264 WAP265 WAP266 WAP267 WAP268 WAP269 WAP270  \\\n",
       "0  int64  int64  int64  int64  int64  int64  int64  int64  int64  int64   \n",
       "\n",
       "  WAP271 WAP272 WAP273 WAP274 WAP275 WAP276 WAP277 WAP278 WAP279 WAP280  \\\n",
       "0  int64  int64  int64  int64  int64  int64  int64  int64  int64  int64   \n",
       "\n",
       "  WAP281 WAP282 WAP283 WAP284 WAP285 WAP286 WAP287 WAP288 WAP289 WAP290  \\\n",
       "0  int64  int64  int64  int64  int64  int64  int64  int64  int64  int64   \n",
       "\n",
       "  WAP291 WAP292 WAP293 WAP294 WAP295 WAP296 WAP297 WAP298 WAP299 WAP300  \\\n",
       "0  int64  int64  int64  int64  int64  int64  int64  int64  int64  int64   \n",
       "\n",
       "  WAP301 WAP302 WAP303 WAP304 WAP305 WAP306 WAP307 WAP308 WAP309 WAP310  \\\n",
       "0  int64  int64  int64  int64  int64  int64  int64  int64  int64  int64   \n",
       "\n",
       "  WAP311 WAP312 WAP313 WAP314 WAP315 WAP316 WAP317 WAP318 WAP319 WAP320  \\\n",
       "0  int64  int64  int64  int64  int64  int64  int64  int64  int64  int64   \n",
       "\n",
       "  WAP321 WAP322 WAP323 WAP324 WAP325 WAP326 WAP327 WAP328 WAP329 WAP330  \\\n",
       "0  int64  int64  int64  int64  int64  int64  int64  int64  int64  int64   \n",
       "\n",
       "  WAP331 WAP332 WAP333 WAP334 WAP335 WAP336 WAP337 WAP338 WAP339 WAP340  \\\n",
       "0  int64  int64  int64  int64  int64  int64  int64  int64  int64  int64   \n",
       "\n",
       "  WAP341 WAP342 WAP343 WAP344 WAP345 WAP346 WAP347 WAP348 WAP349 WAP350  \\\n",
       "0  int64  int64  int64  int64  int64  int64  int64  int64  int64  int64   \n",
       "\n",
       "  WAP351 WAP352 WAP353 WAP354 WAP355 WAP356 WAP357 WAP358 WAP359 WAP360  \\\n",
       "0  int64  int64  int64  int64  int64  int64  int64  int64  int64  int64   \n",
       "\n",
       "  WAP361 WAP362 WAP363 WAP364 WAP365 WAP366 WAP367 WAP368 WAP369 WAP370  \\\n",
       "0  int64  int64  int64  int64  int64  int64  int64  int64  int64  int64   \n",
       "\n",
       "  WAP371 WAP372 WAP373 WAP374 WAP375 WAP376 WAP377 WAP378 WAP379 WAP380  \\\n",
       "0  int64  int64  int64  int64  int64  int64  int64  int64  int64  int64   \n",
       "\n",
       "  WAP381 WAP382 WAP383 WAP384 WAP385 WAP386 WAP387 WAP388 WAP389 WAP390  \\\n",
       "0  int64  int64  int64  int64  int64  int64  int64  int64  int64  int64   \n",
       "\n",
       "  WAP391 WAP392 WAP393 WAP394 WAP395 WAP396 WAP397 WAP398 WAP399 WAP400  \\\n",
       "0  int64  int64  int64  int64  int64  int64  int64  int64  int64  int64   \n",
       "\n",
       "  WAP401 WAP402 WAP403 WAP404 WAP405 WAP406 WAP407 WAP408 WAP409 WAP410  \\\n",
       "0  int64  int64  int64  int64  int64  int64  int64  int64  int64  int64   \n",
       "\n",
       "  WAP411 WAP412 WAP413 WAP414 WAP415 WAP416 WAP417 WAP418 WAP419 WAP420  \\\n",
       "0  int64  int64  int64  int64  int64  int64  int64  int64  int64  int64   \n",
       "\n",
       "  WAP421 WAP422 WAP423 WAP424 WAP425 WAP426 WAP427 WAP428 WAP429 WAP430  \\\n",
       "0  int64  int64  int64  int64  int64  int64  int64  int64  int64  int64   \n",
       "\n",
       "  WAP431 WAP432 WAP433 WAP434 WAP435 WAP436 WAP437 WAP438 WAP439 WAP440  \\\n",
       "0  int64  int64  int64  int64  int64  int64  int64  int64  int64  int64   \n",
       "\n",
       "  WAP441 WAP442 WAP443 WAP444 WAP445 WAP446 WAP447 WAP448 WAP449 WAP450  \\\n",
       "0  int64  int64  int64  int64  int64  int64  int64  int64  int64  int64   \n",
       "\n",
       "  WAP451 WAP452 WAP453 WAP454 WAP455 WAP456 WAP457 WAP458 WAP459 WAP460  \\\n",
       "0  int64  int64  int64  int64  int64  int64  int64  int64  int64  int64   \n",
       "\n",
       "  WAP461 WAP462 WAP463 WAP464 WAP465 WAP466 WAP467 WAP468 WAP469 WAP470  \\\n",
       "0  int64  int64  int64  int64  int64  int64  int64  int64  int64  int64   \n",
       "\n",
       "  WAP471 WAP472 WAP473 WAP474 WAP475 WAP476 WAP477 WAP478 WAP479 WAP480  \\\n",
       "0  int64  int64  int64  int64  int64  int64  int64  int64  int64  int64   \n",
       "\n",
       "  WAP481 WAP482 WAP483 WAP484 WAP485 WAP486 WAP487 WAP488 WAP489 WAP490  \\\n",
       "0  int64  int64  int64  int64  int64  int64  int64  int64  int64  int64   \n",
       "\n",
       "  WAP491 WAP492 WAP493 WAP494 WAP495 WAP496 WAP497 WAP498 WAP499 WAP500  \\\n",
       "0  int64  int64  int64  int64  int64  int64  int64  int64  int64  int64   \n",
       "\n",
       "  WAP501 WAP502 WAP503 WAP504 WAP505 WAP506 WAP507 WAP508 WAP509 WAP510  \\\n",
       "0  int64  int64  int64  int64  int64  int64  int64  int64  int64  int64   \n",
       "\n",
       "  WAP511 WAP512 WAP513 WAP514 WAP515 WAP516 WAP517 WAP518 WAP519 WAP520  \\\n",
       "0  int64  int64  int64  int64  int64  int64  int64  int64  int64  int64   \n",
       "\n",
       "  LONGITUDE LATITUDE  FLOOR BUILDINGID USERID PHONEID TIMESTAMP  \n",
       "0   float64  float64  int64      int64  int64   int64     int64  "
      ]
     },
     "metadata": {},
     "output_type": "display_data"
    },
    {
     "data": {
      "text/html": [
       "<div>\n",
       "<style scoped>\n",
       "    .dataframe tbody tr th:only-of-type {\n",
       "        vertical-align: middle;\n",
       "    }\n",
       "\n",
       "    .dataframe tbody tr th {\n",
       "        vertical-align: top;\n",
       "    }\n",
       "\n",
       "    .dataframe thead th {\n",
       "        text-align: right;\n",
       "    }\n",
       "</style>\n",
       "<table border=\"1\" class=\"dataframe\">\n",
       "  <thead>\n",
       "    <tr style=\"text-align: right;\">\n",
       "      <th></th>\n",
       "      <th>WAP001</th>\n",
       "      <th>WAP002</th>\n",
       "      <th>WAP003</th>\n",
       "      <th>WAP004</th>\n",
       "      <th>WAP005</th>\n",
       "      <th>WAP006</th>\n",
       "      <th>WAP007</th>\n",
       "      <th>WAP008</th>\n",
       "      <th>WAP009</th>\n",
       "      <th>WAP010</th>\n",
       "      <th>WAP011</th>\n",
       "      <th>WAP012</th>\n",
       "      <th>WAP013</th>\n",
       "      <th>WAP014</th>\n",
       "      <th>WAP015</th>\n",
       "      <th>WAP016</th>\n",
       "      <th>WAP017</th>\n",
       "      <th>WAP018</th>\n",
       "      <th>WAP019</th>\n",
       "      <th>WAP020</th>\n",
       "      <th>WAP021</th>\n",
       "      <th>WAP022</th>\n",
       "      <th>WAP023</th>\n",
       "      <th>WAP024</th>\n",
       "      <th>WAP025</th>\n",
       "      <th>WAP026</th>\n",
       "      <th>WAP027</th>\n",
       "      <th>WAP028</th>\n",
       "      <th>WAP029</th>\n",
       "      <th>WAP030</th>\n",
       "      <th>WAP031</th>\n",
       "      <th>WAP032</th>\n",
       "      <th>WAP033</th>\n",
       "      <th>WAP034</th>\n",
       "      <th>WAP035</th>\n",
       "      <th>WAP036</th>\n",
       "      <th>WAP037</th>\n",
       "      <th>WAP038</th>\n",
       "      <th>WAP039</th>\n",
       "      <th>WAP040</th>\n",
       "      <th>WAP041</th>\n",
       "      <th>WAP042</th>\n",
       "      <th>WAP043</th>\n",
       "      <th>WAP044</th>\n",
       "      <th>WAP045</th>\n",
       "      <th>WAP046</th>\n",
       "      <th>WAP047</th>\n",
       "      <th>WAP048</th>\n",
       "      <th>WAP049</th>\n",
       "      <th>WAP050</th>\n",
       "      <th>WAP051</th>\n",
       "      <th>WAP052</th>\n",
       "      <th>WAP053</th>\n",
       "      <th>WAP054</th>\n",
       "      <th>WAP055</th>\n",
       "      <th>WAP056</th>\n",
       "      <th>WAP057</th>\n",
       "      <th>WAP058</th>\n",
       "      <th>WAP059</th>\n",
       "      <th>WAP060</th>\n",
       "      <th>WAP061</th>\n",
       "      <th>WAP062</th>\n",
       "      <th>WAP063</th>\n",
       "      <th>WAP064</th>\n",
       "      <th>WAP065</th>\n",
       "      <th>WAP066</th>\n",
       "      <th>WAP067</th>\n",
       "      <th>WAP068</th>\n",
       "      <th>WAP069</th>\n",
       "      <th>WAP070</th>\n",
       "      <th>WAP071</th>\n",
       "      <th>WAP072</th>\n",
       "      <th>WAP073</th>\n",
       "      <th>WAP074</th>\n",
       "      <th>WAP075</th>\n",
       "      <th>WAP076</th>\n",
       "      <th>WAP077</th>\n",
       "      <th>WAP078</th>\n",
       "      <th>WAP079</th>\n",
       "      <th>WAP080</th>\n",
       "      <th>WAP081</th>\n",
       "      <th>WAP082</th>\n",
       "      <th>WAP083</th>\n",
       "      <th>WAP084</th>\n",
       "      <th>WAP085</th>\n",
       "      <th>WAP086</th>\n",
       "      <th>WAP087</th>\n",
       "      <th>WAP088</th>\n",
       "      <th>WAP089</th>\n",
       "      <th>WAP090</th>\n",
       "      <th>WAP091</th>\n",
       "      <th>WAP092</th>\n",
       "      <th>WAP093</th>\n",
       "      <th>WAP094</th>\n",
       "      <th>WAP095</th>\n",
       "      <th>WAP096</th>\n",
       "      <th>WAP097</th>\n",
       "      <th>WAP098</th>\n",
       "      <th>WAP099</th>\n",
       "      <th>WAP100</th>\n",
       "      <th>WAP101</th>\n",
       "      <th>WAP102</th>\n",
       "      <th>WAP103</th>\n",
       "      <th>WAP104</th>\n",
       "      <th>WAP105</th>\n",
       "      <th>WAP106</th>\n",
       "      <th>WAP107</th>\n",
       "      <th>WAP108</th>\n",
       "      <th>WAP109</th>\n",
       "      <th>WAP110</th>\n",
       "      <th>WAP111</th>\n",
       "      <th>WAP112</th>\n",
       "      <th>WAP113</th>\n",
       "      <th>WAP114</th>\n",
       "      <th>WAP115</th>\n",
       "      <th>WAP116</th>\n",
       "      <th>WAP117</th>\n",
       "      <th>WAP118</th>\n",
       "      <th>WAP119</th>\n",
       "      <th>WAP120</th>\n",
       "      <th>WAP121</th>\n",
       "      <th>WAP122</th>\n",
       "      <th>WAP123</th>\n",
       "      <th>WAP124</th>\n",
       "      <th>WAP125</th>\n",
       "      <th>WAP126</th>\n",
       "      <th>WAP127</th>\n",
       "      <th>WAP128</th>\n",
       "      <th>WAP129</th>\n",
       "      <th>WAP130</th>\n",
       "      <th>WAP131</th>\n",
       "      <th>WAP132</th>\n",
       "      <th>WAP133</th>\n",
       "      <th>WAP134</th>\n",
       "      <th>WAP135</th>\n",
       "      <th>WAP136</th>\n",
       "      <th>WAP137</th>\n",
       "      <th>WAP138</th>\n",
       "      <th>WAP139</th>\n",
       "      <th>WAP140</th>\n",
       "      <th>WAP141</th>\n",
       "      <th>WAP142</th>\n",
       "      <th>WAP143</th>\n",
       "      <th>WAP144</th>\n",
       "      <th>WAP145</th>\n",
       "      <th>WAP146</th>\n",
       "      <th>WAP147</th>\n",
       "      <th>WAP148</th>\n",
       "      <th>WAP149</th>\n",
       "      <th>WAP150</th>\n",
       "      <th>WAP151</th>\n",
       "      <th>WAP152</th>\n",
       "      <th>WAP153</th>\n",
       "      <th>WAP154</th>\n",
       "      <th>WAP155</th>\n",
       "      <th>WAP156</th>\n",
       "      <th>WAP157</th>\n",
       "      <th>WAP158</th>\n",
       "      <th>WAP159</th>\n",
       "      <th>WAP160</th>\n",
       "      <th>WAP161</th>\n",
       "      <th>WAP162</th>\n",
       "      <th>WAP163</th>\n",
       "      <th>WAP164</th>\n",
       "      <th>WAP165</th>\n",
       "      <th>WAP166</th>\n",
       "      <th>WAP167</th>\n",
       "      <th>WAP168</th>\n",
       "      <th>WAP169</th>\n",
       "      <th>WAP170</th>\n",
       "      <th>WAP171</th>\n",
       "      <th>WAP172</th>\n",
       "      <th>WAP173</th>\n",
       "      <th>WAP174</th>\n",
       "      <th>WAP175</th>\n",
       "      <th>WAP176</th>\n",
       "      <th>WAP177</th>\n",
       "      <th>WAP178</th>\n",
       "      <th>WAP179</th>\n",
       "      <th>WAP180</th>\n",
       "      <th>WAP181</th>\n",
       "      <th>WAP182</th>\n",
       "      <th>WAP183</th>\n",
       "      <th>WAP184</th>\n",
       "      <th>WAP185</th>\n",
       "      <th>WAP186</th>\n",
       "      <th>WAP187</th>\n",
       "      <th>WAP188</th>\n",
       "      <th>WAP189</th>\n",
       "      <th>WAP190</th>\n",
       "      <th>WAP191</th>\n",
       "      <th>WAP192</th>\n",
       "      <th>WAP193</th>\n",
       "      <th>WAP194</th>\n",
       "      <th>WAP195</th>\n",
       "      <th>WAP196</th>\n",
       "      <th>WAP197</th>\n",
       "      <th>WAP198</th>\n",
       "      <th>WAP199</th>\n",
       "      <th>WAP200</th>\n",
       "      <th>WAP201</th>\n",
       "      <th>WAP202</th>\n",
       "      <th>WAP203</th>\n",
       "      <th>WAP204</th>\n",
       "      <th>WAP205</th>\n",
       "      <th>WAP206</th>\n",
       "      <th>WAP207</th>\n",
       "      <th>WAP208</th>\n",
       "      <th>WAP209</th>\n",
       "      <th>WAP210</th>\n",
       "      <th>WAP211</th>\n",
       "      <th>WAP212</th>\n",
       "      <th>WAP213</th>\n",
       "      <th>WAP214</th>\n",
       "      <th>WAP215</th>\n",
       "      <th>WAP216</th>\n",
       "      <th>WAP217</th>\n",
       "      <th>WAP218</th>\n",
       "      <th>WAP219</th>\n",
       "      <th>WAP220</th>\n",
       "      <th>WAP221</th>\n",
       "      <th>WAP222</th>\n",
       "      <th>WAP223</th>\n",
       "      <th>WAP224</th>\n",
       "      <th>WAP225</th>\n",
       "      <th>WAP226</th>\n",
       "      <th>WAP227</th>\n",
       "      <th>WAP228</th>\n",
       "      <th>WAP229</th>\n",
       "      <th>WAP230</th>\n",
       "      <th>WAP231</th>\n",
       "      <th>WAP232</th>\n",
       "      <th>WAP233</th>\n",
       "      <th>WAP234</th>\n",
       "      <th>WAP235</th>\n",
       "      <th>WAP236</th>\n",
       "      <th>WAP237</th>\n",
       "      <th>WAP238</th>\n",
       "      <th>WAP239</th>\n",
       "      <th>WAP240</th>\n",
       "      <th>WAP241</th>\n",
       "      <th>WAP242</th>\n",
       "      <th>WAP243</th>\n",
       "      <th>WAP244</th>\n",
       "      <th>WAP245</th>\n",
       "      <th>WAP246</th>\n",
       "      <th>WAP247</th>\n",
       "      <th>WAP248</th>\n",
       "      <th>WAP249</th>\n",
       "      <th>WAP250</th>\n",
       "      <th>WAP251</th>\n",
       "      <th>WAP252</th>\n",
       "      <th>WAP253</th>\n",
       "      <th>WAP254</th>\n",
       "      <th>WAP255</th>\n",
       "      <th>WAP256</th>\n",
       "      <th>WAP257</th>\n",
       "      <th>WAP258</th>\n",
       "      <th>WAP259</th>\n",
       "      <th>WAP260</th>\n",
       "      <th>WAP261</th>\n",
       "      <th>WAP262</th>\n",
       "      <th>WAP263</th>\n",
       "      <th>WAP264</th>\n",
       "      <th>WAP265</th>\n",
       "      <th>WAP266</th>\n",
       "      <th>WAP267</th>\n",
       "      <th>WAP268</th>\n",
       "      <th>WAP269</th>\n",
       "      <th>WAP270</th>\n",
       "      <th>WAP271</th>\n",
       "      <th>WAP272</th>\n",
       "      <th>WAP273</th>\n",
       "      <th>WAP274</th>\n",
       "      <th>WAP275</th>\n",
       "      <th>WAP276</th>\n",
       "      <th>WAP277</th>\n",
       "      <th>WAP278</th>\n",
       "      <th>WAP279</th>\n",
       "      <th>WAP280</th>\n",
       "      <th>WAP281</th>\n",
       "      <th>WAP282</th>\n",
       "      <th>WAP283</th>\n",
       "      <th>WAP284</th>\n",
       "      <th>WAP285</th>\n",
       "      <th>WAP286</th>\n",
       "      <th>WAP287</th>\n",
       "      <th>WAP288</th>\n",
       "      <th>WAP289</th>\n",
       "      <th>WAP290</th>\n",
       "      <th>WAP291</th>\n",
       "      <th>WAP292</th>\n",
       "      <th>WAP293</th>\n",
       "      <th>WAP294</th>\n",
       "      <th>WAP295</th>\n",
       "      <th>WAP296</th>\n",
       "      <th>WAP297</th>\n",
       "      <th>WAP298</th>\n",
       "      <th>WAP299</th>\n",
       "      <th>WAP300</th>\n",
       "      <th>WAP301</th>\n",
       "      <th>WAP302</th>\n",
       "      <th>WAP303</th>\n",
       "      <th>WAP304</th>\n",
       "      <th>WAP305</th>\n",
       "      <th>WAP306</th>\n",
       "      <th>WAP307</th>\n",
       "      <th>WAP308</th>\n",
       "      <th>WAP309</th>\n",
       "      <th>WAP310</th>\n",
       "      <th>WAP311</th>\n",
       "      <th>WAP312</th>\n",
       "      <th>WAP313</th>\n",
       "      <th>WAP314</th>\n",
       "      <th>WAP315</th>\n",
       "      <th>WAP316</th>\n",
       "      <th>WAP317</th>\n",
       "      <th>WAP318</th>\n",
       "      <th>WAP319</th>\n",
       "      <th>WAP320</th>\n",
       "      <th>WAP321</th>\n",
       "      <th>WAP322</th>\n",
       "      <th>WAP323</th>\n",
       "      <th>WAP324</th>\n",
       "      <th>WAP325</th>\n",
       "      <th>WAP326</th>\n",
       "      <th>WAP327</th>\n",
       "      <th>WAP328</th>\n",
       "      <th>WAP329</th>\n",
       "      <th>WAP330</th>\n",
       "      <th>WAP331</th>\n",
       "      <th>WAP332</th>\n",
       "      <th>WAP333</th>\n",
       "      <th>WAP334</th>\n",
       "      <th>WAP335</th>\n",
       "      <th>WAP336</th>\n",
       "      <th>WAP337</th>\n",
       "      <th>WAP338</th>\n",
       "      <th>WAP339</th>\n",
       "      <th>WAP340</th>\n",
       "      <th>WAP341</th>\n",
       "      <th>WAP342</th>\n",
       "      <th>WAP343</th>\n",
       "      <th>WAP344</th>\n",
       "      <th>WAP345</th>\n",
       "      <th>WAP346</th>\n",
       "      <th>WAP347</th>\n",
       "      <th>WAP348</th>\n",
       "      <th>WAP349</th>\n",
       "      <th>WAP350</th>\n",
       "      <th>WAP351</th>\n",
       "      <th>WAP352</th>\n",
       "      <th>WAP353</th>\n",
       "      <th>WAP354</th>\n",
       "      <th>WAP355</th>\n",
       "      <th>WAP356</th>\n",
       "      <th>WAP357</th>\n",
       "      <th>WAP358</th>\n",
       "      <th>WAP359</th>\n",
       "      <th>WAP360</th>\n",
       "      <th>WAP361</th>\n",
       "      <th>WAP362</th>\n",
       "      <th>WAP363</th>\n",
       "      <th>WAP364</th>\n",
       "      <th>WAP365</th>\n",
       "      <th>WAP366</th>\n",
       "      <th>WAP367</th>\n",
       "      <th>WAP368</th>\n",
       "      <th>WAP369</th>\n",
       "      <th>WAP370</th>\n",
       "      <th>WAP371</th>\n",
       "      <th>WAP372</th>\n",
       "      <th>WAP373</th>\n",
       "      <th>WAP374</th>\n",
       "      <th>WAP375</th>\n",
       "      <th>WAP376</th>\n",
       "      <th>WAP377</th>\n",
       "      <th>WAP378</th>\n",
       "      <th>WAP379</th>\n",
       "      <th>WAP380</th>\n",
       "      <th>WAP381</th>\n",
       "      <th>WAP382</th>\n",
       "      <th>WAP383</th>\n",
       "      <th>WAP384</th>\n",
       "      <th>WAP385</th>\n",
       "      <th>WAP386</th>\n",
       "      <th>WAP387</th>\n",
       "      <th>WAP388</th>\n",
       "      <th>WAP389</th>\n",
       "      <th>WAP390</th>\n",
       "      <th>WAP391</th>\n",
       "      <th>WAP392</th>\n",
       "      <th>WAP393</th>\n",
       "      <th>WAP394</th>\n",
       "      <th>WAP395</th>\n",
       "      <th>WAP396</th>\n",
       "      <th>WAP397</th>\n",
       "      <th>WAP398</th>\n",
       "      <th>WAP399</th>\n",
       "      <th>WAP400</th>\n",
       "      <th>WAP401</th>\n",
       "      <th>WAP402</th>\n",
       "      <th>WAP403</th>\n",
       "      <th>WAP404</th>\n",
       "      <th>WAP405</th>\n",
       "      <th>WAP406</th>\n",
       "      <th>WAP407</th>\n",
       "      <th>WAP408</th>\n",
       "      <th>WAP409</th>\n",
       "      <th>WAP410</th>\n",
       "      <th>WAP411</th>\n",
       "      <th>WAP412</th>\n",
       "      <th>WAP413</th>\n",
       "      <th>WAP414</th>\n",
       "      <th>WAP415</th>\n",
       "      <th>WAP416</th>\n",
       "      <th>WAP417</th>\n",
       "      <th>WAP418</th>\n",
       "      <th>WAP419</th>\n",
       "      <th>WAP420</th>\n",
       "      <th>WAP421</th>\n",
       "      <th>WAP422</th>\n",
       "      <th>WAP423</th>\n",
       "      <th>WAP424</th>\n",
       "      <th>WAP425</th>\n",
       "      <th>WAP426</th>\n",
       "      <th>WAP427</th>\n",
       "      <th>WAP428</th>\n",
       "      <th>WAP429</th>\n",
       "      <th>WAP430</th>\n",
       "      <th>WAP431</th>\n",
       "      <th>WAP432</th>\n",
       "      <th>WAP433</th>\n",
       "      <th>WAP434</th>\n",
       "      <th>WAP435</th>\n",
       "      <th>WAP436</th>\n",
       "      <th>WAP437</th>\n",
       "      <th>WAP438</th>\n",
       "      <th>WAP439</th>\n",
       "      <th>WAP440</th>\n",
       "      <th>WAP441</th>\n",
       "      <th>WAP442</th>\n",
       "      <th>WAP443</th>\n",
       "      <th>WAP444</th>\n",
       "      <th>WAP445</th>\n",
       "      <th>WAP446</th>\n",
       "      <th>WAP447</th>\n",
       "      <th>WAP448</th>\n",
       "      <th>WAP449</th>\n",
       "      <th>WAP450</th>\n",
       "      <th>WAP451</th>\n",
       "      <th>WAP452</th>\n",
       "      <th>WAP453</th>\n",
       "      <th>WAP454</th>\n",
       "      <th>WAP455</th>\n",
       "      <th>WAP456</th>\n",
       "      <th>WAP457</th>\n",
       "      <th>WAP458</th>\n",
       "      <th>WAP459</th>\n",
       "      <th>WAP460</th>\n",
       "      <th>WAP461</th>\n",
       "      <th>WAP462</th>\n",
       "      <th>WAP463</th>\n",
       "      <th>WAP464</th>\n",
       "      <th>WAP465</th>\n",
       "      <th>WAP466</th>\n",
       "      <th>WAP467</th>\n",
       "      <th>WAP468</th>\n",
       "      <th>WAP469</th>\n",
       "      <th>WAP470</th>\n",
       "      <th>WAP471</th>\n",
       "      <th>WAP472</th>\n",
       "      <th>WAP473</th>\n",
       "      <th>WAP474</th>\n",
       "      <th>WAP475</th>\n",
       "      <th>WAP476</th>\n",
       "      <th>WAP477</th>\n",
       "      <th>WAP478</th>\n",
       "      <th>WAP479</th>\n",
       "      <th>WAP480</th>\n",
       "      <th>WAP481</th>\n",
       "      <th>WAP482</th>\n",
       "      <th>WAP483</th>\n",
       "      <th>WAP484</th>\n",
       "      <th>WAP485</th>\n",
       "      <th>WAP486</th>\n",
       "      <th>WAP487</th>\n",
       "      <th>WAP488</th>\n",
       "      <th>WAP489</th>\n",
       "      <th>WAP490</th>\n",
       "      <th>WAP491</th>\n",
       "      <th>WAP492</th>\n",
       "      <th>WAP493</th>\n",
       "      <th>WAP494</th>\n",
       "      <th>WAP495</th>\n",
       "      <th>WAP496</th>\n",
       "      <th>WAP497</th>\n",
       "      <th>WAP498</th>\n",
       "      <th>WAP499</th>\n",
       "      <th>WAP500</th>\n",
       "      <th>WAP501</th>\n",
       "      <th>WAP502</th>\n",
       "      <th>WAP503</th>\n",
       "      <th>WAP504</th>\n",
       "      <th>WAP505</th>\n",
       "      <th>WAP506</th>\n",
       "      <th>WAP507</th>\n",
       "      <th>WAP508</th>\n",
       "      <th>WAP509</th>\n",
       "      <th>WAP510</th>\n",
       "      <th>WAP511</th>\n",
       "      <th>WAP512</th>\n",
       "      <th>WAP513</th>\n",
       "      <th>WAP514</th>\n",
       "      <th>WAP515</th>\n",
       "      <th>WAP516</th>\n",
       "      <th>WAP517</th>\n",
       "      <th>WAP518</th>\n",
       "      <th>WAP519</th>\n",
       "      <th>WAP520</th>\n",
       "      <th>LONGITUDE</th>\n",
       "      <th>LATITUDE</th>\n",
       "      <th>FLOOR</th>\n",
       "      <th>BUILDINGID</th>\n",
       "      <th>USERID</th>\n",
       "      <th>PHONEID</th>\n",
       "      <th>TIMESTAMP</th>\n",
       "    </tr>\n",
       "  </thead>\n",
       "  <tbody>\n",
       "    <tr>\n",
       "      <td>0</td>\n",
       "      <td>int64</td>\n",
       "      <td>int64</td>\n",
       "      <td>int64</td>\n",
       "      <td>int64</td>\n",
       "      <td>int64</td>\n",
       "      <td>int64</td>\n",
       "      <td>int64</td>\n",
       "      <td>int64</td>\n",
       "      <td>int64</td>\n",
       "      <td>int64</td>\n",
       "      <td>int64</td>\n",
       "      <td>int64</td>\n",
       "      <td>int64</td>\n",
       "      <td>int64</td>\n",
       "      <td>int64</td>\n",
       "      <td>int64</td>\n",
       "      <td>int64</td>\n",
       "      <td>int64</td>\n",
       "      <td>int64</td>\n",
       "      <td>int64</td>\n",
       "      <td>int64</td>\n",
       "      <td>int64</td>\n",
       "      <td>int64</td>\n",
       "      <td>int64</td>\n",
       "      <td>int64</td>\n",
       "      <td>int64</td>\n",
       "      <td>int64</td>\n",
       "      <td>int64</td>\n",
       "      <td>int64</td>\n",
       "      <td>int64</td>\n",
       "      <td>int64</td>\n",
       "      <td>int64</td>\n",
       "      <td>int64</td>\n",
       "      <td>int64</td>\n",
       "      <td>int64</td>\n",
       "      <td>int64</td>\n",
       "      <td>int64</td>\n",
       "      <td>int64</td>\n",
       "      <td>int64</td>\n",
       "      <td>int64</td>\n",
       "      <td>int64</td>\n",
       "      <td>int64</td>\n",
       "      <td>int64</td>\n",
       "      <td>int64</td>\n",
       "      <td>int64</td>\n",
       "      <td>int64</td>\n",
       "      <td>int64</td>\n",
       "      <td>int64</td>\n",
       "      <td>int64</td>\n",
       "      <td>int64</td>\n",
       "      <td>int64</td>\n",
       "      <td>int64</td>\n",
       "      <td>int64</td>\n",
       "      <td>int64</td>\n",
       "      <td>int64</td>\n",
       "      <td>int64</td>\n",
       "      <td>int64</td>\n",
       "      <td>int64</td>\n",
       "      <td>int64</td>\n",
       "      <td>int64</td>\n",
       "      <td>int64</td>\n",
       "      <td>int64</td>\n",
       "      <td>int64</td>\n",
       "      <td>int64</td>\n",
       "      <td>int64</td>\n",
       "      <td>int64</td>\n",
       "      <td>int64</td>\n",
       "      <td>int64</td>\n",
       "      <td>int64</td>\n",
       "      <td>int64</td>\n",
       "      <td>int64</td>\n",
       "      <td>int64</td>\n",
       "      <td>int64</td>\n",
       "      <td>int64</td>\n",
       "      <td>int64</td>\n",
       "      <td>int64</td>\n",
       "      <td>int64</td>\n",
       "      <td>int64</td>\n",
       "      <td>int64</td>\n",
       "      <td>int64</td>\n",
       "      <td>int64</td>\n",
       "      <td>int64</td>\n",
       "      <td>int64</td>\n",
       "      <td>int64</td>\n",
       "      <td>int64</td>\n",
       "      <td>int64</td>\n",
       "      <td>int64</td>\n",
       "      <td>int64</td>\n",
       "      <td>int64</td>\n",
       "      <td>int64</td>\n",
       "      <td>int64</td>\n",
       "      <td>int64</td>\n",
       "      <td>int64</td>\n",
       "      <td>int64</td>\n",
       "      <td>int64</td>\n",
       "      <td>int64</td>\n",
       "      <td>int64</td>\n",
       "      <td>int64</td>\n",
       "      <td>int64</td>\n",
       "      <td>int64</td>\n",
       "      <td>int64</td>\n",
       "      <td>int64</td>\n",
       "      <td>int64</td>\n",
       "      <td>int64</td>\n",
       "      <td>int64</td>\n",
       "      <td>int64</td>\n",
       "      <td>int64</td>\n",
       "      <td>int64</td>\n",
       "      <td>int64</td>\n",
       "      <td>int64</td>\n",
       "      <td>int64</td>\n",
       "      <td>int64</td>\n",
       "      <td>int64</td>\n",
       "      <td>int64</td>\n",
       "      <td>int64</td>\n",
       "      <td>int64</td>\n",
       "      <td>int64</td>\n",
       "      <td>int64</td>\n",
       "      <td>int64</td>\n",
       "      <td>int64</td>\n",
       "      <td>int64</td>\n",
       "      <td>int64</td>\n",
       "      <td>int64</td>\n",
       "      <td>int64</td>\n",
       "      <td>int64</td>\n",
       "      <td>int64</td>\n",
       "      <td>int64</td>\n",
       "      <td>int64</td>\n",
       "      <td>int64</td>\n",
       "      <td>int64</td>\n",
       "      <td>int64</td>\n",
       "      <td>int64</td>\n",
       "      <td>int64</td>\n",
       "      <td>int64</td>\n",
       "      <td>int64</td>\n",
       "      <td>int64</td>\n",
       "      <td>int64</td>\n",
       "      <td>int64</td>\n",
       "      <td>int64</td>\n",
       "      <td>int64</td>\n",
       "      <td>int64</td>\n",
       "      <td>int64</td>\n",
       "      <td>int64</td>\n",
       "      <td>int64</td>\n",
       "      <td>int64</td>\n",
       "      <td>int64</td>\n",
       "      <td>int64</td>\n",
       "      <td>int64</td>\n",
       "      <td>int64</td>\n",
       "      <td>int64</td>\n",
       "      <td>int64</td>\n",
       "      <td>int64</td>\n",
       "      <td>int64</td>\n",
       "      <td>int64</td>\n",
       "      <td>int64</td>\n",
       "      <td>int64</td>\n",
       "      <td>int64</td>\n",
       "      <td>int64</td>\n",
       "      <td>int64</td>\n",
       "      <td>int64</td>\n",
       "      <td>int64</td>\n",
       "      <td>int64</td>\n",
       "      <td>int64</td>\n",
       "      <td>int64</td>\n",
       "      <td>int64</td>\n",
       "      <td>int64</td>\n",
       "      <td>int64</td>\n",
       "      <td>int64</td>\n",
       "      <td>int64</td>\n",
       "      <td>int64</td>\n",
       "      <td>int64</td>\n",
       "      <td>int64</td>\n",
       "      <td>int64</td>\n",
       "      <td>int64</td>\n",
       "      <td>int64</td>\n",
       "      <td>int64</td>\n",
       "      <td>int64</td>\n",
       "      <td>int64</td>\n",
       "      <td>int64</td>\n",
       "      <td>int64</td>\n",
       "      <td>int64</td>\n",
       "      <td>int64</td>\n",
       "      <td>int64</td>\n",
       "      <td>int64</td>\n",
       "      <td>int64</td>\n",
       "      <td>int64</td>\n",
       "      <td>int64</td>\n",
       "      <td>int64</td>\n",
       "      <td>int64</td>\n",
       "      <td>int64</td>\n",
       "      <td>int64</td>\n",
       "      <td>int64</td>\n",
       "      <td>int64</td>\n",
       "      <td>int64</td>\n",
       "      <td>int64</td>\n",
       "      <td>int64</td>\n",
       "      <td>int64</td>\n",
       "      <td>int64</td>\n",
       "      <td>int64</td>\n",
       "      <td>int64</td>\n",
       "      <td>int64</td>\n",
       "      <td>int64</td>\n",
       "      <td>int64</td>\n",
       "      <td>int64</td>\n",
       "      <td>int64</td>\n",
       "      <td>int64</td>\n",
       "      <td>int64</td>\n",
       "      <td>int64</td>\n",
       "      <td>int64</td>\n",
       "      <td>int64</td>\n",
       "      <td>int64</td>\n",
       "      <td>int64</td>\n",
       "      <td>int64</td>\n",
       "      <td>int64</td>\n",
       "      <td>int64</td>\n",
       "      <td>int64</td>\n",
       "      <td>int64</td>\n",
       "      <td>int64</td>\n",
       "      <td>int64</td>\n",
       "      <td>int64</td>\n",
       "      <td>int64</td>\n",
       "      <td>int64</td>\n",
       "      <td>int64</td>\n",
       "      <td>int64</td>\n",
       "      <td>int64</td>\n",
       "      <td>int64</td>\n",
       "      <td>int64</td>\n",
       "      <td>int64</td>\n",
       "      <td>int64</td>\n",
       "      <td>int64</td>\n",
       "      <td>int64</td>\n",
       "      <td>int64</td>\n",
       "      <td>int64</td>\n",
       "      <td>int64</td>\n",
       "      <td>int64</td>\n",
       "      <td>int64</td>\n",
       "      <td>int64</td>\n",
       "      <td>int64</td>\n",
       "      <td>int64</td>\n",
       "      <td>int64</td>\n",
       "      <td>int64</td>\n",
       "      <td>int64</td>\n",
       "      <td>int64</td>\n",
       "      <td>int64</td>\n",
       "      <td>int64</td>\n",
       "      <td>int64</td>\n",
       "      <td>int64</td>\n",
       "      <td>int64</td>\n",
       "      <td>int64</td>\n",
       "      <td>int64</td>\n",
       "      <td>int64</td>\n",
       "      <td>int64</td>\n",
       "      <td>int64</td>\n",
       "      <td>int64</td>\n",
       "      <td>int64</td>\n",
       "      <td>int64</td>\n",
       "      <td>int64</td>\n",
       "      <td>int64</td>\n",
       "      <td>int64</td>\n",
       "      <td>int64</td>\n",
       "      <td>int64</td>\n",
       "      <td>int64</td>\n",
       "      <td>int64</td>\n",
       "      <td>int64</td>\n",
       "      <td>int64</td>\n",
       "      <td>int64</td>\n",
       "      <td>int64</td>\n",
       "      <td>int64</td>\n",
       "      <td>int64</td>\n",
       "      <td>int64</td>\n",
       "      <td>int64</td>\n",
       "      <td>int64</td>\n",
       "      <td>int64</td>\n",
       "      <td>int64</td>\n",
       "      <td>int64</td>\n",
       "      <td>int64</td>\n",
       "      <td>int64</td>\n",
       "      <td>int64</td>\n",
       "      <td>int64</td>\n",
       "      <td>int64</td>\n",
       "      <td>int64</td>\n",
       "      <td>int64</td>\n",
       "      <td>int64</td>\n",
       "      <td>int64</td>\n",
       "      <td>int64</td>\n",
       "      <td>int64</td>\n",
       "      <td>int64</td>\n",
       "      <td>int64</td>\n",
       "      <td>int64</td>\n",
       "      <td>int64</td>\n",
       "      <td>int64</td>\n",
       "      <td>int64</td>\n",
       "      <td>int64</td>\n",
       "      <td>int64</td>\n",
       "      <td>int64</td>\n",
       "      <td>int64</td>\n",
       "      <td>int64</td>\n",
       "      <td>int64</td>\n",
       "      <td>int64</td>\n",
       "      <td>int64</td>\n",
       "      <td>int64</td>\n",
       "      <td>int64</td>\n",
       "      <td>int64</td>\n",
       "      <td>int64</td>\n",
       "      <td>int64</td>\n",
       "      <td>int64</td>\n",
       "      <td>int64</td>\n",
       "      <td>int64</td>\n",
       "      <td>int64</td>\n",
       "      <td>int64</td>\n",
       "      <td>int64</td>\n",
       "      <td>int64</td>\n",
       "      <td>int64</td>\n",
       "      <td>int64</td>\n",
       "      <td>int64</td>\n",
       "      <td>int64</td>\n",
       "      <td>int64</td>\n",
       "      <td>int64</td>\n",
       "      <td>int64</td>\n",
       "      <td>int64</td>\n",
       "      <td>int64</td>\n",
       "      <td>int64</td>\n",
       "      <td>int64</td>\n",
       "      <td>int64</td>\n",
       "      <td>int64</td>\n",
       "      <td>int64</td>\n",
       "      <td>int64</td>\n",
       "      <td>int64</td>\n",
       "      <td>int64</td>\n",
       "      <td>int64</td>\n",
       "      <td>int64</td>\n",
       "      <td>int64</td>\n",
       "      <td>int64</td>\n",
       "      <td>int64</td>\n",
       "      <td>int64</td>\n",
       "      <td>int64</td>\n",
       "      <td>int64</td>\n",
       "      <td>int64</td>\n",
       "      <td>int64</td>\n",
       "      <td>int64</td>\n",
       "      <td>int64</td>\n",
       "      <td>int64</td>\n",
       "      <td>int64</td>\n",
       "      <td>int64</td>\n",
       "      <td>int64</td>\n",
       "      <td>int64</td>\n",
       "      <td>int64</td>\n",
       "      <td>int64</td>\n",
       "      <td>int64</td>\n",
       "      <td>int64</td>\n",
       "      <td>int64</td>\n",
       "      <td>int64</td>\n",
       "      <td>int64</td>\n",
       "      <td>int64</td>\n",
       "      <td>int64</td>\n",
       "      <td>int64</td>\n",
       "      <td>int64</td>\n",
       "      <td>int64</td>\n",
       "      <td>int64</td>\n",
       "      <td>int64</td>\n",
       "      <td>int64</td>\n",
       "      <td>int64</td>\n",
       "      <td>int64</td>\n",
       "      <td>int64</td>\n",
       "      <td>int64</td>\n",
       "      <td>int64</td>\n",
       "      <td>int64</td>\n",
       "      <td>int64</td>\n",
       "      <td>int64</td>\n",
       "      <td>int64</td>\n",
       "      <td>int64</td>\n",
       "      <td>int64</td>\n",
       "      <td>int64</td>\n",
       "      <td>int64</td>\n",
       "      <td>int64</td>\n",
       "      <td>int64</td>\n",
       "      <td>int64</td>\n",
       "      <td>int64</td>\n",
       "      <td>int64</td>\n",
       "      <td>int64</td>\n",
       "      <td>int64</td>\n",
       "      <td>int64</td>\n",
       "      <td>int64</td>\n",
       "      <td>int64</td>\n",
       "      <td>int64</td>\n",
       "      <td>int64</td>\n",
       "      <td>int64</td>\n",
       "      <td>int64</td>\n",
       "      <td>int64</td>\n",
       "      <td>int64</td>\n",
       "      <td>int64</td>\n",
       "      <td>int64</td>\n",
       "      <td>int64</td>\n",
       "      <td>int64</td>\n",
       "      <td>int64</td>\n",
       "      <td>int64</td>\n",
       "      <td>int64</td>\n",
       "      <td>int64</td>\n",
       "      <td>int64</td>\n",
       "      <td>int64</td>\n",
       "      <td>int64</td>\n",
       "      <td>int64</td>\n",
       "      <td>int64</td>\n",
       "      <td>int64</td>\n",
       "      <td>int64</td>\n",
       "      <td>int64</td>\n",
       "      <td>int64</td>\n",
       "      <td>int64</td>\n",
       "      <td>int64</td>\n",
       "      <td>int64</td>\n",
       "      <td>int64</td>\n",
       "      <td>int64</td>\n",
       "      <td>int64</td>\n",
       "      <td>int64</td>\n",
       "      <td>int64</td>\n",
       "      <td>int64</td>\n",
       "      <td>int64</td>\n",
       "      <td>int64</td>\n",
       "      <td>int64</td>\n",
       "      <td>int64</td>\n",
       "      <td>int64</td>\n",
       "      <td>int64</td>\n",
       "      <td>int64</td>\n",
       "      <td>int64</td>\n",
       "      <td>int64</td>\n",
       "      <td>int64</td>\n",
       "      <td>int64</td>\n",
       "      <td>int64</td>\n",
       "      <td>int64</td>\n",
       "      <td>int64</td>\n",
       "      <td>int64</td>\n",
       "      <td>int64</td>\n",
       "      <td>int64</td>\n",
       "      <td>int64</td>\n",
       "      <td>int64</td>\n",
       "      <td>int64</td>\n",
       "      <td>int64</td>\n",
       "      <td>int64</td>\n",
       "      <td>int64</td>\n",
       "      <td>int64</td>\n",
       "      <td>int64</td>\n",
       "      <td>int64</td>\n",
       "      <td>int64</td>\n",
       "      <td>int64</td>\n",
       "      <td>int64</td>\n",
       "      <td>int64</td>\n",
       "      <td>int64</td>\n",
       "      <td>int64</td>\n",
       "      <td>int64</td>\n",
       "      <td>int64</td>\n",
       "      <td>int64</td>\n",
       "      <td>int64</td>\n",
       "      <td>int64</td>\n",
       "      <td>int64</td>\n",
       "      <td>int64</td>\n",
       "      <td>int64</td>\n",
       "      <td>int64</td>\n",
       "      <td>int64</td>\n",
       "      <td>int64</td>\n",
       "      <td>int64</td>\n",
       "      <td>int64</td>\n",
       "      <td>int64</td>\n",
       "      <td>int64</td>\n",
       "      <td>int64</td>\n",
       "      <td>int64</td>\n",
       "      <td>int64</td>\n",
       "      <td>int64</td>\n",
       "      <td>int64</td>\n",
       "      <td>int64</td>\n",
       "      <td>int64</td>\n",
       "      <td>int64</td>\n",
       "      <td>int64</td>\n",
       "      <td>int64</td>\n",
       "      <td>int64</td>\n",
       "      <td>int64</td>\n",
       "      <td>int64</td>\n",
       "      <td>int64</td>\n",
       "      <td>int64</td>\n",
       "      <td>int64</td>\n",
       "      <td>int64</td>\n",
       "      <td>int64</td>\n",
       "      <td>int64</td>\n",
       "      <td>int64</td>\n",
       "      <td>int64</td>\n",
       "      <td>int64</td>\n",
       "      <td>int64</td>\n",
       "      <td>int64</td>\n",
       "      <td>int64</td>\n",
       "      <td>int64</td>\n",
       "      <td>int64</td>\n",
       "      <td>int64</td>\n",
       "      <td>int64</td>\n",
       "      <td>int64</td>\n",
       "      <td>int64</td>\n",
       "      <td>int64</td>\n",
       "      <td>int64</td>\n",
       "      <td>int64</td>\n",
       "      <td>int64</td>\n",
       "      <td>int64</td>\n",
       "      <td>int64</td>\n",
       "      <td>int64</td>\n",
       "      <td>int64</td>\n",
       "      <td>int64</td>\n",
       "      <td>int64</td>\n",
       "      <td>int64</td>\n",
       "      <td>int64</td>\n",
       "      <td>int64</td>\n",
       "      <td>int64</td>\n",
       "      <td>int64</td>\n",
       "      <td>int64</td>\n",
       "      <td>int64</td>\n",
       "      <td>int64</td>\n",
       "      <td>int64</td>\n",
       "      <td>int64</td>\n",
       "      <td>int64</td>\n",
       "      <td>int64</td>\n",
       "      <td>int64</td>\n",
       "      <td>int64</td>\n",
       "      <td>int64</td>\n",
       "      <td>int64</td>\n",
       "      <td>float64</td>\n",
       "      <td>float64</td>\n",
       "      <td>category</td>\n",
       "      <td>category</td>\n",
       "      <td>int64</td>\n",
       "      <td>int64</td>\n",
       "      <td>int64</td>\n",
       "    </tr>\n",
       "  </tbody>\n",
       "</table>\n",
       "</div>"
      ],
      "text/plain": [
       "  WAP001 WAP002 WAP003 WAP004 WAP005 WAP006 WAP007 WAP008 WAP009 WAP010  \\\n",
       "0  int64  int64  int64  int64  int64  int64  int64  int64  int64  int64   \n",
       "\n",
       "  WAP011 WAP012 WAP013 WAP014 WAP015 WAP016 WAP017 WAP018 WAP019 WAP020  \\\n",
       "0  int64  int64  int64  int64  int64  int64  int64  int64  int64  int64   \n",
       "\n",
       "  WAP021 WAP022 WAP023 WAP024 WAP025 WAP026 WAP027 WAP028 WAP029 WAP030  \\\n",
       "0  int64  int64  int64  int64  int64  int64  int64  int64  int64  int64   \n",
       "\n",
       "  WAP031 WAP032 WAP033 WAP034 WAP035 WAP036 WAP037 WAP038 WAP039 WAP040  \\\n",
       "0  int64  int64  int64  int64  int64  int64  int64  int64  int64  int64   \n",
       "\n",
       "  WAP041 WAP042 WAP043 WAP044 WAP045 WAP046 WAP047 WAP048 WAP049 WAP050  \\\n",
       "0  int64  int64  int64  int64  int64  int64  int64  int64  int64  int64   \n",
       "\n",
       "  WAP051 WAP052 WAP053 WAP054 WAP055 WAP056 WAP057 WAP058 WAP059 WAP060  \\\n",
       "0  int64  int64  int64  int64  int64  int64  int64  int64  int64  int64   \n",
       "\n",
       "  WAP061 WAP062 WAP063 WAP064 WAP065 WAP066 WAP067 WAP068 WAP069 WAP070  \\\n",
       "0  int64  int64  int64  int64  int64  int64  int64  int64  int64  int64   \n",
       "\n",
       "  WAP071 WAP072 WAP073 WAP074 WAP075 WAP076 WAP077 WAP078 WAP079 WAP080  \\\n",
       "0  int64  int64  int64  int64  int64  int64  int64  int64  int64  int64   \n",
       "\n",
       "  WAP081 WAP082 WAP083 WAP084 WAP085 WAP086 WAP087 WAP088 WAP089 WAP090  \\\n",
       "0  int64  int64  int64  int64  int64  int64  int64  int64  int64  int64   \n",
       "\n",
       "  WAP091 WAP092 WAP093 WAP094 WAP095 WAP096 WAP097 WAP098 WAP099 WAP100  \\\n",
       "0  int64  int64  int64  int64  int64  int64  int64  int64  int64  int64   \n",
       "\n",
       "  WAP101 WAP102 WAP103 WAP104 WAP105 WAP106 WAP107 WAP108 WAP109 WAP110  \\\n",
       "0  int64  int64  int64  int64  int64  int64  int64  int64  int64  int64   \n",
       "\n",
       "  WAP111 WAP112 WAP113 WAP114 WAP115 WAP116 WAP117 WAP118 WAP119 WAP120  \\\n",
       "0  int64  int64  int64  int64  int64  int64  int64  int64  int64  int64   \n",
       "\n",
       "  WAP121 WAP122 WAP123 WAP124 WAP125 WAP126 WAP127 WAP128 WAP129 WAP130  \\\n",
       "0  int64  int64  int64  int64  int64  int64  int64  int64  int64  int64   \n",
       "\n",
       "  WAP131 WAP132 WAP133 WAP134 WAP135 WAP136 WAP137 WAP138 WAP139 WAP140  \\\n",
       "0  int64  int64  int64  int64  int64  int64  int64  int64  int64  int64   \n",
       "\n",
       "  WAP141 WAP142 WAP143 WAP144 WAP145 WAP146 WAP147 WAP148 WAP149 WAP150  \\\n",
       "0  int64  int64  int64  int64  int64  int64  int64  int64  int64  int64   \n",
       "\n",
       "  WAP151 WAP152 WAP153 WAP154 WAP155 WAP156 WAP157 WAP158 WAP159 WAP160  \\\n",
       "0  int64  int64  int64  int64  int64  int64  int64  int64  int64  int64   \n",
       "\n",
       "  WAP161 WAP162 WAP163 WAP164 WAP165 WAP166 WAP167 WAP168 WAP169 WAP170  \\\n",
       "0  int64  int64  int64  int64  int64  int64  int64  int64  int64  int64   \n",
       "\n",
       "  WAP171 WAP172 WAP173 WAP174 WAP175 WAP176 WAP177 WAP178 WAP179 WAP180  \\\n",
       "0  int64  int64  int64  int64  int64  int64  int64  int64  int64  int64   \n",
       "\n",
       "  WAP181 WAP182 WAP183 WAP184 WAP185 WAP186 WAP187 WAP188 WAP189 WAP190  \\\n",
       "0  int64  int64  int64  int64  int64  int64  int64  int64  int64  int64   \n",
       "\n",
       "  WAP191 WAP192 WAP193 WAP194 WAP195 WAP196 WAP197 WAP198 WAP199 WAP200  \\\n",
       "0  int64  int64  int64  int64  int64  int64  int64  int64  int64  int64   \n",
       "\n",
       "  WAP201 WAP202 WAP203 WAP204 WAP205 WAP206 WAP207 WAP208 WAP209 WAP210  \\\n",
       "0  int64  int64  int64  int64  int64  int64  int64  int64  int64  int64   \n",
       "\n",
       "  WAP211 WAP212 WAP213 WAP214 WAP215 WAP216 WAP217 WAP218 WAP219 WAP220  \\\n",
       "0  int64  int64  int64  int64  int64  int64  int64  int64  int64  int64   \n",
       "\n",
       "  WAP221 WAP222 WAP223 WAP224 WAP225 WAP226 WAP227 WAP228 WAP229 WAP230  \\\n",
       "0  int64  int64  int64  int64  int64  int64  int64  int64  int64  int64   \n",
       "\n",
       "  WAP231 WAP232 WAP233 WAP234 WAP235 WAP236 WAP237 WAP238 WAP239 WAP240  \\\n",
       "0  int64  int64  int64  int64  int64  int64  int64  int64  int64  int64   \n",
       "\n",
       "  WAP241 WAP242 WAP243 WAP244 WAP245 WAP246 WAP247 WAP248 WAP249 WAP250  \\\n",
       "0  int64  int64  int64  int64  int64  int64  int64  int64  int64  int64   \n",
       "\n",
       "  WAP251 WAP252 WAP253 WAP254 WAP255 WAP256 WAP257 WAP258 WAP259 WAP260  \\\n",
       "0  int64  int64  int64  int64  int64  int64  int64  int64  int64  int64   \n",
       "\n",
       "  WAP261 WAP262 WAP263 WAP264 WAP265 WAP266 WAP267 WAP268 WAP269 WAP270  \\\n",
       "0  int64  int64  int64  int64  int64  int64  int64  int64  int64  int64   \n",
       "\n",
       "  WAP271 WAP272 WAP273 WAP274 WAP275 WAP276 WAP277 WAP278 WAP279 WAP280  \\\n",
       "0  int64  int64  int64  int64  int64  int64  int64  int64  int64  int64   \n",
       "\n",
       "  WAP281 WAP282 WAP283 WAP284 WAP285 WAP286 WAP287 WAP288 WAP289 WAP290  \\\n",
       "0  int64  int64  int64  int64  int64  int64  int64  int64  int64  int64   \n",
       "\n",
       "  WAP291 WAP292 WAP293 WAP294 WAP295 WAP296 WAP297 WAP298 WAP299 WAP300  \\\n",
       "0  int64  int64  int64  int64  int64  int64  int64  int64  int64  int64   \n",
       "\n",
       "  WAP301 WAP302 WAP303 WAP304 WAP305 WAP306 WAP307 WAP308 WAP309 WAP310  \\\n",
       "0  int64  int64  int64  int64  int64  int64  int64  int64  int64  int64   \n",
       "\n",
       "  WAP311 WAP312 WAP313 WAP314 WAP315 WAP316 WAP317 WAP318 WAP319 WAP320  \\\n",
       "0  int64  int64  int64  int64  int64  int64  int64  int64  int64  int64   \n",
       "\n",
       "  WAP321 WAP322 WAP323 WAP324 WAP325 WAP326 WAP327 WAP328 WAP329 WAP330  \\\n",
       "0  int64  int64  int64  int64  int64  int64  int64  int64  int64  int64   \n",
       "\n",
       "  WAP331 WAP332 WAP333 WAP334 WAP335 WAP336 WAP337 WAP338 WAP339 WAP340  \\\n",
       "0  int64  int64  int64  int64  int64  int64  int64  int64  int64  int64   \n",
       "\n",
       "  WAP341 WAP342 WAP343 WAP344 WAP345 WAP346 WAP347 WAP348 WAP349 WAP350  \\\n",
       "0  int64  int64  int64  int64  int64  int64  int64  int64  int64  int64   \n",
       "\n",
       "  WAP351 WAP352 WAP353 WAP354 WAP355 WAP356 WAP357 WAP358 WAP359 WAP360  \\\n",
       "0  int64  int64  int64  int64  int64  int64  int64  int64  int64  int64   \n",
       "\n",
       "  WAP361 WAP362 WAP363 WAP364 WAP365 WAP366 WAP367 WAP368 WAP369 WAP370  \\\n",
       "0  int64  int64  int64  int64  int64  int64  int64  int64  int64  int64   \n",
       "\n",
       "  WAP371 WAP372 WAP373 WAP374 WAP375 WAP376 WAP377 WAP378 WAP379 WAP380  \\\n",
       "0  int64  int64  int64  int64  int64  int64  int64  int64  int64  int64   \n",
       "\n",
       "  WAP381 WAP382 WAP383 WAP384 WAP385 WAP386 WAP387 WAP388 WAP389 WAP390  \\\n",
       "0  int64  int64  int64  int64  int64  int64  int64  int64  int64  int64   \n",
       "\n",
       "  WAP391 WAP392 WAP393 WAP394 WAP395 WAP396 WAP397 WAP398 WAP399 WAP400  \\\n",
       "0  int64  int64  int64  int64  int64  int64  int64  int64  int64  int64   \n",
       "\n",
       "  WAP401 WAP402 WAP403 WAP404 WAP405 WAP406 WAP407 WAP408 WAP409 WAP410  \\\n",
       "0  int64  int64  int64  int64  int64  int64  int64  int64  int64  int64   \n",
       "\n",
       "  WAP411 WAP412 WAP413 WAP414 WAP415 WAP416 WAP417 WAP418 WAP419 WAP420  \\\n",
       "0  int64  int64  int64  int64  int64  int64  int64  int64  int64  int64   \n",
       "\n",
       "  WAP421 WAP422 WAP423 WAP424 WAP425 WAP426 WAP427 WAP428 WAP429 WAP430  \\\n",
       "0  int64  int64  int64  int64  int64  int64  int64  int64  int64  int64   \n",
       "\n",
       "  WAP431 WAP432 WAP433 WAP434 WAP435 WAP436 WAP437 WAP438 WAP439 WAP440  \\\n",
       "0  int64  int64  int64  int64  int64  int64  int64  int64  int64  int64   \n",
       "\n",
       "  WAP441 WAP442 WAP443 WAP444 WAP445 WAP446 WAP447 WAP448 WAP449 WAP450  \\\n",
       "0  int64  int64  int64  int64  int64  int64  int64  int64  int64  int64   \n",
       "\n",
       "  WAP451 WAP452 WAP453 WAP454 WAP455 WAP456 WAP457 WAP458 WAP459 WAP460  \\\n",
       "0  int64  int64  int64  int64  int64  int64  int64  int64  int64  int64   \n",
       "\n",
       "  WAP461 WAP462 WAP463 WAP464 WAP465 WAP466 WAP467 WAP468 WAP469 WAP470  \\\n",
       "0  int64  int64  int64  int64  int64  int64  int64  int64  int64  int64   \n",
       "\n",
       "  WAP471 WAP472 WAP473 WAP474 WAP475 WAP476 WAP477 WAP478 WAP479 WAP480  \\\n",
       "0  int64  int64  int64  int64  int64  int64  int64  int64  int64  int64   \n",
       "\n",
       "  WAP481 WAP482 WAP483 WAP484 WAP485 WAP486 WAP487 WAP488 WAP489 WAP490  \\\n",
       "0  int64  int64  int64  int64  int64  int64  int64  int64  int64  int64   \n",
       "\n",
       "  WAP491 WAP492 WAP493 WAP494 WAP495 WAP496 WAP497 WAP498 WAP499 WAP500  \\\n",
       "0  int64  int64  int64  int64  int64  int64  int64  int64  int64  int64   \n",
       "\n",
       "  WAP501 WAP502 WAP503 WAP504 WAP505 WAP506 WAP507 WAP508 WAP509 WAP510  \\\n",
       "0  int64  int64  int64  int64  int64  int64  int64  int64  int64  int64   \n",
       "\n",
       "  WAP511 WAP512 WAP513 WAP514 WAP515 WAP516 WAP517 WAP518 WAP519 WAP520  \\\n",
       "0  int64  int64  int64  int64  int64  int64  int64  int64  int64  int64   \n",
       "\n",
       "  LONGITUDE LATITUDE     FLOOR BUILDINGID USERID PHONEID TIMESTAMP  \n",
       "0   float64  float64  category   category  int64   int64     int64  "
      ]
     },
     "metadata": {},
     "output_type": "display_data"
    },
    {
     "data": {
      "text/html": [
       "\n",
       "        <script>\n",
       "            function code_toggle_701763559508841647() {\n",
       "                $('div.cell.code_cell.rendered.selected').find('div.input').toggle();\n",
       "            }\n",
       "\n",
       "            \n",
       "        </script>\n",
       "\n",
       "        <a href=\"javascript:code_toggle_701763559508841647()\">Toggle show/hide upper code</a>\n",
       "    "
      ],
      "text/plain": [
       "<IPython.core.display.HTML object>"
      ]
     },
     "execution_count": 7,
     "metadata": {},
     "output_type": "execute_result"
    }
   ],
   "source": [
    "# Check the data types\n",
    "pd.set_option('display.max_columns', None)\n",
    "display(pd.DataFrame(df.dtypes).transpose())\n",
    "\n",
    "# Change the necessary data types to categorical\n",
    "df.FLOOR = df.FLOOR.astype('category')\n",
    "df.BUILDINGID = df.BUILDINGID.astype('category')\n",
    "\n",
    "# Check that the changes have indeed been performed\n",
    "display(pd.DataFrame(df.dtypes).transpose())\n",
    "\n",
    "hide_toggle()"
   ]
  },
  {
   "cell_type": "markdown",
   "metadata": {},
   "source": [
    "The FLOOR and the BUILDINGID are better characterized by a categorical variables, thus they are changed to categorical variables."
   ]
  },
  {
   "cell_type": "markdown",
   "metadata": {},
   "source": [
    "### Check columns and rows that have ALL values of 100 in the WAP and eliminate them"
   ]
  },
  {
   "cell_type": "markdown",
   "metadata": {},
   "source": [
    "The columns that have ALL values of 100 in the WAPs are basically WAPs that don't register any signal for any of the data points. These columns, thus, convey no information and can be diposed of.  \n",
    "Similarly, the rows that have ALL values of 100 in the WAPs are observations that were not detected by any of the WAPs and can also be removed."
   ]
  },
  {
   "cell_type": "code",
   "execution_count": 8,
   "metadata": {},
   "outputs": [
    {
     "name": "stdout",
     "output_type": "stream",
     "text": [
      "Number of rows that do not have at least 3 WAPs with signal = [0]\n",
      "\n",
      "Number of columns removed: 55\n",
      "Number of rows removed : 76\n"
     ]
    },
    {
     "data": {
      "text/html": [
       "\n",
       "        <script>\n",
       "            function code_toggle_1388208321540916008() {\n",
       "                $('div.cell.code_cell.rendered.selected').find('div.input').toggle();\n",
       "            }\n",
       "\n",
       "            \n",
       "        </script>\n",
       "\n",
       "        <a href=\"javascript:code_toggle_1388208321540916008()\">Toggle show/hide upper code</a>\n",
       "    "
      ],
      "text/plain": [
       "<IPython.core.display.HTML object>"
      ]
     },
     "execution_count": 8,
     "metadata": {},
     "output_type": "execute_result"
    }
   ],
   "source": [
    "# Get the WAP columns (aka. columns that start with WAP)\n",
    "wap_cols_initial = [col for col in df if col.startswith('WAP')]\n",
    "\n",
    "\n",
    "# Calculate a \"fake percentage\" of the rows, where if the whole row has 100 in every WAP, the percentage\n",
    "# will be 100%\n",
    "row_percentage = df[wap_cols_initial].sum(axis=1) / (len(df[wap_cols_initial].columns))\n",
    "# Get the indices of the rows that have 100 in every WAP\n",
    "eliminated_rows_indices = [i for i in range(len(df.index)) if row_percentage[i] == 100]\n",
    "# Eliminate the rows that have 100 in every WAP\n",
    "df = df.drop(eliminated_rows_indices, axis = 0)\n",
    "\n",
    "\n",
    "# Check that all remaining rows have at least 3 WAPS different than 100\n",
    "df_test = df.replace(100,0)\n",
    "df_test = pd.DataFrame(df_test.astype(bool).sum(axis=1))\n",
    "df_test = df_test[df_test >= 3]\n",
    "\n",
    "stringtest = str(df_test.isna().sum())\n",
    "print('Number of rows that do not have at least 3 WAPs with signal = ' + str(df_test.isna().sum().values) + '\\n')\n",
    "\n",
    "# Calculate a \"fake percentage\" of the columns, where if the whole column has a WAP of 100, the percentage\n",
    "# of that WAP will be 100%\n",
    "col_percentage = (df[wap_cols_initial].sum(axis=0)) / len(df[wap_cols_initial].index)\n",
    "# Get the indices of the columns that have 100 in every row\n",
    "eliminated_cols_indices = [i for i in range(len(df[wap_cols_initial].columns)) if col_percentage[i] == 100]\n",
    "# Eliminate the WAP columns that have all 100\n",
    "df = df.drop(df.columns[eliminated_cols_indices], axis = 1)\n",
    "\n",
    "\n",
    "# Recalculate the the WAP columns (aka. columns that start with WAP) to get the remaining WAP columns for future use\n",
    "wap_cols = [col for col in df if col.startswith('WAP')]\n",
    "\n",
    "\n",
    "# See the number of columns and rows that were removed\n",
    "print(\"Number of columns removed: %d\" % (len(wap_cols_initial) - len(wap_cols)))\n",
    "print(\"Number of rows removed : %d\" % (len(dataset_training.index) - len(df.index)))\n",
    "\n",
    "hide_toggle()"
   ]
  },
  {
   "cell_type": "markdown",
   "metadata": {},
   "source": [
    "### Check for duplicated rows and eliminate them"
   ]
  },
  {
   "cell_type": "code",
   "execution_count": 9,
   "metadata": {},
   "outputs": [
    {
     "name": "stdout",
     "output_type": "stream",
     "text": [
      "Number of duplicated rows: 822\n"
     ]
    },
    {
     "data": {
      "text/html": [
       "\n",
       "        <script>\n",
       "            function code_toggle_5994426743962691143() {\n",
       "                $('div.cell.code_cell.rendered.selected').find('div.input').toggle();\n",
       "            }\n",
       "\n",
       "            \n",
       "        </script>\n",
       "\n",
       "        <a href=\"javascript:code_toggle_5994426743962691143()\">Toggle show/hide upper code</a>\n",
       "    "
      ],
      "text/plain": [
       "<IPython.core.display.HTML object>"
      ]
     },
     "execution_count": 9,
     "metadata": {},
     "output_type": "execute_result"
    }
   ],
   "source": [
    "# Check for rows where the WAP values are duplicated\n",
    "duplicated_rows_wap = df[wap_cols].duplicated(keep = False)\n",
    "print('Number of duplicated rows: %d' %sum(duplicated_rows_wap))\n",
    "\n",
    "\n",
    "# Eliminate the duplicated rows\n",
    "df = df.drop_duplicates(wap_cols, keep = False)\n",
    "df = df.reset_index(drop = True)\n",
    "\n",
    "hide_toggle()"
   ]
  },
  {
   "cell_type": "markdown",
   "metadata": {},
   "source": [
    "### Check for class imbalance"
   ]
  },
  {
   "cell_type": "code",
   "execution_count": 10,
   "metadata": {},
   "outputs": [
    {
     "name": "stdout",
     "output_type": "stream",
     "text": [
      "Building 0: 5237 rows\n",
      "Building 1: 4800 rows\n",
      "Building 2: 9002 rows\n",
      "\n",
      "\n",
      "Floor 0: 4273 rows\n",
      "Floor 1: 4714 rows\n",
      "Floor 2: 4415 rows\n",
      "Floor 3: 4979 rows\n",
      "Floor 4: 658 rows\n"
     ]
    },
    {
     "data": {
      "image/png": "[encoded data removed]",
      "text/plain": [
       "<Figure size 432x288 with 1 Axes>"
      ]
     },
     "metadata": {
      "needs_background": "light"
     },
     "output_type": "display_data"
    },
    {
     "data": {
      "image/png": "[encoded data removed]",
      "text/plain": [
       "<Figure size 432x288 with 1 Axes>"
      ]
     },
     "metadata": {
      "needs_background": "light"
     },
     "output_type": "display_data"
    },
    {
     "data": {
      "text/html": [
       "\n",
       "        <script>\n",
       "            function code_toggle_8688007883426985671() {\n",
       "                $('div.cell.code_cell.rendered.selected').find('div.input').toggle();\n",
       "            }\n",
       "\n",
       "            \n",
       "        </script>\n",
       "\n",
       "        <a href=\"javascript:code_toggle_8688007883426985671()\">Toggle show/hide upper code</a>\n",
       "    "
      ],
      "text/plain": [
       "<IPython.core.display.HTML object>"
      ]
     },
     "execution_count": 10,
     "metadata": {},
     "output_type": "execute_result"
    }
   ],
   "source": [
    "# Check for class imbalance in the floor and building variables\n",
    "building_id_list = set(df.BUILDINGID)\n",
    "for i in building_id_list:\n",
    "    print('Building ' + str(i) + ': ' + str(len(df.loc[:,'BUILDINGID'][df.loc[:,'BUILDINGID'] == i])) + ' rows')\n",
    "\n",
    "print('\\n')\n",
    "\n",
    "floor_id_list = set(df.FLOOR)\n",
    "for i in floor_id_list :\n",
    "    print('Floor ' + str(i) + ': ' + str(len(df.loc[:,'FLOOR'][df.loc[:,'FLOOR'] == i])) + ' rows')\n",
    "\n",
    "\n",
    "# Histogram of building and floor to show the class imbalance\n",
    "df.groupby('BUILDINGID').size().plot(kind='bar')\n",
    "plt.ylabel('Frequency')\n",
    "plt.title('Sample frequency in each building')\n",
    "plt.show()\n",
    "\n",
    "df.groupby('FLOOR').size().plot(kind='bar')\n",
    "plt.ylabel('Frequency')\n",
    "plt.title('Sample frequency in each floor')\n",
    "plt.show()\n",
    "\n",
    "hide_toggle()"
   ]
  },
  {
   "cell_type": "markdown",
   "metadata": {},
   "source": [
    "The building 2 and the floor 4 have class imbalance.  \n",
    "The buidling 2 class imbalance COULD be treated with downsampling.  \n",
    "The floor 4 class imbalance COULD be treated with upsampling."
   ]
  },
  {
   "cell_type": "markdown",
   "metadata": {},
   "source": [
    "### Dealing with the class imbalance"
   ]
  },
  {
   "cell_type": "markdown",
   "metadata": {},
   "source": [
    "As seen later (in the building and floor prediction), there's no need to deal with the class imbalance, since the confusion matrix shows that the imbalanced classes don't shift significantly the predictions."
   ]
  },
  {
   "cell_type": "markdown",
   "metadata": {},
   "source": [
    "### Scatter plot of longitude vs latitude in training and test sets"
   ]
  },
  {
   "cell_type": "markdown",
   "metadata": {},
   "source": [
    "To have a better idea of how the observations are physically spread, the longitude and latitude are plotted, and the buildings are shown with different colors."
   ]
  },
  {
   "cell_type": "code",
   "execution_count": 11,
   "metadata": {},
   "outputs": [
    {
     "data": {
      "image/png": "[encoded data removed]",
      "text/plain": [
       "<Figure size 432x288 with 1 Axes>"
      ]
     },
     "metadata": {
      "needs_background": "light"
     },
     "output_type": "display_data"
    },
    {
     "data": {
      "image/png": "[encoded data removed]",
      "text/plain": [
       "<Figure size 432x288 with 1 Axes>"
      ]
     },
     "metadata": {
      "needs_background": "light"
     },
     "output_type": "display_data"
    },
    {
     "data": {
      "text/html": [
       "\n",
       "        <script>\n",
       "            function code_toggle_3800278444938638307() {\n",
       "                $('div.cell.code_cell.rendered.selected').find('div.input').toggle();\n",
       "            }\n",
       "\n",
       "            \n",
       "        </script>\n",
       "\n",
       "        <a href=\"javascript:code_toggle_3800278444938638307()\">Toggle show/hide upper code</a>\n",
       "    "
      ],
      "text/plain": [
       "<IPython.core.display.HTML object>"
      ]
     },
     "execution_count": 11,
     "metadata": {},
     "output_type": "execute_result"
    }
   ],
   "source": [
    "# Scatter plot of longitude vs latitude in training set\n",
    "sns.scatterplot(data = df, x = \"LATITUDE\", y = \"LONGITUDE\", hue = \"BUILDINGID\",\n",
    "                    palette = ['green', 'blue', 'red'], legend = 'full')\n",
    "plt.xlabel('Latitude')\n",
    "plt.ylabel('Longitude')\n",
    "plt.title('Scatter plot of longitude vs latitude in training set')\n",
    "plt.show()\n",
    "\n",
    "\n",
    "# Scatter plot of longitude vs latitude in testing set\n",
    "sns.scatterplot(data = df_val, x = \"LATITUDE\", y = \"LONGITUDE\", hue = \"BUILDINGID\",\n",
    "                    palette = ['green', 'blue', 'red'], legend = 'full')\n",
    "plt.xlabel('Latitude')\n",
    "plt.ylabel('Longitude')\n",
    "plt.title('Scatter plot of longitude vs latitude in test set')\n",
    "plt.show()\n",
    "\n",
    "hide_toggle()"
   ]
  },
  {
   "cell_type": "markdown",
   "metadata": {},
   "source": [
    "### Change the WAP values to make more sense for the modelling"
   ]
  },
  {
   "cell_type": "markdown",
   "metadata": {},
   "source": [
    "Formula used to make more sense of the modelling. It consist of undoing the transformation that the original data had. Thus, the intensity signal is converted back to intensity from the Loss logarithmic state the dataset was presented in."
   ]
  },
  {
   "cell_type": "code",
   "execution_count": 12,
   "metadata": {},
   "outputs": [
    {
     "data": {
      "text/html": [
       "\n",
       "        <script>\n",
       "            function code_toggle_7644716903994040878() {\n",
       "                $('div.cell.code_cell.rendered.selected').find('div.input').toggle();\n",
       "            }\n",
       "\n",
       "            \n",
       "        </script>\n",
       "\n",
       "        <a href=\"javascript:code_toggle_7644716903994040878()\">Toggle show/hide upper code</a>\n",
       "    "
      ],
      "text/plain": [
       "<IPython.core.display.HTML object>"
      ]
     },
     "execution_count": 12,
     "metadata": {},
     "output_type": "execute_result"
    }
   ],
   "source": [
    "# Formula to change from Loss to intensity : d = (landa / 4 * pi) * (10**(WAP_VALUE/20)\n",
    "# where landa = c / f\n",
    "# where c = lightspeed (3*(10**8) m/s) and f = radio wave frequency (in this case 2.4 GHz or 2.4*(10**9) Hz)\n",
    "\n",
    "# Change the WAP values back from Loss to distance in the training set\n",
    "for col in wap_cols :\n",
    "    df.loc[:,col] = (10**(df.loc[:,col]/20)) * ((3*(10**8)) / (2.4*(10**9)) / 4 * pi)\n",
    "df[wap_cols] = df[wap_cols].replace((10**(100/20)* ((3*(10**8)) / (2.4*(10**9)) / 4 * pi)),0)\n",
    "\n",
    "\n",
    "# Change the WAP values back from Loss to distance in the testing set\n",
    "for col in wap_cols :\n",
    "    df_val.loc[:,col] = (10**(df_val.loc[:,col]/20)) * ((3*(10**8)) / (2.4*(10**9)) / 4 * pi)\n",
    "df_val[wap_cols] = df_val[wap_cols].replace((10**(100/20)* ((3*(10**8)) / (2.4*(10**9)) / 4 * pi)),0)\n",
    "\n",
    "hide_toggle()"
   ]
  },
  {
   "cell_type": "markdown",
   "metadata": {},
   "source": [
    "### Cells priorly used for error analysis and for triangulation purposes (please ignore them)"
   ]
  },
  {
   "cell_type": "code",
   "execution_count": 13,
   "metadata": {},
   "outputs": [
    {
     "data": {
      "text/html": [
       "\n",
       "        <script>\n",
       "            function code_toggle_11566595727159573948() {\n",
       "                $('div.cell.code_cell.rendered.selected').find('div.input').toggle();\n",
       "            }\n",
       "\n",
       "            \n",
       "        </script>\n",
       "\n",
       "        <a href=\"javascript:code_toggle_11566595727159573948()\">Toggle show/hide upper code</a>\n",
       "    "
      ],
      "text/plain": [
       "<IPython.core.display.HTML object>"
      ]
     },
     "execution_count": 13,
     "metadata": {},
     "output_type": "execute_result"
    }
   ],
   "source": [
    "#df = df[(df['USERID'] != 6) & (df['PHONEID'] != 19)]\n",
    "#df = df[(df['USERID'] != 11) & (df['PHONEID'] != 13)]\n",
    "#df = df.reset_index(drop = True)\n",
    "\n",
    "\n",
    "\n",
    "#df = df.drop(set(list(wap_latitude) + list(wap_longitude)),axis=1)\n",
    "#wap_cols = [col for col in df if col.startswith('WAP')]\n",
    "\n",
    "hide_toggle()"
   ]
  },
  {
   "cell_type": "code",
   "execution_count": 14,
   "metadata": {},
   "outputs": [
    {
     "data": {
      "text/html": [
       "\n",
       "        <script>\n",
       "            function code_toggle_1488925498691103784() {\n",
       "                $('div.cell.code_cell.rendered.selected').find('div.input').toggle();\n",
       "            }\n",
       "\n",
       "            \n",
       "        </script>\n",
       "\n",
       "        <a href=\"javascript:code_toggle_1488925498691103784()\">Toggle show/hide upper code</a>\n",
       "    "
      ],
      "text/plain": [
       "<IPython.core.display.HTML object>"
      ]
     },
     "execution_count": 14,
     "metadata": {},
     "output_type": "execute_result"
    }
   ],
   "source": [
    "#top_n = 3\n",
    "\n",
    "#df[wap_cols] = pd.DataFrame(np.where(df[wap_cols].rank(axis=1,method='min',ascending=False) > top_n, 0, df[wap_cols]),\n",
    "#                  columns=df[wap_cols].columns)\n",
    "\n",
    "hide_toggle()"
   ]
  },
  {
   "cell_type": "markdown",
   "metadata": {},
   "source": [
    "### Normalize the WAP values in each row"
   ]
  },
  {
   "cell_type": "markdown",
   "metadata": {},
   "source": [
    "To make sure that that the stength of the signal is the same for every phone and user ID, the ROWS of the dataset are normalized."
   ]
  },
  {
   "cell_type": "code",
   "execution_count": 15,
   "metadata": {},
   "outputs": [
    {
     "data": {
      "text/html": [
       "\n",
       "        <script>\n",
       "            function code_toggle_5492917851168807574() {\n",
       "                $('div.cell.code_cell.rendered.selected').find('div.input').toggle();\n",
       "            }\n",
       "\n",
       "            \n",
       "        </script>\n",
       "\n",
       "        <a href=\"javascript:code_toggle_5492917851168807574()\">Toggle show/hide upper code</a>\n",
       "    "
      ],
      "text/plain": [
       "<IPython.core.display.HTML object>"
      ]
     },
     "execution_count": 15,
     "metadata": {},
     "output_type": "execute_result"
    }
   ],
   "source": [
    "# Normalize the WAP values in each row for the training set\n",
    "std_scale = MinMaxScaler().fit(df[wap_cols].transpose())\n",
    "df_std = std_scale.transform(df[wap_cols].transpose())\n",
    "df[wap_cols] = pd.DataFrame(np.transpose(df_std))\n",
    "\n",
    "\n",
    "# Normalize the WAP values in each row for the testing set\n",
    "std_scale = MinMaxScaler().fit(df_val[wap_cols].transpose())\n",
    "df_std = std_scale.transform(df_val[wap_cols].transpose())\n",
    "df_val[wap_cols] = pd.DataFrame(np.transpose(df_std))\n",
    "\n",
    "hide_toggle()"
   ]
  },
  {
   "cell_type": "markdown",
   "metadata": {},
   "source": [
    "### PCA Analysis"
   ]
  },
  {
   "cell_type": "code",
   "execution_count": 16,
   "metadata": {},
   "outputs": [
    {
     "data": {
      "image/png": "[encoded data removed]",
      "text/plain": [
       "<Figure size 432x288 with 1 Axes>"
      ]
     },
     "metadata": {
      "needs_background": "light"
     },
     "output_type": "display_data"
    },
    {
     "data": {
      "text/html": [
       "\n",
       "        <script>\n",
       "            function code_toggle_15798944726950134784() {\n",
       "                $('div.cell.code_cell.rendered.selected').find('div.input').toggle();\n",
       "            }\n",
       "\n",
       "            \n",
       "        </script>\n",
       "\n",
       "        <a href=\"javascript:code_toggle_15798944726950134784()\">Toggle show/hide upper code</a>\n",
       "    "
      ],
      "text/plain": [
       "<IPython.core.display.HTML object>"
      ]
     },
     "execution_count": 16,
     "metadata": {},
     "output_type": "execute_result"
    }
   ],
   "source": [
    "# Fit the PCA data\n",
    "pca = PCA(n_components=None)\n",
    "pca.fit(df[wap_cols])\n",
    "\n",
    "\n",
    "# Scree plot of the PCA\n",
    "plt.plot(np.arange(1,(len(wap_cols)+1)), np.cumsum(pca.explained_variance_ratio_),\n",
    "         linestyle='--', marker='o', color='b')\n",
    "\n",
    "plt.title(\"Cumulative explained variance\")\n",
    "plt.xlabel('number of components')\n",
    "plt.ylabel('cumulative explained variance')\n",
    "plt.show()\n",
    "\n",
    "hide_toggle()"
   ]
  },
  {
   "cell_type": "markdown",
   "metadata": {},
   "source": [
    "From the scree plot, a number of 100 components can be chosen. Those will explain most of the variance of the features and save computational time."
   ]
  },
  {
   "cell_type": "code",
   "execution_count": 17,
   "metadata": {},
   "outputs": [],
   "source": [
    "# Select the number of components from the PCA\n",
    "number_of_components = 100\n",
    "\n",
    "\n",
    "# Fit and transform the WAPs with 100 components\n",
    "pca = PCA(n_components = number_of_components)  #Number of components to keep. Default -> all components kept\n",
    "pca.fit(df[wap_cols])\n",
    "\n",
    "pc_data = pca.transform(df[wap_cols])\n",
    "pc_data_val = pca.transform(df_val[wap_cols])\n",
    "\n",
    "\n",
    "# Eliminate the WAP columns and substitute them by the 100 components of the PCA\n",
    "df = df.drop(wap_cols, axis = 1)\n",
    "df_val = df_val.drop(wap_cols, axis = 1)\n",
    "\n",
    "wap_cols = list(range(0,number_of_components)) ###\n",
    "\n",
    "df[wap_cols] = pd.DataFrame(pc_data)\n",
    "df_val[wap_cols] = pd.DataFrame(pc_data_val)"
   ]
  },
  {
   "cell_type": "markdown",
   "metadata": {},
   "source": [
    "## <a class=\"anchor\" id=\"Modelling\"> 3. Modelling </a>"
   ]
  },
  {
   "cell_type": "markdown",
   "metadata": {},
   "source": [
    "### <a class=\"anchor\" id=\"Building\"> 3.1. Building </a>"
   ]
  },
  {
   "cell_type": "markdown",
   "metadata": {},
   "source": [
    "### Separate predictors and target and train set and test set"
   ]
  },
  {
   "cell_type": "code",
   "execution_count": 18,
   "metadata": {},
   "outputs": [
    {
     "data": {
      "text/html": [
       "\n",
       "        <script>\n",
       "            function code_toggle_5984949099251487283() {\n",
       "                $('div.cell.code_cell.rendered.selected').find('div.input').toggle();\n",
       "            }\n",
       "\n",
       "            \n",
       "        </script>\n",
       "\n",
       "        <a href=\"javascript:code_toggle_5984949099251487283()\">Toggle show/hide upper code</a>\n",
       "    "
      ],
      "text/plain": [
       "<IPython.core.display.HTML object>"
      ]
     },
     "execution_count": 18,
     "metadata": {},
     "output_type": "execute_result"
    }
   ],
   "source": [
    "# Separate predictors and target\n",
    "X = df[wap_cols]\n",
    "y = df['BUILDINGID']\n",
    "X_val = df_val[wap_cols]\n",
    "Y_val = df_val['BUILDINGID']\n",
    "\n",
    "\n",
    "# Separate train set and test set\n",
    "X_train, X_validation, Y_train, Y_validation = train_test_split(X, y,\n",
    "                                                                test_size=0.20,\n",
    "                                                                random_state=1,\n",
    "                                                                shuffle=True)\n",
    "\n",
    "hide_toggle()"
   ]
  },
  {
   "cell_type": "markdown",
   "metadata": {},
   "source": [
    "### Train various models and compare accuracy results"
   ]
  },
  {
   "cell_type": "code",
   "execution_count": 19,
   "metadata": {},
   "outputs": [
    {
     "name": "stdout",
     "output_type": "stream",
     "text": [
      "LR: CV accuracy: 0.999147 std: (0.000513)\n",
      "Test accuracy: 0.999475\n",
      "Test Kappa: 0.999180\n",
      "Confusion matrix\n",
      "[[1040    0    0]\n",
      " [   0  997    0]\n",
      " [   0    2 1769]]\n",
      "Classification Report\n",
      "              precision    recall  f1-score   support\n",
      "\n",
      "           0       1.00      1.00      1.00      1040\n",
      "           1       1.00      1.00      1.00       997\n",
      "           2       1.00      1.00      1.00      1771\n",
      "\n",
      "    accuracy                           1.00      3808\n",
      "   macro avg       1.00      1.00      1.00      3808\n",
      "weighted avg       1.00      1.00      1.00      3808\n",
      "\n",
      "LDA: CV accuracy: 0.993171 std: (0.002039)\n",
      "Test accuracy: 0.995273\n",
      "Test Kappa: 0.992611\n",
      "Confusion matrix\n",
      "[[1034    1    5]\n",
      " [   0  985   12]\n",
      " [   0    0 1771]]\n",
      "Classification Report\n",
      "              precision    recall  f1-score   support\n",
      "\n",
      "           0       1.00      0.99      1.00      1040\n",
      "           1       1.00      0.99      0.99       997\n",
      "           2       0.99      1.00      1.00      1771\n",
      "\n",
      "    accuracy                           1.00      3808\n",
      "   macro avg       1.00      0.99      1.00      3808\n",
      "weighted avg       1.00      1.00      1.00      3808\n",
      "\n",
      "KNN: CV accuracy: 0.999737 std: (0.000322)\n",
      "Test accuracy: 0.999737\n",
      "Test Kappa: 0.999590\n",
      "Confusion matrix\n",
      "[[1040    0    0]\n",
      " [   0  997    0]\n",
      " [   0    1 1770]]\n",
      "Classification Report\n",
      "              precision    recall  f1-score   support\n",
      "\n",
      "           0       1.00      1.00      1.00      1040\n",
      "           1       1.00      1.00      1.00       997\n",
      "           2       1.00      1.00      1.00      1771\n",
      "\n",
      "    accuracy                           1.00      3808\n",
      "   macro avg       1.00      1.00      1.00      3808\n",
      "weighted avg       1.00      1.00      1.00      3808\n",
      "\n",
      "DT: CV accuracy: 0.999737 std: (0.000322)\n",
      "Test accuracy: 0.999737\n",
      "Test Kappa: 0.999590\n",
      "Confusion matrix\n",
      "[[1040    0    0]\n",
      " [   0  997    0]\n",
      " [   0    1 1770]]\n",
      "Classification Report\n",
      "              precision    recall  f1-score   support\n",
      "\n",
      "           0       1.00      1.00      1.00      1040\n",
      "           1       1.00      1.00      1.00       997\n",
      "           2       1.00      1.00      1.00      1771\n",
      "\n",
      "    accuracy                           1.00      3808\n",
      "   macro avg       1.00      1.00      1.00      3808\n",
      "weighted avg       1.00      1.00      1.00      3808\n",
      "\n",
      "NB: CV accuracy: 0.996520 std: (0.001020)\n",
      "Test accuracy: 0.997374\n",
      "Test Kappa: 0.995904\n",
      "Confusion matrix\n",
      "[[1039    1    0]\n",
      " [   0  997    0]\n",
      " [   0    9 1762]]\n",
      "Classification Report\n",
      "              precision    recall  f1-score   support\n",
      "\n",
      "           0       1.00      1.00      1.00      1040\n",
      "           1       0.99      1.00      1.00       997\n",
      "           2       1.00      0.99      1.00      1771\n",
      "\n",
      "    accuracy                           1.00      3808\n",
      "   macro avg       1.00      1.00      1.00      3808\n",
      "weighted avg       1.00      1.00      1.00      3808\n",
      "\n"
     ]
    },
    {
     "name": "stderr",
     "output_type": "stream",
     "text": [
      "C:\\ProgramData\\Anaconda3\\lib\\site-packages\\sklearn\\ensemble\\forest.py:245: FutureWarning: The default value of n_estimators will change from 10 in version 0.20 to 100 in 0.22.\n",
      "  \"10 in version 0.20 to 100 in 0.22.\", FutureWarning)\n",
      "C:\\ProgramData\\Anaconda3\\lib\\site-packages\\sklearn\\ensemble\\forest.py:245: FutureWarning: The default value of n_estimators will change from 10 in version 0.20 to 100 in 0.22.\n",
      "  \"10 in version 0.20 to 100 in 0.22.\", FutureWarning)\n",
      "C:\\ProgramData\\Anaconda3\\lib\\site-packages\\sklearn\\ensemble\\forest.py:245: FutureWarning: The default value of n_estimators will change from 10 in version 0.20 to 100 in 0.22.\n",
      "  \"10 in version 0.20 to 100 in 0.22.\", FutureWarning)\n",
      "C:\\ProgramData\\Anaconda3\\lib\\site-packages\\sklearn\\ensemble\\forest.py:245: FutureWarning: The default value of n_estimators will change from 10 in version 0.20 to 100 in 0.22.\n",
      "  \"10 in version 0.20 to 100 in 0.22.\", FutureWarning)\n",
      "C:\\ProgramData\\Anaconda3\\lib\\site-packages\\sklearn\\ensemble\\forest.py:245: FutureWarning: The default value of n_estimators will change from 10 in version 0.20 to 100 in 0.22.\n",
      "  \"10 in version 0.20 to 100 in 0.22.\", FutureWarning)\n",
      "C:\\ProgramData\\Anaconda3\\lib\\site-packages\\sklearn\\ensemble\\forest.py:245: FutureWarning: The default value of n_estimators will change from 10 in version 0.20 to 100 in 0.22.\n",
      "  \"10 in version 0.20 to 100 in 0.22.\", FutureWarning)\n",
      "C:\\ProgramData\\Anaconda3\\lib\\site-packages\\sklearn\\ensemble\\forest.py:245: FutureWarning: The default value of n_estimators will change from 10 in version 0.20 to 100 in 0.22.\n",
      "  \"10 in version 0.20 to 100 in 0.22.\", FutureWarning)\n",
      "C:\\ProgramData\\Anaconda3\\lib\\site-packages\\sklearn\\ensemble\\forest.py:245: FutureWarning: The default value of n_estimators will change from 10 in version 0.20 to 100 in 0.22.\n",
      "  \"10 in version 0.20 to 100 in 0.22.\", FutureWarning)\n",
      "C:\\ProgramData\\Anaconda3\\lib\\site-packages\\sklearn\\ensemble\\forest.py:245: FutureWarning: The default value of n_estimators will change from 10 in version 0.20 to 100 in 0.22.\n",
      "  \"10 in version 0.20 to 100 in 0.22.\", FutureWarning)\n",
      "C:\\ProgramData\\Anaconda3\\lib\\site-packages\\sklearn\\ensemble\\forest.py:245: FutureWarning: The default value of n_estimators will change from 10 in version 0.20 to 100 in 0.22.\n",
      "  \"10 in version 0.20 to 100 in 0.22.\", FutureWarning)\n",
      "C:\\ProgramData\\Anaconda3\\lib\\site-packages\\sklearn\\ensemble\\forest.py:245: FutureWarning: The default value of n_estimators will change from 10 in version 0.20 to 100 in 0.22.\n",
      "  \"10 in version 0.20 to 100 in 0.22.\", FutureWarning)\n"
     ]
    },
    {
     "name": "stdout",
     "output_type": "stream",
     "text": [
      "RF: CV accuracy: 0.999803 std: (0.000420)\n",
      "Test accuracy: 0.999737\n",
      "Test Kappa: 0.999590\n",
      "Confusion matrix\n",
      "[[1040    0    0]\n",
      " [   0  997    0]\n",
      " [   0    1 1770]]\n",
      "Classification Report\n",
      "              precision    recall  f1-score   support\n",
      "\n",
      "           0       1.00      1.00      1.00      1040\n",
      "           1       1.00      1.00      1.00       997\n",
      "           2       1.00      1.00      1.00      1771\n",
      "\n",
      "    accuracy                           1.00      3808\n",
      "   macro avg       1.00      1.00      1.00      3808\n",
      "weighted avg       1.00      1.00      1.00      3808\n",
      "\n"
     ]
    },
    {
     "data": {
      "image/png": "[encoded data removed]",
      "text/plain": [
       "<Figure size 432x288 with 1 Axes>"
      ]
     },
     "metadata": {
      "needs_background": "light"
     },
     "output_type": "display_data"
    },
    {
     "data": {
      "text/html": [
       "\n",
       "        <script>\n",
       "            function code_toggle_7337068624308320599() {\n",
       "                $('div.cell.code_cell.rendered.selected').find('div.input').toggle();\n",
       "            }\n",
       "\n",
       "            \n",
       "        </script>\n",
       "\n",
       "        <a href=\"javascript:code_toggle_7337068624308320599()\">Toggle show/hide upper code</a>\n",
       "    "
      ],
      "text/plain": [
       "<IPython.core.display.HTML object>"
      ]
     },
     "execution_count": 19,
     "metadata": {},
     "output_type": "execute_result"
    }
   ],
   "source": [
    "# Define the models to be used\n",
    "models = []\n",
    "models.append(('LR', LogisticRegression(solver='liblinear',\n",
    "                                        multi_class='ovr')))\n",
    "models.append(('LDA', LinearDiscriminantAnalysis()))\n",
    "models.append(('KNN', KNeighborsClassifier()))\n",
    "models.append(('DT', DecisionTreeClassifier()))\n",
    "models.append(('NB', GaussianNB()))\n",
    "models.append(('RF', RandomForestClassifier()))\n",
    "#models.append(('XGB', GradientBoostingClassifier()))\n",
    "\n",
    "\n",
    "# Evaluate each model in turn\n",
    "results = []\n",
    "names = []\n",
    "for name, model in models :\n",
    "    kfold = StratifiedKFold(n_splits=10, random_state=1)\n",
    "    cv_results = cross_val_score(model, X_train, Y_train, cv=kfold, scoring='accuracy')\n",
    "    results.append(cv_results)\n",
    "    names.append(name)\n",
    "    model.fit(X_train, Y_train)\n",
    "    predictions = model.predict(X_validation)\n",
    "    print('%s: CV accuracy: %f std: (%f)' % (name,\n",
    "                                             cv_results.mean(),\n",
    "                                             cv_results.std()))\n",
    "    print('Test accuracy: %f' % (metrics.accuracy_score(Y_validation, predictions)))\n",
    "    print('Test Kappa: %f' % (metrics.cohen_kappa_score(Y_validation, predictions)))\n",
    "    print('Confusion matrix')\n",
    "    print(metrics.confusion_matrix(Y_validation, predictions))\n",
    "    print('Classification Report')\n",
    "    print(metrics.classification_report(Y_validation, predictions))\n",
    "\n",
    "\n",
    "# Compare Algorithms\n",
    "plt.boxplot(results, labels=names)\n",
    "plt.title('Algorithm Comparison')\n",
    "plt.show()\n",
    "\n",
    "hide_toggle()"
   ]
  },
  {
   "cell_type": "markdown",
   "metadata": {},
   "source": [
    "### Select the best model and tune it"
   ]
  },
  {
   "cell_type": "markdown",
   "metadata": {},
   "source": [
    "There are 2 candidates for the best model for BUILDING identification, which are KNN and RandomForest.  \n",
    "Both of the models will be tuned and then the best one will be chosen based on the best accuracy on the validation set."
   ]
  },
  {
   "cell_type": "markdown",
   "metadata": {},
   "source": [
    "##### Tune the KNN model:"
   ]
  },
  {
   "cell_type": "code",
   "execution_count": 20,
   "metadata": {},
   "outputs": [
    {
     "name": "stdout",
     "output_type": "stream",
     "text": [
      "Fitting 10 folds for each of 5 candidates, totalling 50 fits\n"
     ]
    },
    {
     "name": "stderr",
     "output_type": "stream",
     "text": [
      "[Parallel(n_jobs=1)]: Using backend SequentialBackend with 1 concurrent workers.\n"
     ]
    },
    {
     "name": "stdout",
     "output_type": "stream",
     "text": [
      "Best score : 0.999934\n",
      "Best parameters:\n",
      "{'n_neighbors': 1}\n"
     ]
    },
    {
     "name": "stderr",
     "output_type": "stream",
     "text": [
      "[Parallel(n_jobs=1)]: Done  50 out of  50 | elapsed:   25.1s finished\n"
     ]
    },
    {
     "data": {
      "text/html": [
       "\n",
       "        <script>\n",
       "            function code_toggle_515490816792156178() {\n",
       "                $('div.cell.code_cell.rendered.selected').find('div.input').toggle();\n",
       "            }\n",
       "\n",
       "            \n",
       "        </script>\n",
       "\n",
       "        <a href=\"javascript:code_toggle_515490816792156178()\">Toggle show/hide upper code</a>\n",
       "    "
      ],
      "text/plain": [
       "<IPython.core.display.HTML object>"
      ]
     },
     "execution_count": 20,
     "metadata": {},
     "output_type": "execute_result"
    },
    {
     "data": {
      "image/png": "[encoded data removed]",
      "text/plain": [
       "<Figure size 432x288 with 1 Axes>"
      ]
     },
     "metadata": {
      "needs_background": "light"
     },
     "output_type": "display_data"
    }
   ],
   "source": [
    "# KNN hyperparameter tunning\n",
    "k_range = [1,2,3,4,5]\n",
    "grid_params = {'n_neighbors' : k_range}\n",
    "\n",
    "gs = GridSearchCV(KNeighborsClassifier(),\n",
    "                 grid_params,\n",
    "                 verbose = 1,\n",
    "                 cv = 10)\n",
    "                 \n",
    "gs_results = gs.fit(X_train, Y_train)\n",
    "\n",
    "print('Best score : %f' % gs_results.best_score_)\n",
    "print('Best parameters:')\n",
    "print(gs_results.best_params_)\n",
    "\n",
    "# Plot the accuracy of the different K values\n",
    "plt.plot(k_range, gs_results.cv_results_['mean_test_score'])\n",
    "plt.xlabel('Value of K for KNN')\n",
    "plt.ylabel('Cross-Validated Accuracy')\n",
    "\n",
    "hide_toggle()"
   ]
  },
  {
   "cell_type": "markdown",
   "metadata": {},
   "source": [
    "##### Define the report function, which summarises the best result of the RandomForest RandomizedSearchCV"
   ]
  },
  {
   "cell_type": "code",
   "execution_count": 21,
   "metadata": {},
   "outputs": [
    {
     "data": {
      "text/html": [
       "\n",
       "        <script>\n",
       "            function code_toggle_823112921943740772() {\n",
       "                $('div.cell.code_cell.rendered.selected').find('div.input').toggle();\n",
       "            }\n",
       "\n",
       "            \n",
       "        </script>\n",
       "\n",
       "        <a href=\"javascript:code_toggle_823112921943740772()\">Toggle show/hide upper code</a>\n",
       "    "
      ],
      "text/plain": [
       "<IPython.core.display.HTML object>"
      ]
     },
     "execution_count": 21,
     "metadata": {},
     "output_type": "execute_result"
    }
   ],
   "source": [
    "# Definition of the report function\n",
    "def report(results, n_top=1):\n",
    "    for i in range(1, n_top + 1):\n",
    "        candidates = np.flatnonzero(results['rank_test_score'] == i)\n",
    "        for candidate in candidates:\n",
    "            print(\"Model with rank: {0}\".format(i))\n",
    "            print(\"Mean validation score: {0:.3f} (std: {1:.3f})\".format(\n",
    "                  results['mean_test_score'][candidate],\n",
    "                  results['std_test_score'][candidate]))\n",
    "            print(\"Parameters: {0}\".format(results['params'][candidate]))\n",
    "            print(\"\")\n",
    "\n",
    "hide_toggle()"
   ]
  },
  {
   "cell_type": "markdown",
   "metadata": {},
   "source": [
    "##### Tune the RandomForest model:"
   ]
  },
  {
   "cell_type": "code",
   "execution_count": 22,
   "metadata": {},
   "outputs": [
    {
     "name": "stderr",
     "output_type": "stream",
     "text": [
      "C:\\ProgramData\\Anaconda3\\lib\\site-packages\\sklearn\\model_selection\\_split.py:1978: FutureWarning: The default value of cv will change from 3 to 5 in version 0.22. Specify it explicitly to silence this warning.\n",
      "  warnings.warn(CV_WARNING, FutureWarning)\n"
     ]
    },
    {
     "name": "stdout",
     "output_type": "stream",
     "text": [
      "Model with rank: 1\n",
      "Mean validation score: 1.000 (std: 0.000)\n",
      "Parameters: {'n_estimators': 10, 'min_samples_split': 10, 'min_samples_leaf': 2, 'max_features': 'sqrt', 'max_depth': 100, 'bootstrap': False}\n",
      "\n",
      "Model with rank: 1\n",
      "Mean validation score: 1.000 (std: 0.000)\n",
      "Parameters: {'n_estimators': 100, 'min_samples_split': 2, 'min_samples_leaf': 1, 'max_features': 'sqrt', 'max_depth': 10, 'bootstrap': True}\n",
      "\n",
      "Model with rank: 1\n",
      "Mean validation score: 1.000 (std: 0.000)\n",
      "Parameters: {'n_estimators': 100, 'min_samples_split': 5, 'min_samples_leaf': 1, 'max_features': 'sqrt', 'max_depth': None, 'bootstrap': False}\n",
      "\n",
      "Model with rank: 1\n",
      "Mean validation score: 1.000 (std: 0.000)\n",
      "Parameters: {'n_estimators': 50, 'min_samples_split': 2, 'min_samples_leaf': 1, 'max_features': 'auto', 'max_depth': 100, 'bootstrap': False}\n",
      "\n",
      "Model with rank: 1\n",
      "Mean validation score: 1.000 (std: 0.000)\n",
      "Parameters: {'n_estimators': 100, 'min_samples_split': 2, 'min_samples_leaf': 1, 'max_features': 'auto', 'max_depth': 100, 'bootstrap': True}\n",
      "\n"
     ]
    },
    {
     "data": {
      "text/html": [
       "\n",
       "        <script>\n",
       "            function code_toggle_12175153178162337385() {\n",
       "                $('div.cell.code_cell.rendered.selected').find('div.input').toggle();\n",
       "            }\n",
       "\n",
       "            \n",
       "        </script>\n",
       "\n",
       "        <a href=\"javascript:code_toggle_12175153178162337385()\">Toggle show/hide upper code</a>\n",
       "    "
      ],
      "text/plain": [
       "<IPython.core.display.HTML object>"
      ]
     },
     "execution_count": 22,
     "metadata": {},
     "output_type": "execute_result"
    }
   ],
   "source": [
    "# Number of trees in random forest\n",
    "n_estimators = [10, 50, 100]\n",
    "# Number of features to consider at every split\n",
    "max_features = ['auto', 'sqrt']\n",
    "# Maximum number of levels in tree\n",
    "max_depth = [10, 100]\n",
    "max_depth.append(None)\n",
    "# Minimum number of samples required to split a node\n",
    "min_samples_split = [2, 5, 10]\n",
    "# Minimum number of samples required at each leaf node\n",
    "min_samples_leaf = [1, 2, 4]\n",
    "# Method of selecting samples for training each tree\n",
    "bootstrap = [True, False]\n",
    "# Create the random grid\n",
    "param_distributions = {'n_estimators': n_estimators,\n",
    "               'max_features': max_features,\n",
    "               'max_depth': max_depth,\n",
    "               'min_samples_split': min_samples_split,\n",
    "               'min_samples_leaf': min_samples_leaf,\n",
    "               'bootstrap': bootstrap}\n",
    "# Set the number of iterations for the randomized search cv\n",
    "n_iter = 30\n",
    "\n",
    "\n",
    "# Perform the RandomizedSearchCV\n",
    "random_search = RandomizedSearchCV(RandomForestClassifier(), param_distributions = param_distributions, n_iter = n_iter)\n",
    "random_search.fit(X_train, Y_train)\n",
    "\n",
    "\n",
    "# Report the results of the rank 1 model (the best one) from the RandomizedSearchCV\n",
    "report(random_search.cv_results_)\n",
    "\n",
    "hide_toggle()"
   ]
  },
  {
   "cell_type": "markdown",
   "metadata": {},
   "source": [
    "### Test the tuned best model on the validation set (KNN)"
   ]
  },
  {
   "cell_type": "code",
   "execution_count": 23,
   "metadata": {},
   "outputs": [
    {
     "name": "stdout",
     "output_type": "stream",
     "text": [
      "KNN evaluation\n",
      "Accuracy 0.999100 Kappa 0.998577\n",
      "Confusion matrix\n",
      "[[536   0   0]\n",
      " [  0 306   1]\n",
      " [  0   0 268]]\n",
      "Classification report\n",
      "              precision    recall  f1-score   support\n",
      "\n",
      "           0       1.00      1.00      1.00       536\n",
      "           1       1.00      1.00      1.00       307\n",
      "           2       1.00      1.00      1.00       268\n",
      "\n",
      "    accuracy                           1.00      1111\n",
      "   macro avg       1.00      1.00      1.00      1111\n",
      "weighted avg       1.00      1.00      1.00      1111\n",
      "\n"
     ]
    },
    {
     "data": {
      "text/html": [
       "\n",
       "        <script>\n",
       "            function code_toggle_16717132288904644830() {\n",
       "                $('div.cell.code_cell.rendered.selected').find('div.input').toggle();\n",
       "            }\n",
       "\n",
       "            \n",
       "        </script>\n",
       "\n",
       "        <a href=\"javascript:code_toggle_16717132288904644830()\">Toggle show/hide upper code</a>\n",
       "    "
      ],
      "text/plain": [
       "<IPython.core.display.HTML object>"
      ]
     },
     "execution_count": 23,
     "metadata": {},
     "output_type": "execute_result"
    }
   ],
   "source": [
    "# Predict using the KNN model\n",
    "model = KNeighborsClassifier(n_neighbors = 1)\n",
    "model.fit(X, y)\n",
    "prediction_building = model.predict(X_val)\n",
    "\n",
    "\n",
    "# Evaluate the predictions\n",
    "print('KNN evaluation')\n",
    "print('Accuracy %f Kappa %f' % (metrics.accuracy_score(Y_val, prediction_building),\n",
    "                                metrics.cohen_kappa_score(Y_val,prediction_building)))\n",
    "print('Confusion matrix')\n",
    "print(metrics.confusion_matrix(Y_val, prediction_building))\n",
    "print('Classification report')\n",
    "print(metrics.classification_report(Y_val, prediction_building))\n",
    "\n",
    "hide_toggle()"
   ]
  },
  {
   "cell_type": "markdown",
   "metadata": {},
   "source": [
    "### Test the tuned best model on the validation set (RandomForest)"
   ]
  },
  {
   "cell_type": "code",
   "execution_count": 24,
   "metadata": {},
   "outputs": [
    {
     "name": "stdout",
     "output_type": "stream",
     "text": [
      "Random Forest evaluation\n",
      "Accuracy 1.000000 Kappa 1.000000\n",
      "Confusion matrix\n",
      "[[536   0   0]\n",
      " [  0 307   0]\n",
      " [  0   0 268]]\n",
      "Classification report\n",
      "              precision    recall  f1-score   support\n",
      "\n",
      "           0       1.00      1.00      1.00       536\n",
      "           1       1.00      1.00      1.00       307\n",
      "           2       1.00      1.00      1.00       268\n",
      "\n",
      "    accuracy                           1.00      1111\n",
      "   macro avg       1.00      1.00      1.00      1111\n",
      "weighted avg       1.00      1.00      1.00      1111\n",
      "\n"
     ]
    }
   ],
   "source": [
    "# Predict using the RandomForest model\n",
    "model = RandomForestClassifier(n_estimators = 100, min_samples_split = 5, min_samples_leaf = 1, max_features = 'sqrt', max_depth = None, bootstrap = False)\n",
    "model.fit(X, y)\n",
    "prediction_building = model.predict(X_val)\n",
    "\n",
    "\n",
    "# Evaluate the predictions\n",
    "print('Random Forest evaluation')\n",
    "print('Accuracy %f Kappa %f' % (metrics.accuracy_score(Y_val, prediction_building),\n",
    "                                metrics.cohen_kappa_score(Y_val,prediction_building)))\n",
    "print('Confusion matrix')\n",
    "print(metrics.confusion_matrix(Y_val, prediction_building))\n",
    "print('Classification report')\n",
    "print(metrics.classification_report(Y_val, prediction_building))\n",
    "\n",
    "\n",
    "# Save the accuracy of the building\n",
    "accuracy_building = metrics.accuracy_score(Y_val, prediction_building)"
   ]
  },
  {
   "cell_type": "markdown",
   "metadata": {},
   "source": [
    "The Random forest model gives a better result on the validation test, thus it is the one that will be used."
   ]
  },
  {
   "cell_type": "markdown",
   "metadata": {},
   "source": [
    "### <a class=\"anchor\" id=\"Floor\"> 3.2. Floor </a>"
   ]
  },
  {
   "cell_type": "markdown",
   "metadata": {},
   "source": [
    "### Separate predictors and target and train set and test set"
   ]
  },
  {
   "cell_type": "code",
   "execution_count": 25,
   "metadata": {},
   "outputs": [
    {
     "data": {
      "text/html": [
       "\n",
       "        <script>\n",
       "            function code_toggle_12600356883828591256() {\n",
       "                $('div.cell.code_cell.rendered.selected').find('div.input').toggle();\n",
       "            }\n",
       "\n",
       "            \n",
       "        </script>\n",
       "\n",
       "        <a href=\"javascript:code_toggle_12600356883828591256()\">Toggle show/hide upper code</a>\n",
       "    "
      ],
      "text/plain": [
       "<IPython.core.display.HTML object>"
      ]
     },
     "execution_count": 25,
     "metadata": {},
     "output_type": "execute_result"
    }
   ],
   "source": [
    "# Separate predictors and target\n",
    "X = df[wap_cols]\n",
    "y = df['FLOOR']\n",
    "X_val = df_val[wap_cols]\n",
    "Y_val = df_val['FLOOR']\n",
    "\n",
    "\n",
    "# Separate train set and test set\n",
    "X_train, X_validation, Y_train, Y_validation = train_test_split(X, y,\n",
    "                                                                test_size=0.20,\n",
    "                                                                random_state=1,\n",
    "                                                                shuffle=True)\n",
    "\n",
    "hide_toggle()"
   ]
  },
  {
   "cell_type": "markdown",
   "metadata": {},
   "source": [
    "### Train various models and compare accuracy results"
   ]
  },
  {
   "cell_type": "code",
   "execution_count": 26,
   "metadata": {},
   "outputs": [
    {
     "name": "stdout",
     "output_type": "stream",
     "text": [
      "LR: CV accuracy: 0.969075 std: (0.004157)\n",
      "Test accuracy: 0.971901\n",
      "Test Kappa: 0.963154\n",
      "Confusion matrix\n",
      "[[865  11   7   0   0]\n",
      " [  5 901  13   1   0]\n",
      " [  0  10 868   8   1]\n",
      " [  0   6  20 972  11]\n",
      " [  1   1   2  10  95]]\n",
      "Classification Report\n",
      "              precision    recall  f1-score   support\n",
      "\n",
      "           0       0.99      0.98      0.99       883\n",
      "           1       0.97      0.98      0.97       920\n",
      "           2       0.95      0.98      0.97       887\n",
      "           3       0.98      0.96      0.97      1009\n",
      "           4       0.89      0.87      0.88       109\n",
      "\n",
      "    accuracy                           0.97      3808\n",
      "   macro avg       0.96      0.95      0.96      3808\n",
      "weighted avg       0.97      0.97      0.97      3808\n",
      "\n",
      "LDA: CV accuracy: 0.954434 std: (0.004556)\n",
      "Test accuracy: 0.957721\n",
      "Test Kappa: 0.944562\n",
      "Confusion matrix\n",
      "[[858  18   7   0   0]\n",
      " [ 16 886  17   1   0]\n",
      " [  0  13 869   4   1]\n",
      " [  0   8  45 944  12]\n",
      " [  1   1   5  12  90]]\n",
      "Classification Report\n",
      "              precision    recall  f1-score   support\n",
      "\n",
      "           0       0.98      0.97      0.98       883\n",
      "           1       0.96      0.96      0.96       920\n",
      "           2       0.92      0.98      0.95       887\n",
      "           3       0.98      0.94      0.96      1009\n",
      "           4       0.87      0.83      0.85       109\n",
      "\n",
      "    accuracy                           0.96      3808\n",
      "   macro avg       0.94      0.94      0.94      3808\n",
      "weighted avg       0.96      0.96      0.96      3808\n",
      "\n",
      "KNN: CV accuracy: 0.987721 std: (0.003697)\n",
      "Test accuracy: 0.989233\n",
      "Test Kappa: 0.985882\n",
      "Confusion matrix\n",
      "[[880   3   0   0   0]\n",
      " [  2 913   4   1   0]\n",
      " [  0   0 880   6   1]\n",
      " [  0   1  10 992   6]\n",
      " [  1   1   0   5 102]]\n",
      "Classification Report\n",
      "              precision    recall  f1-score   support\n",
      "\n",
      "           0       1.00      1.00      1.00       883\n",
      "           1       0.99      0.99      0.99       920\n",
      "           2       0.98      0.99      0.99       887\n",
      "           3       0.99      0.98      0.99      1009\n",
      "           4       0.94      0.94      0.94       109\n",
      "\n",
      "    accuracy                           0.99      3808\n",
      "   macro avg       0.98      0.98      0.98      3808\n",
      "weighted avg       0.99      0.99      0.99      3808\n",
      "\n",
      "DT: CV accuracy: 0.968617 std: (0.005167)\n",
      "Test accuracy: 0.972952\n",
      "Test Kappa: 0.964545\n",
      "Confusion matrix\n",
      "[[869   8   1   3   2]\n",
      " [  8 900   9   2   1]\n",
      " [  1   9 863  12   2]\n",
      " [  1   4  14 977  13]\n",
      " [  1   1   1  10  96]]\n",
      "Classification Report\n",
      "              precision    recall  f1-score   support\n",
      "\n",
      "           0       0.99      0.98      0.99       883\n",
      "           1       0.98      0.98      0.98       920\n",
      "           2       0.97      0.97      0.97       887\n",
      "           3       0.97      0.97      0.97      1009\n",
      "           4       0.84      0.88      0.86       109\n",
      "\n",
      "    accuracy                           0.97      3808\n",
      "   macro avg       0.95      0.96      0.95      3808\n",
      "weighted avg       0.97      0.97      0.97      3808\n",
      "\n"
     ]
    },
    {
     "name": "stderr",
     "output_type": "stream",
     "text": [
      "C:\\ProgramData\\Anaconda3\\lib\\site-packages\\sklearn\\ensemble\\forest.py:245: FutureWarning: The default value of n_estimators will change from 10 in version 0.20 to 100 in 0.22.\n",
      "  \"10 in version 0.20 to 100 in 0.22.\", FutureWarning)\n",
      "C:\\ProgramData\\Anaconda3\\lib\\site-packages\\sklearn\\ensemble\\forest.py:245: FutureWarning: The default value of n_estimators will change from 10 in version 0.20 to 100 in 0.22.\n",
      "  \"10 in version 0.20 to 100 in 0.22.\", FutureWarning)\n",
      "C:\\ProgramData\\Anaconda3\\lib\\site-packages\\sklearn\\ensemble\\forest.py:245: FutureWarning: The default value of n_estimators will change from 10 in version 0.20 to 100 in 0.22.\n",
      "  \"10 in version 0.20 to 100 in 0.22.\", FutureWarning)\n",
      "C:\\ProgramData\\Anaconda3\\lib\\site-packages\\sklearn\\ensemble\\forest.py:245: FutureWarning: The default value of n_estimators will change from 10 in version 0.20 to 100 in 0.22.\n",
      "  \"10 in version 0.20 to 100 in 0.22.\", FutureWarning)\n",
      "C:\\ProgramData\\Anaconda3\\lib\\site-packages\\sklearn\\ensemble\\forest.py:245: FutureWarning: The default value of n_estimators will change from 10 in version 0.20 to 100 in 0.22.\n",
      "  \"10 in version 0.20 to 100 in 0.22.\", FutureWarning)\n",
      "C:\\ProgramData\\Anaconda3\\lib\\site-packages\\sklearn\\ensemble\\forest.py:245: FutureWarning: The default value of n_estimators will change from 10 in version 0.20 to 100 in 0.22.\n",
      "  \"10 in version 0.20 to 100 in 0.22.\", FutureWarning)\n",
      "C:\\ProgramData\\Anaconda3\\lib\\site-packages\\sklearn\\ensemble\\forest.py:245: FutureWarning: The default value of n_estimators will change from 10 in version 0.20 to 100 in 0.22.\n",
      "  \"10 in version 0.20 to 100 in 0.22.\", FutureWarning)\n",
      "C:\\ProgramData\\Anaconda3\\lib\\site-packages\\sklearn\\ensemble\\forest.py:245: FutureWarning: The default value of n_estimators will change from 10 in version 0.20 to 100 in 0.22.\n",
      "  \"10 in version 0.20 to 100 in 0.22.\", FutureWarning)\n",
      "C:\\ProgramData\\Anaconda3\\lib\\site-packages\\sklearn\\ensemble\\forest.py:245: FutureWarning: The default value of n_estimators will change from 10 in version 0.20 to 100 in 0.22.\n",
      "  \"10 in version 0.20 to 100 in 0.22.\", FutureWarning)\n",
      "C:\\ProgramData\\Anaconda3\\lib\\site-packages\\sklearn\\ensemble\\forest.py:245: FutureWarning: The default value of n_estimators will change from 10 in version 0.20 to 100 in 0.22.\n",
      "  \"10 in version 0.20 to 100 in 0.22.\", FutureWarning)\n",
      "C:\\ProgramData\\Anaconda3\\lib\\site-packages\\sklearn\\ensemble\\forest.py:245: FutureWarning: The default value of n_estimators will change from 10 in version 0.20 to 100 in 0.22.\n",
      "  \"10 in version 0.20 to 100 in 0.22.\", FutureWarning)\n"
     ]
    },
    {
     "name": "stdout",
     "output_type": "stream",
     "text": [
      "RF: CV accuracy: 0.987655 std: (0.003634)\n",
      "Test accuracy: 0.988183\n",
      "Test Kappa: 0.984500\n",
      "Confusion matrix\n",
      "[[881   2   0   0   0]\n",
      " [  1 915   4   0   0]\n",
      " [  0   6 875   6   0]\n",
      " [  1   1   8 993   6]\n",
      " [  1   0   2   7  99]]\n",
      "Classification Report\n",
      "              precision    recall  f1-score   support\n",
      "\n",
      "           0       1.00      1.00      1.00       883\n",
      "           1       0.99      0.99      0.99       920\n",
      "           2       0.98      0.99      0.99       887\n",
      "           3       0.99      0.98      0.99      1009\n",
      "           4       0.94      0.91      0.93       109\n",
      "\n",
      "    accuracy                           0.99      3808\n",
      "   macro avg       0.98      0.97      0.98      3808\n",
      "weighted avg       0.99      0.99      0.99      3808\n",
      "\n"
     ]
    },
    {
     "data": {
      "image/png": "[encoded data removed]",
      "text/plain": [
       "<Figure size 432x288 with 1 Axes>"
      ]
     },
     "metadata": {
      "needs_background": "light"
     },
     "output_type": "display_data"
    },
    {
     "data": {
      "text/html": [
       "\n",
       "        <script>\n",
       "            function code_toggle_593095235983002345() {\n",
       "                $('div.cell.code_cell.rendered.selected').find('div.input').toggle();\n",
       "            }\n",
       "\n",
       "            \n",
       "        </script>\n",
       "\n",
       "        <a href=\"javascript:code_toggle_593095235983002345()\">Toggle show/hide upper code</a>\n",
       "    "
      ],
      "text/plain": [
       "<IPython.core.display.HTML object>"
      ]
     },
     "execution_count": 26,
     "metadata": {},
     "output_type": "execute_result"
    }
   ],
   "source": [
    "# Define the models to be used\n",
    "models = []\n",
    "models.append(('LR', LogisticRegression(solver='liblinear',\n",
    "                                        multi_class='ovr')))\n",
    "models.append(('LDA', LinearDiscriminantAnalysis()))\n",
    "models.append(('KNN', KNeighborsClassifier()))\n",
    "models.append(('DT', DecisionTreeClassifier()))\n",
    "models.append(('RF', RandomForestClassifier()))\n",
    "#models.append(('XGB', GradientBoostingClassifier()))\n",
    "\n",
    "\n",
    "# Evaluate each model in turn\n",
    "results = []\n",
    "names = []\n",
    "for name, model in models :\n",
    "    kfold = StratifiedKFold(n_splits=10, random_state=1)\n",
    "    cv_results = cross_val_score(model, X_train, Y_train, cv=kfold, scoring='accuracy')\n",
    "    results.append(cv_results)\n",
    "    names.append(name)\n",
    "    model.fit(X_train, Y_train)\n",
    "    predictions = model.predict(X_validation)\n",
    "    print('%s: CV accuracy: %f std: (%f)' % (name,\n",
    "                                             cv_results.mean(),\n",
    "                                             cv_results.std()))\n",
    "    print('Test accuracy: %f' % (metrics.accuracy_score(Y_validation, predictions)))\n",
    "    print('Test Kappa: %f' % (metrics.cohen_kappa_score(Y_validation, predictions)))\n",
    "    print('Confusion matrix')\n",
    "    print(metrics.confusion_matrix(Y_validation, predictions))\n",
    "    print('Classification Report')\n",
    "    print(metrics.classification_report(Y_validation, predictions))\n",
    "\n",
    "\n",
    "# Compare Algorithms\n",
    "plt.boxplot(results, labels=names)\n",
    "plt.title('Algorithm Comparison')\n",
    "plt.show()\n",
    "\n",
    "hide_toggle()"
   ]
  },
  {
   "cell_type": "markdown",
   "metadata": {},
   "source": [
    "### Select the best model and tune it"
   ]
  },
  {
   "cell_type": "markdown",
   "metadata": {},
   "source": [
    "There are 2 candidates for the best model for FLOOR identification, which are KNN and RandomForest.  \n",
    "Both of the models will be tuned and then the best one will be chosen based on the best accuracy on the validation set."
   ]
  },
  {
   "cell_type": "markdown",
   "metadata": {},
   "source": [
    "##### Tune the KNN model:"
   ]
  },
  {
   "cell_type": "code",
   "execution_count": 27,
   "metadata": {},
   "outputs": [
    {
     "name": "stdout",
     "output_type": "stream",
     "text": [
      "Fitting 10 folds for each of 5 candidates, totalling 50 fits\n"
     ]
    },
    {
     "name": "stderr",
     "output_type": "stream",
     "text": [
      "[Parallel(n_jobs=1)]: Using backend SequentialBackend with 1 concurrent workers.\n"
     ]
    },
    {
     "name": "stdout",
     "output_type": "stream",
     "text": [
      "Best score : 0.991399\n",
      "Best parameters:\n",
      "{'n_neighbors': 1}\n"
     ]
    },
    {
     "name": "stderr",
     "output_type": "stream",
     "text": [
      "[Parallel(n_jobs=1)]: Done  50 out of  50 | elapsed:   24.9s finished\n"
     ]
    },
    {
     "data": {
      "text/html": [
       "\n",
       "        <script>\n",
       "            function code_toggle_16584813360169383104() {\n",
       "                $('div.cell.code_cell.rendered.selected').find('div.input').toggle();\n",
       "            }\n",
       "\n",
       "            \n",
       "        </script>\n",
       "\n",
       "        <a href=\"javascript:code_toggle_16584813360169383104()\">Toggle show/hide upper code</a>\n",
       "    "
      ],
      "text/plain": [
       "<IPython.core.display.HTML object>"
      ]
     },
     "execution_count": 27,
     "metadata": {},
     "output_type": "execute_result"
    },
    {
     "data": {
      "image/png": "[encoded data removed]",
      "text/plain": [
       "<Figure size 432x288 with 1 Axes>"
      ]
     },
     "metadata": {
      "needs_background": "light"
     },
     "output_type": "display_data"
    }
   ],
   "source": [
    "# KNN hyperparameter tunning\n",
    "k_range = [1,2,3,4,5]\n",
    "grid_params = {'n_neighbors' : k_range}\n",
    "\n",
    "gs = GridSearchCV(KNeighborsClassifier(),\n",
    "                 grid_params,\n",
    "                 verbose = 1,\n",
    "                 cv = 10)\n",
    "                 \n",
    "gs_results = gs.fit(X_train, Y_train)\n",
    "\n",
    "print('Best score : %f' % gs_results.best_score_)\n",
    "print('Best parameters:')\n",
    "print(gs_results.best_params_)\n",
    "\n",
    "# Plot the accuracy of the different K values\n",
    "plt.plot(k_range, gs_results.cv_results_['mean_test_score'])\n",
    "plt.xlabel('Value of K for KNN')\n",
    "plt.ylabel('Cross-Validated Accuracy')\n",
    "\n",
    "hide_toggle()"
   ]
  },
  {
   "cell_type": "markdown",
   "metadata": {},
   "source": [
    "##### Tune the RandomForest model:"
   ]
  },
  {
   "cell_type": "code",
   "execution_count": 28,
   "metadata": {},
   "outputs": [
    {
     "name": "stderr",
     "output_type": "stream",
     "text": [
      "C:\\ProgramData\\Anaconda3\\lib\\site-packages\\sklearn\\model_selection\\_split.py:1978: FutureWarning: The default value of cv will change from 3 to 5 in version 0.22. Specify it explicitly to silence this warning.\n",
      "  warnings.warn(CV_WARNING, FutureWarning)\n"
     ]
    },
    {
     "name": "stdout",
     "output_type": "stream",
     "text": [
      "Model with rank: 1\n",
      "Mean validation score: 0.991 (std: 0.001)\n",
      "Parameters: {'n_estimators': 100, 'min_samples_split': 2, 'min_samples_leaf': 1, 'max_features': 'auto', 'max_depth': 100, 'bootstrap': False}\n",
      "\n"
     ]
    },
    {
     "data": {
      "text/html": [
       "\n",
       "        <script>\n",
       "            function code_toggle_9025615222564591146() {\n",
       "                $('div.cell.code_cell.rendered.selected').find('div.input').toggle();\n",
       "            }\n",
       "\n",
       "            \n",
       "        </script>\n",
       "\n",
       "        <a href=\"javascript:code_toggle_9025615222564591146()\">Toggle show/hide upper code</a>\n",
       "    "
      ],
      "text/plain": [
       "<IPython.core.display.HTML object>"
      ]
     },
     "execution_count": 28,
     "metadata": {},
     "output_type": "execute_result"
    }
   ],
   "source": [
    "# Number of trees in random forest\n",
    "n_estimators = [10, 50, 100]\n",
    "# Number of features to consider at every split\n",
    "max_features = ['auto', 'sqrt']\n",
    "# Maximum number of levels in tree\n",
    "max_depth = [10, 100]\n",
    "max_depth.append(None)\n",
    "# Minimum number of samples required to split a node\n",
    "min_samples_split = [2, 5, 10]\n",
    "# Minimum number of samples required at each leaf node\n",
    "min_samples_leaf = [1, 2, 4]\n",
    "# Method of selecting samples for training each tree\n",
    "bootstrap = [True, False]\n",
    "# Create the random grid\n",
    "param_distributions = {'n_estimators': n_estimators,\n",
    "               'max_features': max_features,\n",
    "               'max_depth': max_depth,\n",
    "               'min_samples_split': min_samples_split,\n",
    "               'min_samples_leaf': min_samples_leaf,\n",
    "               'bootstrap': bootstrap}\n",
    "# Set the number of iterations for the randomized search cv\n",
    "n_iter = 30\n",
    "\n",
    "\n",
    "# Perform the RandomizedSearchCV\n",
    "random_search = RandomizedSearchCV(RandomForestClassifier(), param_distributions = param_distributions, n_iter = n_iter)\n",
    "random_search.fit(X_train, Y_train)\n",
    "\n",
    "\n",
    "# Report the results of the rank 1 model (the best one) from the RandomizedSearchCV\n",
    "report(random_search.cv_results_)\n",
    "\n",
    "hide_toggle()"
   ]
  },
  {
   "cell_type": "markdown",
   "metadata": {},
   "source": [
    "### Test the tuned best model on the validation set (KNN)"
   ]
  },
  {
   "cell_type": "code",
   "execution_count": 29,
   "metadata": {},
   "outputs": [
    {
     "name": "stdout",
     "output_type": "stream",
     "text": [
      "KNN evaluation\n",
      "Accuracy 0.949595 Kappa 0.929398\n",
      "Confusion matrix\n",
      "[[124   6   2   0   0]\n",
      " [ 16 438   7   1   0]\n",
      " [  1  12 288   5   0]\n",
      " [  0   0   2 170   0]\n",
      " [  0   0   0   4  35]]\n",
      "Classification report\n",
      "              precision    recall  f1-score   support\n",
      "\n",
      "           0       0.88      0.94      0.91       132\n",
      "           1       0.96      0.95      0.95       462\n",
      "           2       0.96      0.94      0.95       306\n",
      "           3       0.94      0.99      0.97       172\n",
      "           4       1.00      0.90      0.95        39\n",
      "\n",
      "    accuracy                           0.95      1111\n",
      "   macro avg       0.95      0.94      0.95      1111\n",
      "weighted avg       0.95      0.95      0.95      1111\n",
      "\n"
     ]
    },
    {
     "data": {
      "text/html": [
       "\n",
       "        <script>\n",
       "            function code_toggle_14130304776562250561() {\n",
       "                $('div.cell.code_cell.rendered.selected').find('div.input').toggle();\n",
       "            }\n",
       "\n",
       "            \n",
       "        </script>\n",
       "\n",
       "        <a href=\"javascript:code_toggle_14130304776562250561()\">Toggle show/hide upper code</a>\n",
       "    "
      ],
      "text/plain": [
       "<IPython.core.display.HTML object>"
      ]
     },
     "execution_count": 29,
     "metadata": {},
     "output_type": "execute_result"
    }
   ],
   "source": [
    "# Predict using the KNN model\n",
    "model = KNeighborsClassifier(n_neighbors = 1)\n",
    "model.fit(X, y)\n",
    "prediction_floor = model.predict(X_val)\n",
    "\n",
    "\n",
    "# Evaluate the predictions\n",
    "print('KNN evaluation')\n",
    "print('Accuracy %f Kappa %f' % (metrics.accuracy_score(Y_val, prediction_floor),\n",
    "                                metrics.cohen_kappa_score(Y_val,prediction_floor)))\n",
    "print('Confusion matrix')\n",
    "print(metrics.confusion_matrix(Y_val, prediction_floor))\n",
    "print('Classification report')\n",
    "print(metrics.classification_report(Y_val, prediction_floor))\n",
    "\n",
    "hide_toggle()"
   ]
  },
  {
   "cell_type": "markdown",
   "metadata": {},
   "source": [
    "### Test the tuned best model on the validation set (RandomForest)"
   ]
  },
  {
   "cell_type": "code",
   "execution_count": 30,
   "metadata": {},
   "outputs": [
    {
     "name": "stdout",
     "output_type": "stream",
     "text": [
      "RandomForest evaluation\n",
      "Accuracy 0.951395 Kappa 0.931686\n",
      "Confusion matrix\n",
      "[[119  11   2   0   0]\n",
      " [ 10 441   9   2   0]\n",
      " [  1  11 292   2   0]\n",
      " [  0   0   2 169   1]\n",
      " [  0   0   0   3  36]]\n",
      "Classification report\n",
      "              precision    recall  f1-score   support\n",
      "\n",
      "           0       0.92      0.90      0.91       132\n",
      "           1       0.95      0.95      0.95       462\n",
      "           2       0.96      0.95      0.96       306\n",
      "           3       0.96      0.98      0.97       172\n",
      "           4       0.97      0.92      0.95        39\n",
      "\n",
      "    accuracy                           0.95      1111\n",
      "   macro avg       0.95      0.94      0.95      1111\n",
      "weighted avg       0.95      0.95      0.95      1111\n",
      "\n"
     ]
    },
    {
     "data": {
      "text/html": [
       "\n",
       "        <script>\n",
       "            function code_toggle_1540055384033911199() {\n",
       "                $('div.cell.code_cell.rendered.selected').find('div.input').toggle();\n",
       "            }\n",
       "\n",
       "            \n",
       "        </script>\n",
       "\n",
       "        <a href=\"javascript:code_toggle_1540055384033911199()\">Toggle show/hide upper code</a>\n",
       "    "
      ],
      "text/plain": [
       "<IPython.core.display.HTML object>"
      ]
     },
     "execution_count": 30,
     "metadata": {},
     "output_type": "execute_result"
    }
   ],
   "source": [
    "# Predict using the RandomForest model\n",
    "model = RandomForestClassifier(n_estimators = 100, min_samples_split = 2, min_samples_leaf = 1, max_features = 'auto', max_depth = 100, bootstrap = False)\n",
    "model.fit(X, y)\n",
    "prediction_floor = model.predict(X_val)\n",
    "\n",
    "\n",
    "# Evaluate the predictions\n",
    "print('RandomForest evaluation')\n",
    "print('Accuracy %f Kappa %f' % (metrics.accuracy_score(Y_val, prediction_floor),\n",
    "                                metrics.cohen_kappa_score(Y_val,prediction_floor)))\n",
    "print('Confusion matrix')\n",
    "print(metrics.confusion_matrix(Y_val, prediction_floor))\n",
    "print('Classification report')\n",
    "print(metrics.classification_report(Y_val, prediction_floor))\n",
    "\n",
    "\n",
    "# Save the accuracy of the floor\n",
    "accuracy_floor = metrics.accuracy_score(Y_val, prediction_floor)\n",
    "\n",
    "hide_toggle()"
   ]
  },
  {
   "cell_type": "markdown",
   "metadata": {},
   "source": [
    "The Random forest model gives a better result on the validation test, thus it is the one that will be used."
   ]
  },
  {
   "cell_type": "markdown",
   "metadata": {},
   "source": [
    "### <a class=\"anchor\" id=\"Latitude\"> 3.3. Latitude </a>"
   ]
  },
  {
   "cell_type": "markdown",
   "metadata": {},
   "source": [
    "### Separate predictors and target and train set and test set"
   ]
  },
  {
   "cell_type": "code",
   "execution_count": 31,
   "metadata": {},
   "outputs": [
    {
     "data": {
      "text/html": [
       "\n",
       "        <script>\n",
       "            function code_toggle_2789537055077199612() {\n",
       "                $('div.cell.code_cell.rendered.selected').find('div.input').toggle();\n",
       "            }\n",
       "\n",
       "            \n",
       "        </script>\n",
       "\n",
       "        <a href=\"javascript:code_toggle_2789537055077199612()\">Toggle show/hide upper code</a>\n",
       "    "
      ],
      "text/plain": [
       "<IPython.core.display.HTML object>"
      ]
     },
     "execution_count": 31,
     "metadata": {},
     "output_type": "execute_result"
    }
   ],
   "source": [
    "# Separate predictors and target\n",
    "X = df[wap_cols]\n",
    "y = df['LATITUDE']\n",
    "X_val = df_val[wap_cols]\n",
    "Y_val = df_val['LATITUDE']\n",
    "\n",
    "\n",
    "# Separate train set and test set\n",
    "X_train, X_validation, Y_train, Y_validation = train_test_split(X, y,\n",
    "                                                                test_size=0.20,\n",
    "                                                                random_state=1,\n",
    "                                                                shuffle=True)\n",
    "\n",
    "hide_toggle()"
   ]
  },
  {
   "cell_type": "markdown",
   "metadata": {},
   "source": [
    "### Train various models and compare accuracy results"
   ]
  },
  {
   "cell_type": "code",
   "execution_count": 32,
   "metadata": {},
   "outputs": [
    {
     "name": "stdout",
     "output_type": "stream",
     "text": [
      "KNN: RMSE = 5.924969\n",
      "DT: RMSE = 8.099688\n"
     ]
    },
    {
     "name": "stderr",
     "output_type": "stream",
     "text": [
      "C:\\ProgramData\\Anaconda3\\lib\\site-packages\\sklearn\\ensemble\\forest.py:245: FutureWarning: The default value of n_estimators will change from 10 in version 0.20 to 100 in 0.22.\n",
      "  \"10 in version 0.20 to 100 in 0.22.\", FutureWarning)\n",
      "C:\\ProgramData\\Anaconda3\\lib\\site-packages\\sklearn\\ensemble\\forest.py:245: FutureWarning: The default value of n_estimators will change from 10 in version 0.20 to 100 in 0.22.\n",
      "  \"10 in version 0.20 to 100 in 0.22.\", FutureWarning)\n",
      "C:\\ProgramData\\Anaconda3\\lib\\site-packages\\sklearn\\ensemble\\forest.py:245: FutureWarning: The default value of n_estimators will change from 10 in version 0.20 to 100 in 0.22.\n",
      "  \"10 in version 0.20 to 100 in 0.22.\", FutureWarning)\n",
      "C:\\ProgramData\\Anaconda3\\lib\\site-packages\\sklearn\\ensemble\\forest.py:245: FutureWarning: The default value of n_estimators will change from 10 in version 0.20 to 100 in 0.22.\n",
      "  \"10 in version 0.20 to 100 in 0.22.\", FutureWarning)\n",
      "C:\\ProgramData\\Anaconda3\\lib\\site-packages\\sklearn\\ensemble\\forest.py:245: FutureWarning: The default value of n_estimators will change from 10 in version 0.20 to 100 in 0.22.\n",
      "  \"10 in version 0.20 to 100 in 0.22.\", FutureWarning)\n",
      "C:\\ProgramData\\Anaconda3\\lib\\site-packages\\sklearn\\ensemble\\forest.py:245: FutureWarning: The default value of n_estimators will change from 10 in version 0.20 to 100 in 0.22.\n",
      "  \"10 in version 0.20 to 100 in 0.22.\", FutureWarning)\n",
      "C:\\ProgramData\\Anaconda3\\lib\\site-packages\\sklearn\\ensemble\\forest.py:245: FutureWarning: The default value of n_estimators will change from 10 in version 0.20 to 100 in 0.22.\n",
      "  \"10 in version 0.20 to 100 in 0.22.\", FutureWarning)\n",
      "C:\\ProgramData\\Anaconda3\\lib\\site-packages\\sklearn\\ensemble\\forest.py:245: FutureWarning: The default value of n_estimators will change from 10 in version 0.20 to 100 in 0.22.\n",
      "  \"10 in version 0.20 to 100 in 0.22.\", FutureWarning)\n",
      "C:\\ProgramData\\Anaconda3\\lib\\site-packages\\sklearn\\ensemble\\forest.py:245: FutureWarning: The default value of n_estimators will change from 10 in version 0.20 to 100 in 0.22.\n",
      "  \"10 in version 0.20 to 100 in 0.22.\", FutureWarning)\n",
      "C:\\ProgramData\\Anaconda3\\lib\\site-packages\\sklearn\\ensemble\\forest.py:245: FutureWarning: The default value of n_estimators will change from 10 in version 0.20 to 100 in 0.22.\n",
      "  \"10 in version 0.20 to 100 in 0.22.\", FutureWarning)\n",
      "C:\\ProgramData\\Anaconda3\\lib\\site-packages\\sklearn\\ensemble\\forest.py:245: FutureWarning: The default value of n_estimators will change from 10 in version 0.20 to 100 in 0.22.\n",
      "  \"10 in version 0.20 to 100 in 0.22.\", FutureWarning)\n"
     ]
    },
    {
     "name": "stdout",
     "output_type": "stream",
     "text": [
      "RF: RMSE = 5.518563\n"
     ]
    },
    {
     "data": {
      "image/png": "[encoded data removed]",
      "text/plain": [
       "<Figure size 432x288 with 1 Axes>"
      ]
     },
     "metadata": {
      "needs_background": "light"
     },
     "output_type": "display_data"
    },
    {
     "data": {
      "text/html": [
       "\n",
       "        <script>\n",
       "            function code_toggle_12078237592329807080() {\n",
       "                $('div.cell.code_cell.rendered.selected').find('div.input').toggle();\n",
       "            }\n",
       "\n",
       "            \n",
       "        </script>\n",
       "\n",
       "        <a href=\"javascript:code_toggle_12078237592329807080()\">Toggle show/hide upper code</a>\n",
       "    "
      ],
      "text/plain": [
       "<IPython.core.display.HTML object>"
      ]
     },
     "execution_count": 32,
     "metadata": {},
     "output_type": "execute_result"
    }
   ],
   "source": [
    "# Define the models to be used\n",
    "from sklearn.svm import SVR\n",
    "models = []\n",
    "models.append(('KNN', KNeighborsRegressor()))\n",
    "models.append(('DT', DecisionTreeRegressor()))\n",
    "models.append(('RF', RandomForestRegressor()))\n",
    "#models.append(('XGB', GradientBoostingRegressor()))\n",
    "\n",
    "\n",
    "# Evaluate each model in turn\n",
    "results = []\n",
    "names = []\n",
    "for name, model in models :\n",
    "    kfold = KFold(n_splits=10, random_state=1)\n",
    "    cv_results = cross_val_score(model, X_train, Y_train, cv=kfold)\n",
    "    results.append(cv_results)\n",
    "    names.append(name)\n",
    "    model.fit(X_train, Y_train)\n",
    "    predictions = model.predict(X_validation)\n",
    "    print('%s: RMSE = %f' % (name, sqrt(metrics.mean_squared_error(Y_validation, predictions))))\n",
    "\n",
    "\n",
    "# Compare Algorithms\n",
    "plt.boxplot(results, labels=names)\n",
    "plt.title('Algorithm Comparison')\n",
    "plt.show()\n",
    "\n",
    "hide_toggle()"
   ]
  },
  {
   "cell_type": "markdown",
   "metadata": {},
   "source": [
    "### Select the best model and tune it"
   ]
  },
  {
   "cell_type": "markdown",
   "metadata": {},
   "source": [
    "There are 2 candidates for the best model for LATITUDE identification, which are KNN and RandomForest.  \n",
    "Both of the models will be tuned and then the best one will be chosen based on the best RMSE on the validation set."
   ]
  },
  {
   "cell_type": "markdown",
   "metadata": {},
   "source": [
    "##### Tune the KNN model:"
   ]
  },
  {
   "cell_type": "code",
   "execution_count": 33,
   "metadata": {},
   "outputs": [
    {
     "name": "stdout",
     "output_type": "stream",
     "text": [
      "Fitting 10 folds for each of 5 candidates, totalling 50 fits\n"
     ]
    },
    {
     "name": "stderr",
     "output_type": "stream",
     "text": [
      "[Parallel(n_jobs=1)]: Using backend SequentialBackend with 1 concurrent workers.\n",
      "[Parallel(n_jobs=1)]: Done  50 out of  50 | elapsed:   22.5s finished\n"
     ]
    },
    {
     "name": "stdout",
     "output_type": "stream",
     "text": [
      "Best score : 0.994048\n",
      "Best parameters:\n",
      "{'n_neighbors': 2}\n"
     ]
    },
    {
     "data": {
      "image/png": "[encoded data removed]",
      "text/plain": [
       "<Figure size 432x288 with 1 Axes>"
      ]
     },
     "metadata": {
      "needs_background": "light"
     },
     "output_type": "display_data"
    },
    {
     "data": {
      "text/html": [
       "\n",
       "        <script>\n",
       "            function code_toggle_13036727737477540864() {\n",
       "                $('div.cell.code_cell.rendered.selected').find('div.input').toggle();\n",
       "            }\n",
       "\n",
       "            \n",
       "        </script>\n",
       "\n",
       "        <a href=\"javascript:code_toggle_13036727737477540864()\">Toggle show/hide upper code</a>\n",
       "    "
      ],
      "text/plain": [
       "<IPython.core.display.HTML object>"
      ]
     },
     "execution_count": 33,
     "metadata": {},
     "output_type": "execute_result"
    }
   ],
   "source": [
    "# KNN hyperparameter tunning\n",
    "k_range = [1,2,3,4,5]\n",
    "grid_params = {'n_neighbors' : k_range}\n",
    "\n",
    "gs = GridSearchCV(KNeighborsRegressor(),\n",
    "                 grid_params,\n",
    "                 verbose = 1,\n",
    "                 cv = 10)\n",
    "                 \n",
    "gs_results = gs.fit(X_train, Y_train)\n",
    "\n",
    "print('Best score : %f' % gs_results.best_score_)\n",
    "print('Best parameters:')\n",
    "print(gs_results.best_params_)\n",
    "\n",
    "# Plot the accuracy of the different K values\n",
    "plt.plot(k_range, gs_results.cv_results_['mean_test_score'])\n",
    "plt.xlabel('Value of K for KNN')\n",
    "plt.ylabel('Cross-Validated Accuracy')\n",
    "plt.show()\n",
    "\n",
    "hide_toggle()"
   ]
  },
  {
   "cell_type": "markdown",
   "metadata": {},
   "source": [
    "##### Tune the Random forest model."
   ]
  },
  {
   "cell_type": "code",
   "execution_count": 34,
   "metadata": {},
   "outputs": [
    {
     "name": "stderr",
     "output_type": "stream",
     "text": [
      "C:\\ProgramData\\Anaconda3\\lib\\site-packages\\sklearn\\model_selection\\_split.py:1978: FutureWarning: The default value of cv will change from 3 to 5 in version 0.22. Specify it explicitly to silence this warning.\n",
      "  warnings.warn(CV_WARNING, FutureWarning)\n"
     ]
    },
    {
     "name": "stdout",
     "output_type": "stream",
     "text": [
      "Model with rank: 1\n",
      "Mean validation score: 0.994 (std: 0.000)\n",
      "Parameters: {'n_estimators': 50, 'min_samples_split': 2, 'min_samples_leaf': 1, 'max_features': 'sqrt', 'max_depth': None, 'bootstrap': False}\n",
      "\n"
     ]
    },
    {
     "data": {
      "text/html": [
       "\n",
       "        <script>\n",
       "            function code_toggle_15750047962760839976() {\n",
       "                $('div.cell.code_cell.rendered.selected').find('div.input').toggle();\n",
       "            }\n",
       "\n",
       "            \n",
       "        </script>\n",
       "\n",
       "        <a href=\"javascript:code_toggle_15750047962760839976()\">Toggle show/hide upper code</a>\n",
       "    "
      ],
      "text/plain": [
       "<IPython.core.display.HTML object>"
      ]
     },
     "execution_count": 34,
     "metadata": {},
     "output_type": "execute_result"
    }
   ],
   "source": [
    "# Number of trees in random forest\n",
    "n_estimators = [10, 50, 100]\n",
    "# Number of features to consider at every split\n",
    "max_features = ['auto', 'sqrt']\n",
    "# Maximum number of levels in tree\n",
    "max_depth = [10, 100]\n",
    "max_depth.append(None)\n",
    "# Minimum number of samples required to split a node\n",
    "min_samples_split = [2, 5, 10]\n",
    "# Minimum number of samples required at each leaf node\n",
    "min_samples_leaf = [1, 2, 4]\n",
    "# Method of selecting samples for training each tree\n",
    "bootstrap = [True, False]\n",
    "# Create the random grid\n",
    "param_distributions = {'n_estimators': n_estimators,\n",
    "               'max_features': max_features,\n",
    "               'max_depth': max_depth,\n",
    "               'min_samples_split': min_samples_split,\n",
    "               'min_samples_leaf': min_samples_leaf,\n",
    "               'bootstrap': bootstrap}\n",
    "# Set the number of iterations for the randomized search cv\n",
    "n_iter = 30\n",
    "\n",
    "\n",
    "# Perform the RandomizedSearchCV\n",
    "random_search = RandomizedSearchCV(RandomForestRegressor(), param_distributions = param_distributions, n_iter = n_iter)\n",
    "random_search.fit(X_train, Y_train)\n",
    "\n",
    "\n",
    "# Report the results of the rank 1 model (the best one) from the RandomizedSearchCV\n",
    "report(random_search.cv_results_)\n",
    "\n",
    "hide_toggle()"
   ]
  },
  {
   "cell_type": "markdown",
   "metadata": {},
   "source": [
    "### Test the tuned model on the validation set (KNN)"
   ]
  },
  {
   "cell_type": "code",
   "execution_count": 35,
   "metadata": {},
   "outputs": [
    {
     "name": "stdout",
     "output_type": "stream",
     "text": [
      "KNN RMSE = 8.554582\n"
     ]
    },
    {
     "data": {
      "text/html": [
       "\n",
       "        <script>\n",
       "            function code_toggle_2751130673788981689() {\n",
       "                $('div.cell.code_cell.rendered.selected').find('div.input').toggle();\n",
       "            }\n",
       "\n",
       "            \n",
       "        </script>\n",
       "\n",
       "        <a href=\"javascript:code_toggle_2751130673788981689()\">Toggle show/hide upper code</a>\n",
       "    "
      ],
      "text/plain": [
       "<IPython.core.display.HTML object>"
      ]
     },
     "execution_count": 35,
     "metadata": {},
     "output_type": "execute_result"
    }
   ],
   "source": [
    "# Predict using the KNN model\n",
    "model = KNeighborsRegressor(n_neighbors = 2)\n",
    "model.fit(X, y)\n",
    "prediction_latitude = model.predict(X_val)\n",
    "\n",
    "\n",
    "# Evaluate the predictions\n",
    "print('KNN RMSE = %f' % (sqrt(metrics.mean_squared_error(Y_val, prediction_latitude))))\n",
    "\n",
    "hide_toggle()"
   ]
  },
  {
   "cell_type": "markdown",
   "metadata": {},
   "source": [
    "### Test the tuned model on the validation set (RandomForest)"
   ]
  },
  {
   "cell_type": "code",
   "execution_count": 36,
   "metadata": {},
   "outputs": [
    {
     "name": "stdout",
     "output_type": "stream",
     "text": [
      "Random Forest RMSE = 7.207501\n"
     ]
    },
    {
     "data": {
      "text/html": [
       "\n",
       "        <script>\n",
       "            function code_toggle_10352312808625306665() {\n",
       "                $('div.cell.code_cell.rendered.selected').find('div.input').toggle();\n",
       "            }\n",
       "\n",
       "            \n",
       "        </script>\n",
       "\n",
       "        <a href=\"javascript:code_toggle_10352312808625306665()\">Toggle show/hide upper code</a>\n",
       "    "
      ],
      "text/plain": [
       "<IPython.core.display.HTML object>"
      ]
     },
     "execution_count": 36,
     "metadata": {},
     "output_type": "execute_result"
    }
   ],
   "source": [
    "# Predict using the RandomForest model\n",
    "model = RandomForestRegressor(n_estimators = 50, min_samples_split = 2, min_samples_leaf = 1, max_features = 'sqrt', max_depth = None, bootstrap = False)\n",
    "model.fit(X, y)\n",
    "prediction_latitude = model.predict(X_val)\n",
    "\n",
    "\n",
    "# Evaluate the predictions\n",
    "print('Random Forest RMSE = %f' % (sqrt(metrics.mean_squared_error(Y_val, prediction_latitude))))\n",
    "\n",
    "\n",
    "# Save the RSME of the latitude\n",
    "RMSE_latitude = sqrt(metrics.mean_squared_error(Y_val, prediction_latitude))\n",
    "\n",
    "hide_toggle()"
   ]
  },
  {
   "cell_type": "markdown",
   "metadata": {},
   "source": [
    "The Random forest model gives a better result on the validation test, thus it is the one that will be used."
   ]
  },
  {
   "cell_type": "markdown",
   "metadata": {},
   "source": [
    "### <a class=\"anchor\" id=\"Longitude\"> 3.4. Longitude </a>"
   ]
  },
  {
   "cell_type": "markdown",
   "metadata": {},
   "source": [
    "### Separate predictors and target and train set and test set"
   ]
  },
  {
   "cell_type": "code",
   "execution_count": 37,
   "metadata": {},
   "outputs": [
    {
     "data": {
      "text/html": [
       "\n",
       "        <script>\n",
       "            function code_toggle_13972557303203448163() {\n",
       "                $('div.cell.code_cell.rendered.selected').find('div.input').toggle();\n",
       "            }\n",
       "\n",
       "            \n",
       "        </script>\n",
       "\n",
       "        <a href=\"javascript:code_toggle_13972557303203448163()\">Toggle show/hide upper code</a>\n",
       "    "
      ],
      "text/plain": [
       "<IPython.core.display.HTML object>"
      ]
     },
     "execution_count": 37,
     "metadata": {},
     "output_type": "execute_result"
    }
   ],
   "source": [
    "# Separate predictors and target\n",
    "X = df[wap_cols]\n",
    "y = df['LONGITUDE']\n",
    "X_val = df_val[wap_cols]\n",
    "Y_val = df_val['LONGITUDE']\n",
    "\n",
    "\n",
    "# Separate train set and test set\n",
    "X_train, X_validation, Y_train, Y_validation = train_test_split(X, y,\n",
    "                                                                test_size=0.20,\n",
    "                                                                random_state=1,\n",
    "                                                                shuffle=True)\n",
    "\n",
    "hide_toggle()"
   ]
  },
  {
   "cell_type": "markdown",
   "metadata": {},
   "source": [
    "### Train various models and compare accuracy results"
   ]
  },
  {
   "cell_type": "code",
   "execution_count": 38,
   "metadata": {},
   "outputs": [
    {
     "name": "stdout",
     "output_type": "stream",
     "text": [
      "KNN: RMSE = 5.830894\n",
      "DT: RMSE = 8.498173\n"
     ]
    },
    {
     "name": "stderr",
     "output_type": "stream",
     "text": [
      "C:\\ProgramData\\Anaconda3\\lib\\site-packages\\sklearn\\ensemble\\forest.py:245: FutureWarning: The default value of n_estimators will change from 10 in version 0.20 to 100 in 0.22.\n",
      "  \"10 in version 0.20 to 100 in 0.22.\", FutureWarning)\n",
      "C:\\ProgramData\\Anaconda3\\lib\\site-packages\\sklearn\\ensemble\\forest.py:245: FutureWarning: The default value of n_estimators will change from 10 in version 0.20 to 100 in 0.22.\n",
      "  \"10 in version 0.20 to 100 in 0.22.\", FutureWarning)\n",
      "C:\\ProgramData\\Anaconda3\\lib\\site-packages\\sklearn\\ensemble\\forest.py:245: FutureWarning: The default value of n_estimators will change from 10 in version 0.20 to 100 in 0.22.\n",
      "  \"10 in version 0.20 to 100 in 0.22.\", FutureWarning)\n",
      "C:\\ProgramData\\Anaconda3\\lib\\site-packages\\sklearn\\ensemble\\forest.py:245: FutureWarning: The default value of n_estimators will change from 10 in version 0.20 to 100 in 0.22.\n",
      "  \"10 in version 0.20 to 100 in 0.22.\", FutureWarning)\n",
      "C:\\ProgramData\\Anaconda3\\lib\\site-packages\\sklearn\\ensemble\\forest.py:245: FutureWarning: The default value of n_estimators will change from 10 in version 0.20 to 100 in 0.22.\n",
      "  \"10 in version 0.20 to 100 in 0.22.\", FutureWarning)\n",
      "C:\\ProgramData\\Anaconda3\\lib\\site-packages\\sklearn\\ensemble\\forest.py:245: FutureWarning: The default value of n_estimators will change from 10 in version 0.20 to 100 in 0.22.\n",
      "  \"10 in version 0.20 to 100 in 0.22.\", FutureWarning)\n",
      "C:\\ProgramData\\Anaconda3\\lib\\site-packages\\sklearn\\ensemble\\forest.py:245: FutureWarning: The default value of n_estimators will change from 10 in version 0.20 to 100 in 0.22.\n",
      "  \"10 in version 0.20 to 100 in 0.22.\", FutureWarning)\n",
      "C:\\ProgramData\\Anaconda3\\lib\\site-packages\\sklearn\\ensemble\\forest.py:245: FutureWarning: The default value of n_estimators will change from 10 in version 0.20 to 100 in 0.22.\n",
      "  \"10 in version 0.20 to 100 in 0.22.\", FutureWarning)\n",
      "C:\\ProgramData\\Anaconda3\\lib\\site-packages\\sklearn\\ensemble\\forest.py:245: FutureWarning: The default value of n_estimators will change from 10 in version 0.20 to 100 in 0.22.\n",
      "  \"10 in version 0.20 to 100 in 0.22.\", FutureWarning)\n",
      "C:\\ProgramData\\Anaconda3\\lib\\site-packages\\sklearn\\ensemble\\forest.py:245: FutureWarning: The default value of n_estimators will change from 10 in version 0.20 to 100 in 0.22.\n",
      "  \"10 in version 0.20 to 100 in 0.22.\", FutureWarning)\n",
      "C:\\ProgramData\\Anaconda3\\lib\\site-packages\\sklearn\\ensemble\\forest.py:245: FutureWarning: The default value of n_estimators will change from 10 in version 0.20 to 100 in 0.22.\n",
      "  \"10 in version 0.20 to 100 in 0.22.\", FutureWarning)\n"
     ]
    },
    {
     "name": "stdout",
     "output_type": "stream",
     "text": [
      "RF: RMSE = 6.284755\n"
     ]
    },
    {
     "data": {
      "image/png": "[encoded data removed]",
      "text/plain": [
       "<Figure size 432x288 with 1 Axes>"
      ]
     },
     "metadata": {
      "needs_background": "light"
     },
     "output_type": "display_data"
    },
    {
     "data": {
      "text/html": [
       "\n",
       "        <script>\n",
       "            function code_toggle_7422002673866107561() {\n",
       "                $('div.cell.code_cell.rendered.selected').find('div.input').toggle();\n",
       "            }\n",
       "\n",
       "            \n",
       "        </script>\n",
       "\n",
       "        <a href=\"javascript:code_toggle_7422002673866107561()\">Toggle show/hide upper code</a>\n",
       "    "
      ],
      "text/plain": [
       "<IPython.core.display.HTML object>"
      ]
     },
     "execution_count": 38,
     "metadata": {},
     "output_type": "execute_result"
    }
   ],
   "source": [
    "# Define the models to be used\n",
    "models = []\n",
    "models.append(('KNN', KNeighborsRegressor()))\n",
    "models.append(('DT', DecisionTreeRegressor()))\n",
    "models.append(('RF', RandomForestRegressor()))\n",
    "#models.append(('XGB', GradientBoostingRegressor()))\n",
    "\n",
    "\n",
    "# Evaluate each model in turn\n",
    "results = []\n",
    "names = []\n",
    "for name, model in models :\n",
    "    kfold = KFold(n_splits=10, random_state=1)\n",
    "    cv_results = cross_val_score(model, X_train, Y_train, cv=kfold)\n",
    "    results.append(cv_results)\n",
    "    names.append(name)\n",
    "    model.fit(X_train, Y_train)\n",
    "    predictions = model.predict(X_validation)\n",
    "    print('%s: RMSE = %f' % (name, sqrt(metrics.mean_squared_error(Y_validation, predictions))))\n",
    "\n",
    "\n",
    "# Compare Algorithms\n",
    "plt.boxplot(results, labels=names)\n",
    "plt.title('Algorithm Comparison')\n",
    "plt.show()\n",
    "\n",
    "hide_toggle()"
   ]
  },
  {
   "cell_type": "markdown",
   "metadata": {},
   "source": [
    "### Select the best model and tune it"
   ]
  },
  {
   "cell_type": "markdown",
   "metadata": {},
   "source": [
    "There are 2 candidates for the best model for LONGITUDE identification, which are KNN and RandomForest.  \n",
    "Both of the models will be tuned and then the best one will be chosen based on the best RMSE on the validation set."
   ]
  },
  {
   "cell_type": "markdown",
   "metadata": {},
   "source": [
    "##### Tune the KNN model."
   ]
  },
  {
   "cell_type": "code",
   "execution_count": 39,
   "metadata": {},
   "outputs": [
    {
     "name": "stdout",
     "output_type": "stream",
     "text": [
      "Fitting 10 folds for each of 5 candidates, totalling 50 fits\n"
     ]
    },
    {
     "name": "stderr",
     "output_type": "stream",
     "text": [
      "[Parallel(n_jobs=1)]: Using backend SequentialBackend with 1 concurrent workers.\n",
      "[Parallel(n_jobs=1)]: Done  50 out of  50 | elapsed:   22.8s finished\n"
     ]
    },
    {
     "name": "stdout",
     "output_type": "stream",
     "text": [
      "Best score : 0.997994\n",
      "Best parameters:\n",
      "{'n_neighbors': 2}\n"
     ]
    },
    {
     "data": {
      "image/png": "[encoded data removed]",
      "text/plain": [
       "<Figure size 432x288 with 1 Axes>"
      ]
     },
     "metadata": {
      "needs_background": "light"
     },
     "output_type": "display_data"
    },
    {
     "data": {
      "text/html": [
       "\n",
       "        <script>\n",
       "            function code_toggle_1427779741597529987() {\n",
       "                $('div.cell.code_cell.rendered.selected').find('div.input').toggle();\n",
       "            }\n",
       "\n",
       "            \n",
       "        </script>\n",
       "\n",
       "        <a href=\"javascript:code_toggle_1427779741597529987()\">Toggle show/hide upper code</a>\n",
       "    "
      ],
      "text/plain": [
       "<IPython.core.display.HTML object>"
      ]
     },
     "execution_count": 39,
     "metadata": {},
     "output_type": "execute_result"
    }
   ],
   "source": [
    "# KNN hyperparameter tunning\n",
    "k_range = [1,2,3,4,5]\n",
    "grid_params = {'n_neighbors' : k_range}\n",
    "\n",
    "gs = GridSearchCV(KNeighborsRegressor(),\n",
    "                 grid_params,\n",
    "                 verbose = 1,\n",
    "                 cv = 10)\n",
    "                 \n",
    "gs_results = gs.fit(X_train, Y_train)\n",
    "\n",
    "print('Best score : %f' % gs_results.best_score_)\n",
    "print('Best parameters:')\n",
    "print(gs_results.best_params_)\n",
    "\n",
    "# Plot the accuracy of the different K values\n",
    "plt.plot(k_range, gs_results.cv_results_['mean_test_score'])\n",
    "plt.xlabel('Value of K for KNN')\n",
    "plt.ylabel('Cross-Validated Accuracy')\n",
    "plt.show()\n",
    "\n",
    "hide_toggle()"
   ]
  },
  {
   "cell_type": "markdown",
   "metadata": {},
   "source": [
    "##### Tune the Random forest model."
   ]
  },
  {
   "cell_type": "code",
   "execution_count": 40,
   "metadata": {},
   "outputs": [
    {
     "name": "stderr",
     "output_type": "stream",
     "text": [
      "C:\\ProgramData\\Anaconda3\\lib\\site-packages\\sklearn\\model_selection\\_split.py:1978: FutureWarning: The default value of cv will change from 3 to 5 in version 0.22. Specify it explicitly to silence this warning.\n",
      "  warnings.warn(CV_WARNING, FutureWarning)\n"
     ]
    },
    {
     "name": "stdout",
     "output_type": "stream",
     "text": [
      "Model with rank: 1\n",
      "Mean validation score: 0.998 (std: 0.000)\n",
      "Parameters: {'n_estimators': 50, 'min_samples_split': 10, 'min_samples_leaf': 1, 'max_features': 'sqrt', 'max_depth': 100, 'bootstrap': False}\n",
      "\n"
     ]
    },
    {
     "data": {
      "text/html": [
       "\n",
       "        <script>\n",
       "            function code_toggle_5120967381421686968() {\n",
       "                $('div.cell.code_cell.rendered.selected').find('div.input').toggle();\n",
       "            }\n",
       "\n",
       "            \n",
       "        </script>\n",
       "\n",
       "        <a href=\"javascript:code_toggle_5120967381421686968()\">Toggle show/hide upper code</a>\n",
       "    "
      ],
      "text/plain": [
       "<IPython.core.display.HTML object>"
      ]
     },
     "execution_count": 40,
     "metadata": {},
     "output_type": "execute_result"
    }
   ],
   "source": [
    "# Number of trees in random forest\n",
    "n_estimators = [10, 50, 100]\n",
    "# Number of features to consider at every split\n",
    "max_features = ['auto', 'sqrt']\n",
    "# Maximum number of levels in tree\n",
    "max_depth = [10, 100]\n",
    "max_depth.append(None)\n",
    "# Minimum number of samples required to split a node\n",
    "min_samples_split = [2, 5, 10]\n",
    "# Minimum number of samples required at each leaf node\n",
    "min_samples_leaf = [1, 2, 4]\n",
    "# Method of selecting samples for training each tree\n",
    "bootstrap = [True, False]\n",
    "# Create the random grid\n",
    "param_distributions = {'n_estimators': n_estimators,\n",
    "               'max_features': max_features,\n",
    "               'max_depth': max_depth,\n",
    "               'min_samples_split': min_samples_split,\n",
    "               'min_samples_leaf': min_samples_leaf,\n",
    "               'bootstrap': bootstrap}\n",
    "# Set the number of iterations for the randomized search cv\n",
    "n_iter = 30\n",
    "\n",
    "\n",
    "# Perform the RandomizedSearchCV\n",
    "random_search = RandomizedSearchCV(RandomForestRegressor(), param_distributions = param_distributions, n_iter = n_iter)\n",
    "random_search.fit(X_train, Y_train)\n",
    "\n",
    "\n",
    "# Report the results of the rank 1 model (the best one) from the RandomizedSearchCV\n",
    "report(random_search.cv_results_)\n",
    "\n",
    "hide_toggle()"
   ]
  },
  {
   "cell_type": "markdown",
   "metadata": {},
   "source": [
    "### Test the tuned model on the validation set (KNN)"
   ]
  },
  {
   "cell_type": "code",
   "execution_count": 41,
   "metadata": {},
   "outputs": [
    {
     "name": "stdout",
     "output_type": "stream",
     "text": [
      "KNN RMSE = 8.290133\n"
     ]
    },
    {
     "data": {
      "text/html": [
       "\n",
       "        <script>\n",
       "            function code_toggle_1660551660512931771() {\n",
       "                $('div.cell.code_cell.rendered.selected').find('div.input').toggle();\n",
       "            }\n",
       "\n",
       "            \n",
       "        </script>\n",
       "\n",
       "        <a href=\"javascript:code_toggle_1660551660512931771()\">Toggle show/hide upper code</a>\n",
       "    "
      ],
      "text/plain": [
       "<IPython.core.display.HTML object>"
      ]
     },
     "execution_count": 41,
     "metadata": {},
     "output_type": "execute_result"
    }
   ],
   "source": [
    "# Predict using the KNN model\n",
    "model = KNeighborsRegressor(n_neighbors = 2)\n",
    "model.fit(X, y)\n",
    "prediction_longitude = model.predict(X_val)\n",
    "\n",
    "\n",
    "# Evaluate the predictions\n",
    "print('KNN RMSE = %f' % (sqrt(metrics.mean_squared_error(Y_val, prediction_longitude))))\n",
    "\n",
    "\n",
    "# Save the RSME of the latitude\n",
    "RMSE_longitude = sqrt(metrics.mean_squared_error(Y_val, prediction_longitude))\n",
    "\n",
    "hide_toggle()"
   ]
  },
  {
   "cell_type": "markdown",
   "metadata": {},
   "source": [
    "### Test the tuned model on the validation set (RandomForest)"
   ]
  },
  {
   "cell_type": "code",
   "execution_count": 42,
   "metadata": {},
   "outputs": [
    {
     "name": "stdout",
     "output_type": "stream",
     "text": [
      "Random Forest RMSE = 7.936162\n"
     ]
    },
    {
     "data": {
      "text/html": [
       "\n",
       "        <script>\n",
       "            function code_toggle_4716263029882890340() {\n",
       "                $('div.cell.code_cell.rendered.selected').find('div.input').toggle();\n",
       "            }\n",
       "\n",
       "            \n",
       "        </script>\n",
       "\n",
       "        <a href=\"javascript:code_toggle_4716263029882890340()\">Toggle show/hide upper code</a>\n",
       "    "
      ],
      "text/plain": [
       "<IPython.core.display.HTML object>"
      ]
     },
     "execution_count": 42,
     "metadata": {},
     "output_type": "execute_result"
    }
   ],
   "source": [
    "# Predict using the RandomForest model\n",
    "model = RandomForestRegressor(n_estimators = 50, min_samples_split = 10, min_samples_leaf = 1, max_features = 'sqrt', max_depth = 100, bootstrap = False)\n",
    "model.fit(X, y)\n",
    "prediction_longitude = model.predict(X_val)\n",
    "\n",
    "\n",
    "# Evaluate the predictions\n",
    "print('Random Forest RMSE = %f' % (sqrt(metrics.mean_squared_error(Y_val, prediction_longitude))))\n",
    "\n",
    "\n",
    "# Save the RSME of the latitude\n",
    "RMSE_longitude = sqrt(metrics.mean_squared_error(Y_val, prediction_longitude))\n",
    "\n",
    "hide_toggle()"
   ]
  },
  {
   "cell_type": "markdown",
   "metadata": {},
   "source": [
    "The Random forest model gives a better result on the validation test, thus it is the one that will be used."
   ]
  },
  {
   "cell_type": "markdown",
   "metadata": {},
   "source": [
    "## <a class=\"anchor\" id=\"Results\"> 4. Results </a>"
   ]
  },
  {
   "cell_type": "markdown",
   "metadata": {},
   "source": [
    "### Building accuracy"
   ]
  },
  {
   "cell_type": "code",
   "execution_count": 43,
   "metadata": {},
   "outputs": [
    {
     "name": "stdout",
     "output_type": "stream",
     "text": [
      "The accuracy of the building prediction is: 100.00%\n"
     ]
    },
    {
     "data": {
      "text/html": [
       "\n",
       "        <script>\n",
       "            function code_toggle_8476968591827151606() {\n",
       "                $('div.cell.code_cell.rendered.selected').find('div.input').toggle();\n",
       "            }\n",
       "\n",
       "            \n",
       "        </script>\n",
       "\n",
       "        <a href=\"javascript:code_toggle_8476968591827151606()\">Toggle show/hide upper code</a>\n",
       "    "
      ],
      "text/plain": [
       "<IPython.core.display.HTML object>"
      ]
     },
     "execution_count": 43,
     "metadata": {},
     "output_type": "execute_result"
    }
   ],
   "source": [
    "print('The accuracy of the building prediction is: %.2f' % (accuracy_building*100) + '%')\n",
    "\n",
    "hide_toggle()"
   ]
  },
  {
   "cell_type": "markdown",
   "metadata": {},
   "source": [
    "### Floor accuracy"
   ]
  },
  {
   "cell_type": "code",
   "execution_count": 44,
   "metadata": {},
   "outputs": [
    {
     "name": "stdout",
     "output_type": "stream",
     "text": [
      "The accuracy of the floor prediction is: 95.14%\n"
     ]
    },
    {
     "data": {
      "text/html": [
       "\n",
       "        <script>\n",
       "            function code_toggle_12107969889808085786() {\n",
       "                $('div.cell.code_cell.rendered.selected').find('div.input').toggle();\n",
       "            }\n",
       "\n",
       "            \n",
       "        </script>\n",
       "\n",
       "        <a href=\"javascript:code_toggle_12107969889808085786()\">Toggle show/hide upper code</a>\n",
       "    "
      ],
      "text/plain": [
       "<IPython.core.display.HTML object>"
      ]
     },
     "execution_count": 44,
     "metadata": {},
     "output_type": "execute_result"
    }
   ],
   "source": [
    "print('The accuracy of the floor prediction is: %.2f' % (accuracy_floor*100) + '%')\n",
    "\n",
    "hide_toggle()"
   ]
  },
  {
   "cell_type": "markdown",
   "metadata": {},
   "source": [
    "### Latitude RMSE"
   ]
  },
  {
   "cell_type": "code",
   "execution_count": 45,
   "metadata": {},
   "outputs": [
    {
     "name": "stdout",
     "output_type": "stream",
     "text": [
      "The RMSE of the latitud prediction is: 7.21\n"
     ]
    },
    {
     "data": {
      "text/html": [
       "\n",
       "        <script>\n",
       "            function code_toggle_3862504697031605436() {\n",
       "                $('div.cell.code_cell.rendered.selected').find('div.input').toggle();\n",
       "            }\n",
       "\n",
       "            \n",
       "        </script>\n",
       "\n",
       "        <a href=\"javascript:code_toggle_3862504697031605436()\">Toggle show/hide upper code</a>\n",
       "    "
      ],
      "text/plain": [
       "<IPython.core.display.HTML object>"
      ]
     },
     "execution_count": 45,
     "metadata": {},
     "output_type": "execute_result"
    }
   ],
   "source": [
    "print('The RMSE of the latitude prediction is: %.2f' % (RMSE_latitude))\n",
    "\n",
    "hide_toggle()"
   ]
  },
  {
   "cell_type": "markdown",
   "metadata": {},
   "source": [
    "### Longitude RMSE"
   ]
  },
  {
   "cell_type": "code",
   "execution_count": 46,
   "metadata": {},
   "outputs": [
    {
     "name": "stdout",
     "output_type": "stream",
     "text": [
      "The RMSE of the longitude prediction is: 7.94\n"
     ]
    },
    {
     "data": {
      "text/html": [
       "\n",
       "        <script>\n",
       "            function code_toggle_13088977673770162681() {\n",
       "                $('div.cell.code_cell.rendered.selected').find('div.input').toggle();\n",
       "            }\n",
       "\n",
       "            \n",
       "        </script>\n",
       "\n",
       "        <a href=\"javascript:code_toggle_13088977673770162681()\">Toggle show/hide upper code</a>\n",
       "    "
      ],
      "text/plain": [
       "<IPython.core.display.HTML object>"
      ]
     },
     "execution_count": 46,
     "metadata": {},
     "output_type": "execute_result"
    }
   ],
   "source": [
    "print('The RMSE of the longitude prediction is: %.2f' % (RMSE_longitude))\n",
    "\n",
    "hide_toggle()"
   ]
  },
  {
   "cell_type": "markdown",
   "metadata": {},
   "source": [
    "## Final error formula"
   ]
  },
  {
   "cell_type": "markdown",
   "metadata": {},
   "source": [
    "The metric used for the final error formula is the third quartile (75th percentile) of the error in all test samples."
   ]
  },
  {
   "cell_type": "code",
   "execution_count": 49,
   "metadata": {},
   "outputs": [
    {
     "name": "stdout",
     "output_type": "stream",
     "text": [
      "Final error: 10.385804\n"
     ]
    },
    {
     "data": {
      "text/html": [
       "\n",
       "        <script>\n",
       "            function code_toggle_15551350610067090405() {\n",
       "                $('div.cell.code_cell.rendered.selected').find('div.input').toggle();\n",
       "            }\n",
       "\n",
       "            \n",
       "        </script>\n",
       "\n",
       "        <a href=\"javascript:code_toggle_15551350610067090405()\">Toggle show/hide upper code</a>\n",
       "    "
      ],
      "text/plain": [
       "<IPython.core.display.HTML object>"
      ]
     },
     "execution_count": 49,
     "metadata": {},
     "output_type": "execute_result"
    }
   ],
   "source": [
    "# Calculate the Euclidian distance between prediction and actual value (assuming flat earth)\n",
    "distance_squared = (df_val['LATITUDE'] - prediction_latitude)**2 + (df_val['LONGITUDE'] - prediction_longitude)**2\n",
    "distance_root = distance_squared.apply(lambda x: sqrt(x))\n",
    "# Calculate penalyty for misclassifying floor\n",
    "floor = np.abs(df_val['FLOOR'] - prediction_floor) * 4\n",
    "# Calculate penalyty for misclassifying building\n",
    "building = (df_val['BUILDINGID'] != prediction_building) * 50\n",
    "\n",
    "\n",
    "# Calculate final score using distance, floor, and building\n",
    "distance_75 = np.percentile(distance_root + floor + building, 75)\n",
    "print('Final error: %f' % distance_75)\n",
    "\n",
    "hide_toggle()"
   ]
  }
 ],
 "metadata": {
  "hide_input": false,
  "kernelspec": {
   "display_name": "Python 3",
   "language": "python",
   "name": "python3"
  },
  "language_info": {
   "codemirror_mode": {
    "name": "ipython",
    "version": 3
   },
   "file_extension": ".py",
   "mimetype": "text/x-python",
   "name": "python",
   "nbconvert_exporter": "python",
   "pygments_lexer": "ipython3",
   "version": "3.7.4"
  },
  "toc": {
   "base_numbering": 1,
   "nav_menu": {},
   "number_sections": true,
   "sideBar": true,
   "skip_h1_title": true,
   "title_cell": "Table of Contents",
   "title_sidebar": "Contents",
   "toc_cell": false,
   "toc_position": {},
   "toc_section_display": true,
   "toc_window_display": false
  },
  "varInspector": {
   "cols": {
    "lenName": 16,
    "lenType": 16,
    "lenVar": 40
   },
   "kernels_config": {
    "python": {
     "delete_cmd_postfix": "",
     "delete_cmd_prefix": "del ",
     "library": "var_list.py",
     "varRefreshCmd": "print(var_dic_list())"
    },
    "r": {
     "delete_cmd_postfix": ") ",
     "delete_cmd_prefix": "rm(",
     "library": "var_list.r",
     "varRefreshCmd": "cat(var_dic_list()) "
    }
   },
   "types_to_exclude": [
    "module",
    "function",
    "builtin_function_or_method",
    "instance",
    "_Feature"
   ],
   "window_display": false
  }
 },
 "nbformat": 4,
 "nbformat_minor": 2
}
